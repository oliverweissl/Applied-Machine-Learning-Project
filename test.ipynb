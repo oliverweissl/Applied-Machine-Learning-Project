{
 "cells": [
  {
   "cell_type": "code",
   "execution_count": 1,
   "id": "initial_id",
   "metadata": {
    "collapsed": true,
    "ExecuteTime": {
     "end_time": "2023-11-18T11:32:24.079646900Z",
     "start_time": "2023-11-18T11:32:18.240630800Z"
    }
   },
   "outputs": [],
   "source": [
    "import pandas as pd\n",
    "from models import base_res_net\n",
    "import tensorflow as tf\n",
    "from tensorflow import keras\n",
    "import tensorflow.compat.v1 as tfc\n",
    "\n",
    "from src import InputPipeline\n",
    "\n",
    "%load_ext autoreload\n",
    "%autoreload 2"
   ]
  },
  {
   "cell_type": "markdown",
   "source": [
    "## Check GPU for tf"
   ],
   "metadata": {
    "collapsed": false
   },
   "id": "627a750892efbdf9"
  },
  {
   "cell_type": "code",
   "execution_count": 2,
   "outputs": [],
   "source": [
    "# Some GPU setup\n",
    "# for documentation about using gpus referto: https://www.tensorflow.org/install/pip#windows-wsl2\n",
    "\n",
    "tf.keras.backend.clear_session()\n",
    "\n",
    "device_name = tf.test.gpu_device_name()\n",
    "if not device_name:\n",
    "  raise SystemError('GPU device not found')\n",
    "try:  # prevent a previous session from being alive\n",
    "  sess.close() \n",
    "except:\n",
    "  pass\n",
    "\n",
    "tfc.enable_eager_execution()\n",
    "gpu_options= tfc.GPUOptions(per_process_gpu_memory_fraction = 0.8)\n",
    "sess = tfc.InteractiveSession(config=tfc.ConfigProto(gpu_options=gpu_options))"
   ],
   "metadata": {
    "collapsed": false,
    "ExecuteTime": {
     "end_time": "2023-11-18T11:32:25.042962600Z",
     "start_time": "2023-11-18T11:32:24.079646900Z"
    }
   },
   "id": "20f7764292bb4e8f"
  },
  {
   "cell_type": "code",
   "execution_count": 3,
   "outputs": [],
   "source": [
    "train_df = pd.read_csv(\"data/train_images.csv\")"
   ],
   "metadata": {
    "collapsed": false,
    "ExecuteTime": {
     "end_time": "2023-11-18T11:32:25.357866200Z",
     "start_time": "2023-11-18T11:32:25.044964300Z"
    }
   },
   "id": "dbbeb2f7c31d69b5"
  },
  {
   "cell_type": "markdown",
   "source": [
    "## Configure Model"
   ],
   "metadata": {
    "collapsed": false
   },
   "id": "cabc5747ca16eb86"
  },
  {
   "cell_type": "code",
   "execution_count": 55,
   "outputs": [],
   "source": [
    "INPUT_SHAPE = (218,218,3)\n",
    "\n",
    "CONF = {\n",
    "  \"learning_rate\": 0.001,\n",
    "  \"batch_size\": 32,\n",
    "  \"epochs\": 50,\n",
    "  \"input_width\": INPUT_SHAPE[0],\n",
    "  \"input_height\": INPUT_SHAPE[1],\n",
    "  \"loss_function\": \"sparse_categorical_crossentropy\",\n",
    "}"
   ],
   "metadata": {
    "collapsed": false,
    "ExecuteTime": {
     "end_time": "2023-11-18T11:56:27.861444700Z",
     "start_time": "2023-11-18T11:56:27.311441Z"
    }
   },
   "id": "b925aeaf5dd5bc8a"
  },
  {
   "cell_type": "code",
   "execution_count": 56,
   "outputs": [
    {
     "name": "stdout",
     "output_type": "stream",
     "text": [
      "Model: \"model_2\"\n",
      "__________________________________________________________________________________________________\n",
      " Layer (type)                   Output Shape         Param #     Connected to                     \n",
      "==================================================================================================\n",
      " input_3 (InputLayer)           [(None, 218, 218, 3  0           []                               \n",
      "                                )]                                                                \n",
      "                                                                                                  \n",
      " sequential_2 (Sequential)      (None, 218, 218, 3)  0           ['input_3[0][0]']                \n",
      "                                                                                                  \n",
      " conv2d_10 (Conv2D)             (None, 109, 109, 16  448         ['sequential_2[0][0]']           \n",
      "                                )                                                                 \n",
      "                                                                                                  \n",
      " batch_normalization_16 (BatchN  (None, 109, 109, 16  64         ['conv2d_10[0][0]']              \n",
      " ormalization)                  )                                                                 \n",
      "                                                                                                  \n",
      " conv2d_11 (Conv2D)             (None, 109, 109, 32  4640        ['batch_normalization_16[0][0]'] \n",
      "                                )                                                                 \n",
      "                                                                                                  \n",
      " batch_normalization_17 (BatchN  (None, 109, 109, 32  128        ['conv2d_11[0][0]']              \n",
      " ormalization)                  )                                                                 \n",
      "                                                                                                  \n",
      " conv2d_12 (Conv2D)             (None, 109, 109, 32  9248        ['batch_normalization_17[0][0]'] \n",
      "                                )                                                                 \n",
      "                                                                                                  \n",
      " batch_normalization_18 (BatchN  (None, 109, 109, 32  128        ['conv2d_12[0][0]']              \n",
      " ormalization)                  )                                                                 \n",
      "                                                                                                  \n",
      " dropout_6 (Dropout)            (None, 109, 109, 32  0           ['batch_normalization_18[0][0]'] \n",
      "                                )                                                                 \n",
      "                                                                                                  \n",
      " separable_conv2d_10 (Separable  (None, 109, 109, 64  2400       ['dropout_6[0][0]']              \n",
      " Conv2D)                        )                                                                 \n",
      "                                                                                                  \n",
      " batch_normalization_19 (BatchN  (None, 109, 109, 64  256        ['separable_conv2d_10[0][0]']    \n",
      " ormalization)                  )                                                                 \n",
      "                                                                                                  \n",
      " separable_conv2d_11 (Separable  (None, 109, 109, 64  4736       ['batch_normalization_19[0][0]'] \n",
      " Conv2D)                        )                                                                 \n",
      "                                                                                                  \n",
      " batch_normalization_20 (BatchN  (None, 109, 109, 64  256        ['separable_conv2d_11[0][0]']    \n",
      " ormalization)                  )                                                                 \n",
      "                                                                                                  \n",
      " max_pooling2d_6 (MaxPooling2D)  (None, 55, 55, 64)  0           ['batch_normalization_20[0][0]'] \n",
      "                                                                                                  \n",
      " conv2d_13 (Conv2D)             (None, 55, 55, 64)   2112        ['dropout_6[0][0]']              \n",
      "                                                                                                  \n",
      " add_4 (Add)                    (None, 55, 55, 64)   0           ['max_pooling2d_6[0][0]',        \n",
      "                                                                  'conv2d_13[0][0]']              \n",
      "                                                                                                  \n",
      " dropout_7 (Dropout)            (None, 55, 55, 64)   0           ['add_4[0][0]']                  \n",
      "                                                                                                  \n",
      " separable_conv2d_12 (Separable  (None, 55, 55, 72)  5256        ['dropout_7[0][0]']              \n",
      " Conv2D)                                                                                          \n",
      "                                                                                                  \n",
      " batch_normalization_21 (BatchN  (None, 55, 55, 72)  288         ['separable_conv2d_12[0][0]']    \n",
      " ormalization)                                                                                    \n",
      "                                                                                                  \n",
      " separable_conv2d_13 (Separable  (None, 55, 55, 72)  5904        ['batch_normalization_21[0][0]'] \n",
      " Conv2D)                                                                                          \n",
      "                                                                                                  \n",
      " batch_normalization_22 (BatchN  (None, 55, 55, 72)  288         ['separable_conv2d_13[0][0]']    \n",
      " ormalization)                                                                                    \n",
      "                                                                                                  \n",
      " max_pooling2d_7 (MaxPooling2D)  (None, 28, 28, 72)  0           ['batch_normalization_22[0][0]'] \n",
      "                                                                                                  \n",
      " conv2d_14 (Conv2D)             (None, 28, 28, 72)   4680        ['dropout_7[0][0]']              \n",
      "                                                                                                  \n",
      " add_5 (Add)                    (None, 28, 28, 72)   0           ['max_pooling2d_7[0][0]',        \n",
      "                                                                  'conv2d_14[0][0]']              \n",
      "                                                                                                  \n",
      " dropout_8 (Dropout)            (None, 28, 28, 72)   0           ['add_5[0][0]']                  \n",
      "                                                                                                  \n",
      " separable_conv2d_14 (Separable  (None, 28, 28, 128)  9992       ['dropout_8[0][0]']              \n",
      " Conv2D)                                                                                          \n",
      "                                                                                                  \n",
      " batch_normalization_23 (BatchN  (None, 28, 28, 128)  512        ['separable_conv2d_14[0][0]']    \n",
      " ormalization)                                                                                    \n",
      "                                                                                                  \n",
      " max_pooling2d_8 (MaxPooling2D)  (None, 14, 14, 128)  0          ['batch_normalization_23[0][0]'] \n",
      "                                                                                                  \n",
      " flatten_2 (Flatten)            (None, 25088)        0           ['max_pooling2d_8[0][0]']        \n",
      "                                                                                                  \n",
      " dense_2 (Dense)                (None, 200)          5017800     ['flatten_2[0][0]']              \n",
      "                                                                                                  \n",
      "==================================================================================================\n",
      "Total params: 5,069,136\n",
      "Trainable params: 5,068,176\n",
      "Non-trainable params: 960\n",
      "__________________________________________________________________________________________________\n"
     ]
    }
   ],
   "source": [
    "base_model = base_res_net(INPUT_SHAPE, len(train_df[\"label\"].unique()))\n",
    "base_model.summary()"
   ],
   "metadata": {
    "collapsed": false,
    "ExecuteTime": {
     "end_time": "2023-11-18T11:56:28.950456900Z",
     "start_time": "2023-11-18T11:56:27.914451500Z"
    }
   },
   "id": "cd823f427852f903"
  },
  {
   "cell_type": "markdown",
   "source": [
    "## Make Input Pipeline"
   ],
   "metadata": {
    "collapsed": false
   },
   "id": "a9d757ac727bb83d"
  },
  {
   "cell_type": "code",
   "execution_count": 57,
   "outputs": [
    {
     "name": "stdout",
     "output_type": "stream",
     "text": [
      "Found 3926 files belonging to 200 classes.\n",
      "Using 3141 files for training.\n",
      "Using 785 files for validation.\n",
      "Datasets populated!\n"
     ]
    }
   ],
   "source": [
    "input_pipeline = InputPipeline(splits=(0.8,0.0,0.2), channels=3, batch_size=CONF[\"batch_size\"], size=INPUT_SHAPE[:2])\n",
    "input_pipeline.make_train_datasets(directory=\"data/train_images/train_images\")"
   ],
   "metadata": {
    "collapsed": false,
    "ExecuteTime": {
     "end_time": "2023-11-18T11:56:29.737446900Z",
     "start_time": "2023-11-18T11:56:28.833444Z"
    }
   },
   "id": "7b661b3ee9ebcaac"
  },
  {
   "cell_type": "markdown",
   "source": [],
   "metadata": {
    "collapsed": false
   },
   "id": "e618d634d76994"
  },
  {
   "cell_type": "markdown",
   "source": [
    "## Modeling"
   ],
   "metadata": {
    "collapsed": false
   },
   "id": "ac46ea2dd7c43927"
  },
  {
   "cell_type": "code",
   "execution_count": 58,
   "outputs": [],
   "source": [
    "cached_train, cached_val = input_pipeline.get_cached_train_datasets()"
   ],
   "metadata": {
    "collapsed": false,
    "ExecuteTime": {
     "end_time": "2023-11-18T11:56:31.498352800Z",
     "start_time": "2023-11-18T11:56:31.126356400Z"
    }
   },
   "id": "cb7d66f05ef541bf"
  },
  {
   "cell_type": "code",
   "execution_count": 59,
   "outputs": [],
   "source": [
    "callback = tf.keras.callbacks.EarlyStopping(monitor='val_loss', patience=3)\n",
    "base_model.compile(loss=CONF[\"loss_function\"],\n",
    "             optimizer=keras.optimizers.Adam(CONF[\"learning_rate\"]),\n",
    "             metrics=['categorical_accuracy'],\n",
    "            )"
   ],
   "metadata": {
    "collapsed": false,
    "ExecuteTime": {
     "end_time": "2023-11-18T11:56:32.093432800Z",
     "start_time": "2023-11-18T11:56:31.686397400Z"
    }
   },
   "id": "485b933ee8f42963"
  },
  {
   "cell_type": "code",
   "execution_count": null,
   "outputs": [
    {
     "name": "stdout",
     "output_type": "stream",
     "text": [
      "Epoch 1/50\n",
      "WARNING:tensorflow:Using a while_loop for converting RngReadAndSkip cause there is no registered converter for this op.\n",
      "WARNING:tensorflow:Using a while_loop for converting Bitcast cause there is no registered converter for this op.\n",
      "WARNING:tensorflow:Using a while_loop for converting Bitcast cause there is no registered converter for this op.\n",
      "WARNING:tensorflow:Using a while_loop for converting StatelessRandomUniformV2 cause there is no registered converter for this op.\n",
      "WARNING:tensorflow:Using a while_loop for converting ImageProjectiveTransformV3 cause there is no registered converter for this op.\n",
      "WARNING:tensorflow:Using a while_loop for converting RngReadAndSkip cause there is no registered converter for this op.\n",
      "WARNING:tensorflow:Using a while_loop for converting Bitcast cause there is no registered converter for this op.\n",
      "WARNING:tensorflow:Using a while_loop for converting Bitcast cause there is no registered converter for this op.\n",
      "WARNING:tensorflow:Using a while_loop for converting StatelessRandomUniformV2 cause there is no registered converter for this op.\n",
      "WARNING:tensorflow:Using a while_loop for converting ImageProjectiveTransformV3 cause there is no registered converter for this op.\n",
      "99/99 [==============================] - 43s 364ms/step - loss: 21.4838 - categorical_accuracy: 0.0115 - val_loss: 6.6386 - val_categorical_accuracy: 0.0000e+00\n",
      "Epoch 2/50\n",
      "99/99 [==============================] - 31s 311ms/step - loss: 15.1652 - categorical_accuracy: 0.0280 - val_loss: 11.0211 - val_categorical_accuracy: 0.0000e+00\n",
      "Epoch 3/50\n",
      "99/99 [==============================] - 31s 318ms/step - loss: 14.7179 - categorical_accuracy: 0.0111 - val_loss: 11.6089 - val_categorical_accuracy: 0.0000e+00\n",
      "Epoch 4/50\n",
      "61/99 [=================>............] - ETA: 11s - loss: 12.6257 - categorical_accuracy: 0.0118"
     ]
    }
   ],
   "source": [
    "base_model.fit(cached_train, epochs=CONF[\"epochs\"], validation_data=cached_val,callbacks=[callback],)"
   ],
   "metadata": {
    "collapsed": false,
    "is_executing": true,
    "ExecuteTime": {
     "start_time": "2023-11-18T11:56:32.775316700Z"
    }
   },
   "id": "c2e7fc57bf6aaf29"
  },
  {
   "cell_type": "code",
   "execution_count": 14,
   "outputs": [
    {
     "name": "stdout",
     "output_type": "stream",
     "text": [
      "Found 4000 files belonging to 1 classes.\n"
     ]
    }
   ],
   "source": [
    "input_pipeline.make_test_dataset(\"data/test_images\")\n",
    "test_ds = input_pipeline.get_cached_test_datasets()"
   ],
   "metadata": {
    "collapsed": false,
    "ExecuteTime": {
     "end_time": "2023-11-18T11:41:09.320656800Z",
     "start_time": "2023-11-18T11:41:08.311536100Z"
    }
   },
   "id": "d3d9a905bb9fc8aa"
  },
  {
   "cell_type": "code",
   "execution_count": 17,
   "outputs": [
    {
     "name": "stdout",
     "output_type": "stream",
     "text": [
      "42/42 [==============================] - 3s 61ms/step\n"
     ]
    }
   ],
   "source": [
    "pred = base_model.predict(test_ds)"
   ],
   "metadata": {
    "collapsed": false,
    "ExecuteTime": {
     "end_time": "2023-11-18T11:42:51.948511600Z",
     "start_time": "2023-11-18T11:42:49.098714300Z"
    }
   },
   "id": "db38b42bf016060d"
  },
  {
   "cell_type": "code",
   "execution_count": 45,
   "outputs": [],
   "source": [
    "pred_df=pd.DataFrame(pred)\n",
    "test_df = pd.read_csv(\"data/test_images_sample.csv\", index_col=\"id\")\n",
    "test_df[\"label\"] = list(pred_df.idxmax(axis=1))"
   ],
   "metadata": {
    "collapsed": false,
    "ExecuteTime": {
     "end_time": "2023-11-18T11:52:23.378434Z",
     "start_time": "2023-11-18T11:52:23.021434Z"
    }
   },
   "id": "8e55b8b974f6bc35"
  },
  {
   "cell_type": "code",
   "execution_count": 46,
   "outputs": [],
   "source": [
    "test_df.to_csv(\"data/test_images_sample.csv\")"
   ],
   "metadata": {
    "collapsed": false,
    "ExecuteTime": {
     "end_time": "2023-11-18T11:52:24.236297800Z",
     "start_time": "2023-11-18T11:52:23.919293Z"
    }
   },
   "id": "e8a3ee5b57efeae7"
  },
  {
   "cell_type": "code",
   "execution_count": null,
   "outputs": [],
   "source": [],
   "metadata": {
    "collapsed": false
   },
   "id": "cc56b1cb55ea311b"
  }
 ],
 "metadata": {
  "kernelspec": {
   "display_name": "Python 3",
   "language": "python",
   "name": "python3"
  },
  "language_info": {
   "codemirror_mode": {
    "name": "ipython",
    "version": 2
   },
   "file_extension": ".py",
   "mimetype": "text/x-python",
   "name": "python",
   "nbconvert_exporter": "python",
   "pygments_lexer": "ipython2",
   "version": "2.7.6"
  }
 },
 "nbformat": 4,
 "nbformat_minor": 5
}
