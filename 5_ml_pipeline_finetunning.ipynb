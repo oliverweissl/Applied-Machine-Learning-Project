{
 "cells": [
  {
   "cell_type": "code",
   "execution_count": 1,
   "id": "initial_id",
   "metadata": {
    "ExecuteTime": {
     "end_time": "2023-11-29T12:36:43.287386200Z",
     "start_time": "2023-11-29T12:36:42.812395800Z"
    }
   },
   "outputs": [],
   "source": [
    "import pandas as pd\n",
    "from models import base_res_net, small_res_net, efficient_net, pretrained_mobilenet, big_model, xception_net\n",
    "import tensorflow as tf\n",
    "import tensorflow.compat.v1 as tfc\n",
    "from sklearn.utils.class_weight import compute_class_weight\n",
    "\n",
    "import random\n",
    "from modeling import predict, predict_from_csv, prob_predict, stack_predictions\n",
    "from src import InputPipeline\n",
    "\n",
    "%load_ext autoreload\n",
    "%autoreload 2"
   ]
  },
  {
   "cell_type": "markdown",
   "id": "627a750892efbdf9",
   "metadata": {
    "collapsed": false,
    "jupyter": {
     "outputs_hidden": false
    }
   },
   "source": [
    "## Check GPU for tf"
   ]
  },
  {
   "cell_type": "code",
   "execution_count": 2,
   "id": "20f7764292bb4e8f",
   "metadata": {
    "ExecuteTime": {
     "end_time": "2023-11-29T12:36:45.676059200Z",
     "start_time": "2023-11-29T12:36:43.381060200Z"
    },
    "collapsed": false,
    "jupyter": {
     "outputs_hidden": false
    }
   },
   "outputs": [],
   "source": [
    "# Some GPU setup\n",
    "# for documentation about using gpus refer to: https://www.tensorflow.org/install/pip#windows-wsl2\n",
    "\n",
    "tf.keras.backend.clear_session()\n",
    "\n",
    "device_name = tf.test.gpu_device_name()\n",
    "if not device_name:\n",
    "  raise SystemError('GPU device not found')\n",
    "try:  # prevent a previous session from being alive\n",
    "  sess.close() \n",
    "except:\n",
    "  pass\n",
    "\n",
    "tfc.enable_eager_execution()\n",
    "gpu_options= tfc.GPUOptions(per_process_gpu_memory_fraction = 0.80)\n",
    "sess = tfc.InteractiveSession(config=tfc.ConfigProto(gpu_options=gpu_options))"
   ]
  },
  {
   "cell_type": "markdown",
   "id": "2bd6fa03166027bf",
   "metadata": {
    "collapsed": false,
    "jupyter": {
     "outputs_hidden": false
    }
   },
   "source": [
    "### Optional Stuff\n",
    "- Here we compute classweights since the data is very imbalanced"
   ]
  },
  {
   "cell_type": "code",
   "execution_count": 3,
   "id": "dbbeb2f7c31d69b5",
   "metadata": {
    "ExecuteTime": {
     "end_time": "2023-11-29T11:00:10.526091500Z",
     "start_time": "2023-11-29T11:00:10.133093200Z"
    },
    "collapsed": false,
    "jupyter": {
     "outputs_hidden": false
    }
   },
   "outputs": [],
   "source": [
    "train_df = pd.read_csv(\"./data/train_images_stratified.csv\")"
   ]
  },
  {
   "cell_type": "code",
   "execution_count": 4,
   "id": "77c9b74db259162b",
   "metadata": {
    "ExecuteTime": {
     "end_time": "2023-11-29T11:00:10.939616900Z",
     "start_time": "2023-11-29T11:00:10.530101700Z"
    },
    "collapsed": false,
    "jupyter": {
     "outputs_hidden": false
    }
   },
   "outputs": [],
   "source": [
    "class_weights = compute_class_weight(class_weight = 'balanced', classes = train_df[\"label\"].unique(), y=train_df[\"label\"])\n",
    "class_weights = dict(enumerate(class_weights))"
   ]
  },
  {
   "cell_type": "markdown",
   "id": "cabc5747ca16eb86",
   "metadata": {
    "collapsed": false,
    "jupyter": {
     "outputs_hidden": false
    }
   },
   "source": [
    "## Configure Parameters"
   ]
  },
  {
   "cell_type": "code",
   "execution_count": 18,
   "id": "b925aeaf5dd5bc8a",
   "metadata": {
    "ExecuteTime": {
     "end_time": "2023-11-29T11:00:11.288608100Z",
     "start_time": "2023-11-29T11:00:10.943615500Z"
    },
    "collapsed": false,
    "jupyter": {
     "outputs_hidden": false
    }
   },
   "outputs": [],
   "source": [
    "#INPUT_SHAPE = (220,220,3)\n",
    "INPUT_SHAPE = (220, 220,3)\n",
    "\n",
    "CONF = {\n",
    "  \"learning_rate\": 0.001,\n",
    "  \"batch_size\": 32,\n",
    "  \"epochs\": 4,\n",
    "  \"loss_function\": \"sparse_categorical_crossentropy\",\n",
    "  \"metric\": \"sparse_categorical_accuracy\",\n",
    "}"
   ]
  },
  {
   "cell_type": "markdown",
   "id": "a9d757ac727bb83d",
   "metadata": {
    "collapsed": false,
    "jupyter": {
     "outputs_hidden": false
    }
   },
   "source": [
    "## Make Input Pipelines"
   ]
  },
  {
   "cell_type": "code",
   "execution_count": 19,
   "id": "7b661b3ee9ebcaac",
   "metadata": {
    "ExecuteTime": {
     "end_time": "2023-11-29T11:00:13.551720300Z",
     "start_time": "2023-11-29T11:00:11.293613500Z"
    },
    "collapsed": false,
    "jupyter": {
     "outputs_hidden": false
    }
   },
   "outputs": [
    {
     "name": "stdout",
     "output_type": "stream",
     "text": [
      "Datasets populated!\n",
      "Found 3926 files belonging to 70 classes.\n",
      "Using 3338 files for training.\n",
      "Using 588 files for validation.\n",
      "Datasets populated!\n"
     ]
    }
   ],
   "source": [
    "# Input pipeline for subspecies\n",
    "sub_species_input_pipeline = InputPipeline(splits=(0.8,0.0,0.2), channels=3, batch_size=CONF[\"batch_size\"], size=INPUT_SHAPE[:2])\n",
    "# This has a stratified split\n",
    "sub_species_input_pipeline.make_stratified_train_dataset(\n",
    "  train_ds_path= \"./data/train_ds_images_stratified.csv\",\n",
    "  val_ds_path=\"./data/val_ds_images_stratified.csv\",\n",
    ")\n",
    "\n",
    "\n",
    "# Input pipeline for species\n",
    "species_input_pipeline = InputPipeline(splits=(0.85,0.0,0.15), channels=3, batch_size=CONF[\"batch_size\"], size=INPUT_SHAPE[:2])\n",
    "species_input_pipeline.make_train_datasets(directory=\"./data/train_images/species_classify\")  # This doesnt have a stratified split\n"
   ]
  },
  {
   "cell_type": "markdown",
   "id": "ac46ea2dd7c43927",
   "metadata": {
    "collapsed": false,
    "jupyter": {
     "outputs_hidden": false
    }
   },
   "source": [
    "## Training a Model"
   ]
  },
  {
   "cell_type": "code",
   "execution_count": 20,
   "id": "b9799619-99a3-4e78-adf3-0a5a8b48d17a",
   "metadata": {},
   "outputs": [],
   "source": [
    "num_classes = 200"
   ]
  },
  {
   "cell_type": "code",
   "execution_count": 21,
   "id": "8a4909e4-bfa5-4ab5-8872-eb824a08ae43",
   "metadata": {},
   "outputs": [],
   "source": [
    "import tensorflow as tf\n",
    "#from tensorflow.keras import layers\n",
    "from tensorflow import keras\n",
    "from tensorflow.keras.regularizers import l2, l1\n",
    "from typing import Any, Callable\n",
    "import tensorflow as tf\n",
    "import pickle\n",
    "import os\n",
    "\n",
    "# base_model = keras.applications.Xception(include_top=False, \n",
    "#                                         weights=\"imagenet\",\n",
    "#                                         input_shape=INPUT_SHAPE,\n",
    "#                                         pooling='max')\n",
    "\n",
    "# base_model = tf.keras.applications.efficientnet_v2.EfficientNetV2B3(include_top=False, \n",
    "#                                                                     weights=\"imagenet\",\n",
    "#                                                                     input_shape=INPUT_SHAPE,\n",
    "#                                                                     pooling='max')\n",
    "\n",
    "base_model = tf.keras.applications.NASNetMobile(include_top=False, \n",
    "                                                weights=\"imagenet\",\n",
    "                                                input_shape=INPUT_SHAPE,\n",
    "                                                pooling='max',\n",
    "                                              )\n",
    "base_model.trainable = False\n",
    "\n",
    "inputs = keras.Input(shape=INPUT_SHAPE)\n",
    "\n",
    "x = keras.applications.nasnet.preprocess_input(inputs)\n",
    "\n",
    "x = base_model(x, training=False)\n",
    "\n",
    "x = keras.layers.BatchNormalization(axis=-1, momentum=0.99, epsilon=0.001)(x)\n",
    "x = keras.layers.Dense(256, kernel_regularizer=l2(l=0.016), activity_regularizer=l1(0.006),\n",
    "                        bias_regularizer=l1(0.006), activation='relu')(x)\n",
    "x = keras.layers.Dropout(rate=0.45, seed=123)(x)\n",
    "outputs = keras.layers.Dense(num_classes, activation='softmax')(x)\n",
    "\n",
    "subspecies_model = keras.Model(inputs, outputs)"
   ]
  },
  {
   "cell_type": "code",
   "execution_count": 22,
   "id": "94567c45-c67f-4787-9857-e0b92503c37a",
   "metadata": {},
   "outputs": [],
   "source": [
    "callback_ES = tf.keras.callbacks.EarlyStopping(monitor='val_loss', patience=3, restore_best_weights=True)\n",
    "callback_LR = keras.callbacks.ReduceLROnPlateau(monitor=\"val_loss\", factor=0.1, patience=10)\n",
    "\n",
    "subspecies_model.compile(\n",
    "    loss=CONF[\"loss_function\"],\n",
    "    optimizer=keras.optimizers.Adam(CONF[\"learning_rate\"]),\n",
    "    metrics=CONF[\"metric\"],\n",
    ")"
   ]
  },
  {
   "cell_type": "code",
   "execution_count": 23,
   "id": "20f5cfae-43bf-4670-a5ea-ef8e716481a6",
   "metadata": {},
   "outputs": [
    {
     "name": "stdout",
     "output_type": "stream",
     "text": [
      "Model: \"model_1\"\n",
      "____________________________________________________________________________\n",
      " Layer (type)                Output Shape              Param #   Trainable  \n",
      "============================================================================\n",
      " input_4 (InputLayer)        [(None, 220, 220, 3)]     0         Y          \n",
      "                                                                            \n",
      " tf.math.truediv_1 (TFOpLamb  (None, 220, 220, 3)      0         Y          \n",
      " da)                                                                        \n",
      "                                                                            \n",
      " tf.math.subtract_1 (TFOpLam  (None, 220, 220, 3)      0         Y          \n",
      " bda)                                                                       \n",
      "                                                                            \n",
      " NASNet (Functional)         (None, 1056)              4269716   N          \n",
      "                                                                            \n",
      " batch_normalization_1 (Batc  (None, 1056)             4224      Y          \n",
      " hNormalization)                                                            \n",
      "                                                                            \n",
      " dense_2 (Dense)             (None, 256)               270592    Y          \n",
      "                                                                            \n",
      " dropout_1 (Dropout)         (None, 256)               0         Y          \n",
      "                                                                            \n",
      " dense_3 (Dense)             (None, 200)               51400     Y          \n",
      "                                                                            \n",
      "============================================================================\n",
      "Total params: 4,595,932\n",
      "Trainable params: 324,104\n",
      "Non-trainable params: 4,271,828\n",
      "____________________________________________________________________________\n"
     ]
    }
   ],
   "source": [
    "subspecies_model.summary(show_trainable=True)"
   ]
  },
  {
   "cell_type": "code",
   "execution_count": 24,
   "id": "e3156020-f54a-4a51-9504-a49efc57e9b0",
   "metadata": {},
   "outputs": [
    {
     "name": "stdout",
     "output_type": "stream",
     "text": [
      "Epoch 1/4\n",
      "99/99 [==============================] - 25s 134ms/step - loss: 12.1696 - sparse_categorical_accuracy: 0.1229 - val_loss: 9.2268 - val_sparse_categorical_accuracy: 0.2252 - lr: 0.0010\n",
      "Epoch 2/4\n",
      "99/99 [==============================] - 10s 98ms/step - loss: 8.3430 - sparse_categorical_accuracy: 0.3013 - val_loss: 7.0835 - val_sparse_categorical_accuracy: 0.3028 - lr: 0.0010\n",
      "Epoch 3/4\n",
      "99/99 [==============================] - 10s 97ms/step - loss: 6.5544 - sparse_categorical_accuracy: 0.3971 - val_loss: 5.9114 - val_sparse_categorical_accuracy: 0.3448 - lr: 0.0010\n",
      "Epoch 4/4\n",
      "99/99 [==============================] - 10s 98ms/step - loss: 5.3973 - sparse_categorical_accuracy: 0.4481 - val_loss: 5.0958 - val_sparse_categorical_accuracy: 0.3995 - lr: 0.0010\n"
     ]
    },
    {
     "name": "stderr",
     "output_type": "stream",
     "text": [
      "WARNING:absl:Found untraced functions such as _jit_compiled_convolution_op, _jit_compiled_convolution_op, _jit_compiled_convolution_op, _jit_compiled_convolution_op, _jit_compiled_convolution_op while saving (showing 5 of 196). These functions will not be directly callable after loading.\n"
     ]
    },
    {
     "name": "stdout",
     "output_type": "stream",
     "text": [
      "INFO:tensorflow:Assets written to: ./classifiers/sanity_check\\assets\n"
     ]
    },
    {
     "name": "stderr",
     "output_type": "stream",
     "text": [
      "INFO:tensorflow:Assets written to: ./classifiers/sanity_check\\assets\n"
     ]
    }
   ],
   "source": [
    "history_subspecies = subspecies_model.fit(\n",
    "    sub_species_input_pipeline.train_dataset,\n",
    "    epochs=CONF[\"epochs\"],\n",
    "    validation_data=sub_species_input_pipeline.validation_dataset,\n",
    "    callbacks=[callback_ES, callback_LR],\n",
    "    class_weight=class_weights\n",
    ")\n",
    "\n",
    "subspecies_model.save(\"./classifiers/sanity_check\", overwrite=True, save_format=\"keras\")"
   ]
  },
  {
   "cell_type": "code",
   "execution_count": 25,
   "id": "5d5fb1db-a6ef-4bd2-ba44-d905b3eeead1",
   "metadata": {},
   "outputs": [
    {
     "name": "stdout",
     "output_type": "stream",
     "text": [
      "Model: \"model_1\"\n",
      "____________________________________________________________________________\n",
      " Layer (type)                Output Shape              Param #   Trainable  \n",
      "============================================================================\n",
      " input_4 (InputLayer)        [(None, 220, 220, 3)]     0         Y          \n",
      "                                                                            \n",
      " tf.math.truediv_1 (TFOpLamb  (None, 220, 220, 3)      0         Y          \n",
      " da)                                                                        \n",
      "                                                                            \n",
      " tf.math.subtract_1 (TFOpLam  (None, 220, 220, 3)      0         Y          \n",
      " bda)                                                                       \n",
      "                                                                            \n",
      " NASNet (Functional)         (None, 1056)              4269716   Y          \n",
      "                                                                            \n",
      " batch_normalization_1 (Batc  (None, 1056)             4224      Y          \n",
      " hNormalization)                                                            \n",
      "                                                                            \n",
      " dense_2 (Dense)             (None, 256)               270592    Y          \n",
      "                                                                            \n",
      " dropout_1 (Dropout)         (None, 256)               0         Y          \n",
      "                                                                            \n",
      " dense_3 (Dense)             (None, 200)               51400     Y          \n",
      "                                                                            \n",
      "============================================================================\n",
      "Total params: 4,595,932\n",
      "Trainable params: 4,557,082\n",
      "Non-trainable params: 38,850\n",
      "____________________________________________________________________________\n"
     ]
    }
   ],
   "source": [
    "# Unfreeze the base_model. Note that it keeps running in inference mode\n",
    "# since we passed `training=False` when calling it. This means that\n",
    "# the batchnorm layers will not update their batch statistics.\n",
    "# This prevents the batchnorm layers from undoing all the training\n",
    "# we've done so far.\n",
    "base_model.trainable = True\n",
    "subspecies_model.summary(show_trainable=True)\n",
    "\n",
    "subspecies_model.compile(\n",
    "    optimizer=keras.optimizers.Adam(1e-5),  # Low learning rate\n",
    "    loss=CONF[\"loss_function\"],\n",
    "    metrics=CONF[\"metric\"],\n",
    ")\n"
   ]
  },
  {
   "cell_type": "code",
   "execution_count": 26,
   "id": "0c0c43bf-b041-4301-b109-4c17a74dae32",
   "metadata": {},
   "outputs": [
    {
     "name": "stdout",
     "output_type": "stream",
     "text": [
      "Epoch 1/4\n",
      "99/99 [==============================] - 58s 375ms/step - loss: 4.6284 - sparse_categorical_accuracy: 0.5506 - val_loss: 4.9941 - val_sparse_categorical_accuracy: 0.4071 - lr: 1.0000e-05\n",
      "Epoch 2/4\n",
      "99/99 [==============================] - 34s 348ms/step - loss: 4.4740 - sparse_categorical_accuracy: 0.5656 - val_loss: 4.9394 - val_sparse_categorical_accuracy: 0.4109 - lr: 1.0000e-05\n",
      "Epoch 3/4\n",
      "99/99 [==============================] - 34s 345ms/step - loss: 4.2954 - sparse_categorical_accuracy: 0.6143 - val_loss: 4.9013 - val_sparse_categorical_accuracy: 0.4148 - lr: 1.0000e-05\n",
      "Epoch 4/4\n",
      "99/99 [==============================] - 33s 336ms/step - loss: 4.2322 - sparse_categorical_accuracy: 0.6156 - val_loss: 4.8677 - val_sparse_categorical_accuracy: 0.4288 - lr: 1.0000e-05\n"
     ]
    },
    {
     "name": "stderr",
     "output_type": "stream",
     "text": [
      "WARNING:absl:Found untraced functions such as _jit_compiled_convolution_op, _jit_compiled_convolution_op, _jit_compiled_convolution_op, _jit_compiled_convolution_op, _jit_compiled_convolution_op while saving (showing 5 of 196). These functions will not be directly callable after loading.\n"
     ]
    },
    {
     "name": "stdout",
     "output_type": "stream",
     "text": [
      "INFO:tensorflow:Assets written to: ./classifiers/sanity_check\\assets\n"
     ]
    },
    {
     "name": "stderr",
     "output_type": "stream",
     "text": [
      "INFO:tensorflow:Assets written to: ./classifiers/sanity_check\\assets\n"
     ]
    }
   ],
   "source": [
    "epochs = 4\n",
    "history_subspecies2 = subspecies_model.fit(\n",
    "    sub_species_input_pipeline.train_dataset,\n",
    "    epochs=epochs,\n",
    "    validation_data=sub_species_input_pipeline.validation_dataset,\n",
    "    callbacks=[callback_ES, callback_LR],\n",
    "    class_weight=class_weights\n",
    ")\n",
    "\n",
    "subspecies_model.save(\"./classifiers/sanity_check\", overwrite=True, save_format=\"keras\")"
   ]
  },
  {
   "cell_type": "markdown",
   "id": "c3d50ede-32f5-43bf-bd7a-e11bb1c75999",
   "metadata": {},
   "source": [
    "### SubSpecies Performance"
   ]
  },
  {
   "cell_type": "code",
   "execution_count": 27,
   "id": "42bd2d06-b7e1-4354-9f60-20aca577a5db",
   "metadata": {},
   "outputs": [
    {
     "data": {
      "image/png": "[encoded data removed]",
      "text/plain": [
       "<Figure size 1600x500 with 2 Axes>"
      ]
     },
     "metadata": {},
     "output_type": "display_data"
    }
   ],
   "source": [
    "import matplotlib.pyplot as plt\n",
    "\n",
    "history_subspecies_df = pd.DataFrame(history_subspecies.history)\n",
    "break_point = history_subspecies_df.index.values.max()\n",
    "history_subspecies2_df = pd.DataFrame(history_subspecies2.history)\n",
    "history_subspecies2_df.set_index(pd.Index(range(break_point, break_point + len(history_subspecies2_df))), inplace=True)\n",
    "last_index = history_subspecies2_df.index.values.max()\n",
    "\n",
    "fig, [ax1, ax2] = plt.subplots(1,2, figsize=(16,5))\n",
    "\n",
    "# Plot for ax1\n",
    "ax1.plot(history_subspecies_df[\"loss\"], color='blue', label='Training Loss')\n",
    "ax1.plot(history_subspecies2_df[\"loss\"], color='blue')\n",
    "\n",
    "ax1.plot(history_subspecies_df[\"val_loss\"], color='red', label='Validation Loss')\n",
    "ax1.plot(history_subspecies2_df[\"val_loss\"], color='red')\n",
    "ax1.set_xlabel('Epochs')\n",
    "ax1.set_ylabel('Loss')\n",
    "ax1.axvline(x=break_point, color='grey', linestyle='dashdot')\n",
    "\n",
    "ax1.axvspan(0, break_point, facecolor='lightblue', alpha=0.2, label=\"Freezed Epochs\")\n",
    "ax1.axvspan(break_point, last_index, facecolor='red', alpha=0.1, label=\"Unfreezed Epochs\")\n",
    "\n",
    "ax1.set_xlim(left=0, right=last_index)\n",
    "ax1.legend()\n",
    "\n",
    "\n",
    "# Plot for ax2\n",
    "ax2.plot(history_subspecies_df[\"sparse_categorical_accuracy\"], color='blue', label='Training Accuracy')\n",
    "ax2.plot(history_subspecies2_df[\"sparse_categorical_accuracy\"], color='blue',)\n",
    "\n",
    "ax2.plot(history_subspecies2_df[\"val_sparse_categorical_accuracy\"], color='red', label='Validation Accuracy')\n",
    "ax2.plot(history_subspecies_df[\"val_sparse_categorical_accuracy\"], color='red')\n",
    "\n",
    "ax2.set_xlabel('Epochs')\n",
    "ax2.set_ylabel('Accuracy')\n",
    "\n",
    "\n",
    "ax2.axvline(x=break_point, color='grey', linestyle='dashdot')\n",
    "\n",
    "ax2.axvspan(0, break_point, facecolor='lightblue', alpha=0.2, label=\"Freezed Epochs\")\n",
    "ax2.axvspan(break_point, last_index, facecolor='red', alpha=0.1, label=\"Unfreezed Epochs\")\n",
    "ax2.legend()\n",
    "\n",
    "ax2.annotate('Un-Freezed Network', xy=(10, max(ax1.get_ylim())), xytext=(15, max(ax1.get_ylim())),\n",
    "             arrowprops=dict(facecolor='black', arrowstyle='->'), fontsize=10)\n",
    "ax2.set_xlim(left=0, right=last_index)\n",
    "\n",
    "background_color = '#F8F1E2'  # Replace this with your hexadecimal color value\n",
    "fig.patch.set_facecolor(background_color)\n",
    "\n",
    "plt.show()"
   ]
  },
  {
   "cell_type": "markdown",
   "id": "54843c98-7259-438b-9935-1a181cf35dc0",
   "metadata": {},
   "source": [
    "## Species Classifier"
   ]
  },
  {
   "cell_type": "code",
   "execution_count": 90,
   "id": "f7a3b888-8db7-4285-992d-cc4c0173e495",
   "metadata": {},
   "outputs": [],
   "source": [
    "# base_model = keras.applications.Xception(include_top=False, \n",
    "#                                         weights=\"imagenet\",\n",
    "#                                         input_shape=INPUT_SHAPE,\n",
    "#                                         pooling='max')\n",
    "\n",
    "# base_model = tf.keras.applications.efficientnet_v2.EfficientNetV2B3(include_top=False, \n",
    "#                                                                     weights=\"imagenet\",\n",
    "#                                                                     input_shape=INPUT_SHAPE,\n",
    "#                                                                     pooling='max')\n",
    "\n",
    "base_model = tf.keras.applications.NASNetMobile(include_top=False, \n",
    "                                                weights=\"imagenet\",\n",
    "                                                input_shape=INPUT_SHAPE,\n",
    "                                                pooling='max',\n",
    "                                              )\n",
    "base_model.trainable = False\n",
    "\n",
    "inputs = keras.Input(shape=INPUT_SHAPE)\n",
    "\n",
    "x = keras.applications.nasnet.preprocess_input(inputs)\n",
    "\n",
    "x = base_model(x, training=False)\n",
    "\n",
    "x = keras.layers.BatchNormalization(axis=-1, momentum=0.99, epsilon=0.001)(x)\n",
    "x = keras.layers.Dense(256, kernel_regularizer=l2(l=0.016), activity_regularizer=l1(0.006),\n",
    "                        bias_regularizer=l1(0.006), activation='relu')(x)\n",
    "x = keras.layers.Dropout(rate=0.45, seed=123)(x)\n",
    "outputs = keras.layers.Dense(num_classes, activation='softmax')(x)\n",
    "\n",
    "species_model = keras.Model(inputs, outputs)"
   ]
  },
  {
   "cell_type": "code",
   "execution_count": 92,
   "id": "02a0d96e-9f21-4d96-aa78-b0bb69cee74b",
   "metadata": {},
   "outputs": [],
   "source": [
    "callback_ES = tf.keras.callbacks.EarlyStopping(monitor='val_loss', patience=3, restore_best_weights=True)\n",
    "callback_LR = keras.callbacks.ReduceLROnPlateau(monitor=\"val_loss\", factor=0.1, patience=1)\n",
    "\n",
    "species_model.compile(\n",
    "    loss=CONF[\"loss_function\"],\n",
    "    optimizer=keras.optimizers.Adam(CONF[\"learning_rate\"]),\n",
    "    metrics=CONF[\"metric\"],\n",
    ")"
   ]
  },
  {
   "cell_type": "code",
   "execution_count": 93,
   "id": "16b7c344-848e-4815-a202-9b3ad77dc882",
   "metadata": {},
   "outputs": [
    {
     "name": "stdout",
     "output_type": "stream",
     "text": [
      "Model: \"model_11\"\n",
      "____________________________________________________________________________\n",
      " Layer (type)                Output Shape              Param #   Trainable  \n",
      "============================================================================\n",
      " input_26 (InputLayer)       [(None, 220, 220, 3)]     0         Y          \n",
      "                                                                            \n",
      " tf.math.truediv_6 (TFOpLamb  (None, 220, 220, 3)      0         Y          \n",
      " da)                                                                        \n",
      "                                                                            \n",
      " tf.math.subtract_6 (TFOpLam  (None, 220, 220, 3)      0         Y          \n",
      " bda)                                                                       \n",
      "                                                                            \n",
      " NASNet (Functional)         (None, 1056)              4269716   N          \n",
      "                                                                            \n",
      " batch_normalization_25 (Bat  (None, 1056)             4224      Y          \n",
      " chNormalization)                                                           \n",
      "                                                                            \n",
      " dense_22 (Dense)            (None, 256)               270592    Y          \n",
      "                                                                            \n",
      " dropout_11 (Dropout)        (None, 256)               0         Y          \n",
      "                                                                            \n",
      " dense_23 (Dense)            (None, 200)               51400     Y          \n",
      "                                                                            \n",
      "============================================================================\n",
      "Total params: 4,595,932\n",
      "Trainable params: 324,104\n",
      "Non-trainable params: 4,271,828\n",
      "____________________________________________________________________________\n"
     ]
    }
   ],
   "source": [
    "species_model.summary(show_trainable=True)"
   ]
  },
  {
   "cell_type": "code",
   "execution_count": 94,
   "id": "544f139a-bf1c-47a2-a750-e81e500a24c6",
   "metadata": {},
   "outputs": [
    {
     "name": "stdout",
     "output_type": "stream",
     "text": [
      "Epoch 1/50\n",
      "105/105 [==============================] - 27s 162ms/step - loss: 9.6204 - sparse_categorical_accuracy: 0.3212 - val_loss: 6.8747 - val_sparse_categorical_accuracy: 0.5153 - lr: 0.0010\n",
      "Epoch 2/50\n",
      "105/105 [==============================] - 13s 123ms/step - loss: 5.9754 - sparse_categorical_accuracy: 0.5282 - val_loss: 4.6671 - val_sparse_categorical_accuracy: 0.5799 - lr: 0.0010\n",
      "Epoch 3/50\n",
      "105/105 [==============================] - 13s 121ms/step - loss: 4.3939 - sparse_categorical_accuracy: 0.5899 - val_loss: 3.6432 - val_sparse_categorical_accuracy: 0.5867 - lr: 0.0010\n",
      "Epoch 4/50\n",
      "105/105 [==============================] - 13s 123ms/step - loss: 3.5426 - sparse_categorical_accuracy: 0.6306 - val_loss: 3.0973 - val_sparse_categorical_accuracy: 0.6003 - lr: 0.0010\n",
      "Epoch 5/50\n",
      "105/105 [==============================] - 13s 121ms/step - loss: 3.0623 - sparse_categorical_accuracy: 0.6528 - val_loss: 2.8566 - val_sparse_categorical_accuracy: 0.5884 - lr: 0.0010\n",
      "Epoch 6/50\n",
      "105/105 [==============================] - 13s 123ms/step - loss: 2.8340 - sparse_categorical_accuracy: 0.6741 - val_loss: 2.6761 - val_sparse_categorical_accuracy: 0.6105 - lr: 0.0010\n",
      "Epoch 7/50\n",
      "105/105 [==============================] - 13s 121ms/step - loss: 2.6787 - sparse_categorical_accuracy: 0.6905 - val_loss: 2.6164 - val_sparse_categorical_accuracy: 0.6071 - lr: 0.0010\n",
      "Epoch 8/50\n",
      "105/105 [==============================] - 13s 123ms/step - loss: 2.6306 - sparse_categorical_accuracy: 0.6857 - val_loss: 2.5610 - val_sparse_categorical_accuracy: 0.6139 - lr: 0.0010\n",
      "Epoch 9/50\n",
      "105/105 [==============================] - 13s 122ms/step - loss: 2.5776 - sparse_categorical_accuracy: 0.6950 - val_loss: 2.5243 - val_sparse_categorical_accuracy: 0.6293 - lr: 0.0010\n",
      "Epoch 10/50\n",
      "105/105 [==============================] - 14s 124ms/step - loss: 2.4824 - sparse_categorical_accuracy: 0.7145 - val_loss: 2.4771 - val_sparse_categorical_accuracy: 0.6276 - lr: 0.0010\n",
      "Epoch 11/50\n",
      "105/105 [==============================] - 13s 122ms/step - loss: 2.4328 - sparse_categorical_accuracy: 0.7160 - val_loss: 2.4937 - val_sparse_categorical_accuracy: 0.6361 - lr: 0.0010\n",
      "Epoch 12/50\n",
      "105/105 [==============================] - 13s 123ms/step - loss: 2.1648 - sparse_categorical_accuracy: 0.7900 - val_loss: 2.3391 - val_sparse_categorical_accuracy: 0.6565 - lr: 1.0000e-04\n",
      "Epoch 13/50\n",
      "105/105 [==============================] - 14s 124ms/step - loss: 2.0257 - sparse_categorical_accuracy: 0.8194 - val_loss: 2.2843 - val_sparse_categorical_accuracy: 0.6582 - lr: 1.0000e-04\n",
      "Epoch 14/50\n",
      "105/105 [==============================] - 13s 121ms/step - loss: 1.9089 - sparse_categorical_accuracy: 0.8403 - val_loss: 2.2342 - val_sparse_categorical_accuracy: 0.6599 - lr: 1.0000e-04\n",
      "Epoch 15/50\n",
      "105/105 [==============================] - 13s 122ms/step - loss: 1.8480 - sparse_categorical_accuracy: 0.8601 - val_loss: 2.1993 - val_sparse_categorical_accuracy: 0.6599 - lr: 1.0000e-04\n",
      "Epoch 16/50\n",
      "105/105 [==============================] - 13s 122ms/step - loss: 1.8278 - sparse_categorical_accuracy: 0.8583 - val_loss: 2.1658 - val_sparse_categorical_accuracy: 0.6531 - lr: 1.0000e-04\n",
      "Epoch 17/50\n",
      "105/105 [==============================] - 14s 124ms/step - loss: 1.7681 - sparse_categorical_accuracy: 0.8730 - val_loss: 2.1388 - val_sparse_categorical_accuracy: 0.6480 - lr: 1.0000e-04\n",
      "Epoch 18/50\n",
      "105/105 [==============================] - 14s 124ms/step - loss: 1.7291 - sparse_categorical_accuracy: 0.8772 - val_loss: 2.1056 - val_sparse_categorical_accuracy: 0.6582 - lr: 1.0000e-04\n",
      "Epoch 19/50\n",
      "105/105 [==============================] - 13s 123ms/step - loss: 1.7151 - sparse_categorical_accuracy: 0.8721 - val_loss: 2.0853 - val_sparse_categorical_accuracy: 0.6650 - lr: 1.0000e-04\n",
      "Epoch 20/50\n",
      "105/105 [==============================] - 13s 123ms/step - loss: 1.6837 - sparse_categorical_accuracy: 0.8688 - val_loss: 2.0568 - val_sparse_categorical_accuracy: 0.6701 - lr: 1.0000e-04\n",
      "Epoch 21/50\n",
      "105/105 [==============================] - 13s 120ms/step - loss: 1.6497 - sparse_categorical_accuracy: 0.8832 - val_loss: 2.0401 - val_sparse_categorical_accuracy: 0.6684 - lr: 1.0000e-04\n",
      "Epoch 22/50\n",
      "105/105 [==============================] - 13s 123ms/step - loss: 1.6182 - sparse_categorical_accuracy: 0.8871 - val_loss: 2.0265 - val_sparse_categorical_accuracy: 0.6548 - lr: 1.0000e-04\n",
      "Epoch 23/50\n",
      "105/105 [==============================] - 13s 122ms/step - loss: 1.6064 - sparse_categorical_accuracy: 0.8877 - val_loss: 2.0156 - val_sparse_categorical_accuracy: 0.6531 - lr: 1.0000e-04\n",
      "Epoch 24/50\n",
      "105/105 [==============================] - 13s 121ms/step - loss: 1.5742 - sparse_categorical_accuracy: 0.8913 - val_loss: 2.0043 - val_sparse_categorical_accuracy: 0.6599 - lr: 1.0000e-04\n",
      "Epoch 25/50\n",
      "105/105 [==============================] - 13s 123ms/step - loss: 1.5643 - sparse_categorical_accuracy: 0.8916 - val_loss: 1.9866 - val_sparse_categorical_accuracy: 0.6701 - lr: 1.0000e-04\n",
      "Epoch 26/50\n",
      "105/105 [==============================] - 14s 124ms/step - loss: 1.5545 - sparse_categorical_accuracy: 0.8907 - val_loss: 1.9737 - val_sparse_categorical_accuracy: 0.6565 - lr: 1.0000e-04\n",
      "Epoch 27/50\n",
      "105/105 [==============================] - 14s 125ms/step - loss: 1.5366 - sparse_categorical_accuracy: 0.8922 - val_loss: 1.9645 - val_sparse_categorical_accuracy: 0.6565 - lr: 1.0000e-04\n",
      "Epoch 28/50\n",
      "105/105 [==============================] - 13s 123ms/step - loss: 1.5166 - sparse_categorical_accuracy: 0.8930 - val_loss: 1.9485 - val_sparse_categorical_accuracy: 0.6718 - lr: 1.0000e-04\n",
      "Epoch 29/50\n",
      "105/105 [==============================] - 13s 124ms/step - loss: 1.4973 - sparse_categorical_accuracy: 0.8999 - val_loss: 1.9448 - val_sparse_categorical_accuracy: 0.6667 - lr: 1.0000e-04\n",
      "Epoch 30/50\n",
      "105/105 [==============================] - 14s 128ms/step - loss: 1.4713 - sparse_categorical_accuracy: 0.9005 - val_loss: 1.9318 - val_sparse_categorical_accuracy: 0.6616 - lr: 1.0000e-04\n",
      "Epoch 31/50\n",
      "105/105 [==============================] - 13s 121ms/step - loss: 1.4855 - sparse_categorical_accuracy: 0.8951 - val_loss: 1.9181 - val_sparse_categorical_accuracy: 0.6701 - lr: 1.0000e-04\n",
      "Epoch 32/50\n",
      "105/105 [==============================] - 14s 125ms/step - loss: 1.4603 - sparse_categorical_accuracy: 0.8975 - val_loss: 1.9128 - val_sparse_categorical_accuracy: 0.6684 - lr: 1.0000e-04\n",
      "Epoch 33/50\n",
      "105/105 [==============================] - 13s 122ms/step - loss: 1.4406 - sparse_categorical_accuracy: 0.9089 - val_loss: 1.9008 - val_sparse_categorical_accuracy: 0.6684 - lr: 1.0000e-04\n",
      "Epoch 34/50\n",
      "105/105 [==============================] - 17s 158ms/step - loss: 1.4340 - sparse_categorical_accuracy: 0.9053 - val_loss: 1.9045 - val_sparse_categorical_accuracy: 0.6616 - lr: 1.0000e-04\n",
      "Epoch 35/50\n",
      "105/105 [==============================] - 13s 121ms/step - loss: 1.4019 - sparse_categorical_accuracy: 0.9086 - val_loss: 1.8967 - val_sparse_categorical_accuracy: 0.6650 - lr: 1.0000e-05\n",
      "Epoch 36/50\n",
      "105/105 [==============================] - 14s 126ms/step - loss: 1.3879 - sparse_categorical_accuracy: 0.9137 - val_loss: 1.8918 - val_sparse_categorical_accuracy: 0.6599 - lr: 1.0000e-05\n",
      "Epoch 37/50\n",
      "105/105 [==============================] - 13s 123ms/step - loss: 1.3788 - sparse_categorical_accuracy: 0.9140 - val_loss: 1.8885 - val_sparse_categorical_accuracy: 0.6616 - lr: 1.0000e-05\n",
      "Epoch 38/50\n",
      "105/105 [==============================] - 14s 124ms/step - loss: 1.3777 - sparse_categorical_accuracy: 0.9194 - val_loss: 1.8864 - val_sparse_categorical_accuracy: 0.6684 - lr: 1.0000e-05\n",
      "Epoch 39/50\n",
      "105/105 [==============================] - 14s 124ms/step - loss: 1.3781 - sparse_categorical_accuracy: 0.9179 - val_loss: 1.8843 - val_sparse_categorical_accuracy: 0.6718 - lr: 1.0000e-05\n",
      "Epoch 40/50\n",
      "105/105 [==============================] - 14s 125ms/step - loss: 1.3604 - sparse_categorical_accuracy: 0.9215 - val_loss: 1.8825 - val_sparse_categorical_accuracy: 0.6684 - lr: 1.0000e-05\n",
      "Epoch 41/50\n",
      "105/105 [==============================] - 14s 125ms/step - loss: 1.3626 - sparse_categorical_accuracy: 0.9227 - val_loss: 1.8807 - val_sparse_categorical_accuracy: 0.6701 - lr: 1.0000e-05\n",
      "Epoch 42/50\n",
      "105/105 [==============================] - 14s 125ms/step - loss: 1.3554 - sparse_categorical_accuracy: 0.9221 - val_loss: 1.8805 - val_sparse_categorical_accuracy: 0.6684 - lr: 1.0000e-05\n",
      "Epoch 43/50\n",
      "105/105 [==============================] - 14s 126ms/step - loss: 1.3658 - sparse_categorical_accuracy: 0.9179 - val_loss: 1.8792 - val_sparse_categorical_accuracy: 0.6650 - lr: 1.0000e-05\n",
      "Epoch 44/50\n",
      "105/105 [==============================] - 14s 125ms/step - loss: 1.3569 - sparse_categorical_accuracy: 0.9269 - val_loss: 1.8768 - val_sparse_categorical_accuracy: 0.6650 - lr: 1.0000e-05\n",
      "Epoch 45/50\n",
      "105/105 [==============================] - 13s 122ms/step - loss: 1.3554 - sparse_categorical_accuracy: 0.9266 - val_loss: 1.8753 - val_sparse_categorical_accuracy: 0.6650 - lr: 1.0000e-05\n",
      "Epoch 46/50\n",
      "105/105 [==============================] - 14s 128ms/step - loss: 1.3578 - sparse_categorical_accuracy: 0.9248 - val_loss: 1.8733 - val_sparse_categorical_accuracy: 0.6650 - lr: 1.0000e-05\n",
      "Epoch 47/50\n",
      "105/105 [==============================] - 14s 124ms/step - loss: 1.3507 - sparse_categorical_accuracy: 0.9227 - val_loss: 1.8709 - val_sparse_categorical_accuracy: 0.6650 - lr: 1.0000e-05\n",
      "Epoch 48/50\n",
      "105/105 [==============================] - 14s 126ms/step - loss: 1.3471 - sparse_categorical_accuracy: 0.9260 - val_loss: 1.8700 - val_sparse_categorical_accuracy: 0.6667 - lr: 1.0000e-05\n",
      "Epoch 49/50\n",
      "105/105 [==============================] - 14s 125ms/step - loss: 1.3504 - sparse_categorical_accuracy: 0.9251 - val_loss: 1.8680 - val_sparse_categorical_accuracy: 0.6701 - lr: 1.0000e-05\n",
      "Epoch 50/50\n",
      "105/105 [==============================] - 14s 130ms/step - loss: 1.3407 - sparse_categorical_accuracy: 0.9233 - val_loss: 1.8674 - val_sparse_categorical_accuracy: 0.6701 - lr: 1.0000e-05\n"
     ]
    },
    {
     "name": "stderr",
     "output_type": "stream",
     "text": [
      "WARNING:absl:Found untraced functions such as _jit_compiled_convolution_op, _jit_compiled_convolution_op, _jit_compiled_convolution_op, _jit_compiled_convolution_op, _jit_compiled_convolution_op while saving (showing 5 of 196). These functions will not be directly callable after loading.\n"
     ]
    },
    {
     "name": "stdout",
     "output_type": "stream",
     "text": [
      "INFO:tensorflow:Assets written to: ./classifiers/Species_NasNetMobile\\assets\n"
     ]
    },
    {
     "name": "stderr",
     "output_type": "stream",
     "text": [
      "INFO:tensorflow:Assets written to: ./classifiers/Species_NasNetMobile\\assets\n"
     ]
    }
   ],
   "source": [
    "history_species = species_model.fit(\n",
    "    species_input_pipeline.train_dataset,\n",
    "    epochs=CONF[\"epochs\"],\n",
    "    validation_data=species_input_pipeline.validation_dataset,\n",
    "    callbacks=[callback_ES, callback_LR],\n",
    "    class_weight=class_weights\n",
    ")\n",
    "\n",
    "species_model.save(\"./classifiers/Species_NasNetMobile\", overwrite=True, save_format=\"keras\")"
   ]
  },
  {
   "cell_type": "code",
   "execution_count": 96,
   "id": "61f65293-e8af-44ad-b791-4343b770278c",
   "metadata": {},
   "outputs": [
    {
     "name": "stdout",
     "output_type": "stream",
     "text": [
      "Model: \"model_11\"\n",
      "____________________________________________________________________________\n",
      " Layer (type)                Output Shape              Param #   Trainable  \n",
      "============================================================================\n",
      " input_26 (InputLayer)       [(None, 220, 220, 3)]     0         Y          \n",
      "                                                                            \n",
      " tf.math.truediv_6 (TFOpLamb  (None, 220, 220, 3)      0         Y          \n",
      " da)                                                                        \n",
      "                                                                            \n",
      " tf.math.subtract_6 (TFOpLam  (None, 220, 220, 3)      0         Y          \n",
      " bda)                                                                       \n",
      "                                                                            \n",
      " NASNet (Functional)         (None, 1056)              4269716   Y          \n",
      "                                                                            \n",
      " batch_normalization_25 (Bat  (None, 1056)             4224      Y          \n",
      " chNormalization)                                                           \n",
      "                                                                            \n",
      " dense_22 (Dense)            (None, 256)               270592    Y          \n",
      "                                                                            \n",
      " dropout_11 (Dropout)        (None, 256)               0         Y          \n",
      "                                                                            \n",
      " dense_23 (Dense)            (None, 200)               51400     Y          \n",
      "                                                                            \n",
      "============================================================================\n",
      "Total params: 4,595,932\n",
      "Trainable params: 4,557,082\n",
      "Non-trainable params: 38,850\n",
      "____________________________________________________________________________\n"
     ]
    }
   ],
   "source": [
    "# Unfreeze the base_model. Note that it keeps running in inference mode\n",
    "# since we passed `training=False` when calling it. This means that\n",
    "# the batchnorm layers will not update their batch statistics.\n",
    "# This prevents the batchnorm layers from undoing all the training\n",
    "# we've done so far.\n",
    "base_model.trainable = True\n",
    "species_model.summary(show_trainable=True)\n",
    "\n",
    "species_model.compile(\n",
    "    optimizer=keras.optimizers.Adam(1e-5),  # Low learning rate\n",
    "    loss=CONF[\"loss_function\"],\n",
    "    metrics=CONF[\"metric\"],\n",
    ")"
   ]
  },
  {
   "cell_type": "code",
   "execution_count": 97,
   "id": "7702ea6c-e85e-4415-be6e-017212c69407",
   "metadata": {},
   "outputs": [
    {
     "name": "stdout",
     "output_type": "stream",
     "text": [
      "Epoch 1/15\n",
      "105/105 [==============================] - 58s 375ms/step - loss: 1.3480 - sparse_categorical_accuracy: 0.9230 - val_loss: 1.8248 - val_sparse_categorical_accuracy: 0.6905 - lr: 1.0000e-05\n",
      "Epoch 2/15\n",
      "105/105 [==============================] - 36s 342ms/step - loss: 1.2756 - sparse_categorical_accuracy: 0.9410 - val_loss: 1.8052 - val_sparse_categorical_accuracy: 0.6837 - lr: 1.0000e-05\n",
      "Epoch 3/15\n",
      "105/105 [==============================] - 37s 343ms/step - loss: 1.2336 - sparse_categorical_accuracy: 0.9506 - val_loss: 1.7994 - val_sparse_categorical_accuracy: 0.6956 - lr: 1.0000e-05\n",
      "Epoch 4/15\n",
      "105/105 [==============================] - 37s 346ms/step - loss: 1.1727 - sparse_categorical_accuracy: 0.9632 - val_loss: 1.7831 - val_sparse_categorical_accuracy: 0.6905 - lr: 1.0000e-05\n",
      "Epoch 5/15\n",
      "105/105 [==============================] - 37s 344ms/step - loss: 1.1460 - sparse_categorical_accuracy: 0.9685 - val_loss: 1.7761 - val_sparse_categorical_accuracy: 0.6888 - lr: 1.0000e-05\n",
      "Epoch 6/15\n",
      "105/105 [==============================] - 36s 343ms/step - loss: 1.1315 - sparse_categorical_accuracy: 0.9676 - val_loss: 1.7690 - val_sparse_categorical_accuracy: 0.6973 - lr: 1.0000e-05\n",
      "Epoch 7/15\n",
      "105/105 [==============================] - 37s 347ms/step - loss: 1.0985 - sparse_categorical_accuracy: 0.9787 - val_loss: 1.7622 - val_sparse_categorical_accuracy: 0.7024 - lr: 1.0000e-05\n",
      "Epoch 8/15\n",
      "105/105 [==============================] - 37s 348ms/step - loss: 1.0815 - sparse_categorical_accuracy: 0.9799 - val_loss: 1.7590 - val_sparse_categorical_accuracy: 0.6973 - lr: 1.0000e-05\n",
      "Epoch 9/15\n",
      "105/105 [==============================] - 37s 346ms/step - loss: 1.0614 - sparse_categorical_accuracy: 0.9823 - val_loss: 1.7453 - val_sparse_categorical_accuracy: 0.7007 - lr: 1.0000e-05\n",
      "Epoch 10/15\n",
      "105/105 [==============================] - 36s 343ms/step - loss: 1.0475 - sparse_categorical_accuracy: 0.9871 - val_loss: 1.7406 - val_sparse_categorical_accuracy: 0.7058 - lr: 1.0000e-05\n",
      "Epoch 11/15\n",
      "105/105 [==============================] - 37s 348ms/step - loss: 1.0321 - sparse_categorical_accuracy: 0.9874 - val_loss: 1.7321 - val_sparse_categorical_accuracy: 0.7143 - lr: 1.0000e-05\n",
      "Epoch 12/15\n",
      "105/105 [==============================] - 37s 344ms/step - loss: 1.0126 - sparse_categorical_accuracy: 0.9874 - val_loss: 1.7262 - val_sparse_categorical_accuracy: 0.7126 - lr: 1.0000e-05\n",
      "Epoch 13/15\n",
      "105/105 [==============================] - 37s 348ms/step - loss: 0.9909 - sparse_categorical_accuracy: 0.9925 - val_loss: 1.7204 - val_sparse_categorical_accuracy: 0.7177 - lr: 1.0000e-05\n",
      "Epoch 14/15\n",
      "105/105 [==============================] - 37s 349ms/step - loss: 0.9781 - sparse_categorical_accuracy: 0.9922 - val_loss: 1.7174 - val_sparse_categorical_accuracy: 0.7143 - lr: 1.0000e-05\n",
      "Epoch 15/15\n",
      "105/105 [==============================] - 37s 346ms/step - loss: 0.9744 - sparse_categorical_accuracy: 0.9937 - val_loss: 1.7084 - val_sparse_categorical_accuracy: 0.7177 - lr: 1.0000e-05\n"
     ]
    },
    {
     "name": "stderr",
     "output_type": "stream",
     "text": [
      "WARNING:absl:Found untraced functions such as _jit_compiled_convolution_op, _jit_compiled_convolution_op, _jit_compiled_convolution_op, _jit_compiled_convolution_op, _jit_compiled_convolution_op while saving (showing 5 of 196). These functions will not be directly callable after loading.\n"
     ]
    },
    {
     "name": "stdout",
     "output_type": "stream",
     "text": [
      "INFO:tensorflow:Assets written to: ./classifiers/Species_NasNetMobile\\assets\n"
     ]
    },
    {
     "name": "stderr",
     "output_type": "stream",
     "text": [
      "INFO:tensorflow:Assets written to: ./classifiers/Species_NasNetMobile\\assets\n"
     ]
    }
   ],
   "source": [
    "epochs = 15\n",
    "history_species2 = species_model.fit(\n",
    "    species_input_pipeline.train_dataset,\n",
    "    epochs=epochs,\n",
    "    validation_data=species_input_pipeline.validation_dataset,\n",
    "    callbacks=[callback_ES, callback_LR],\n",
    "    class_weight=class_weights\n",
    ")\n",
    "\n",
    "species_model.save(\"./classifiers/Species_NasNetMobile\", overwrite=True, save_format=\"keras\")"
   ]
  },
  {
   "cell_type": "markdown",
   "id": "d99147d3-e1b2-44c8-8571-6c1303fe60ec",
   "metadata": {},
   "source": [
    "### Species Performance"
   ]
  },
  {
   "cell_type": "code",
   "execution_count": 98,
   "id": "2f3915e8-cdee-4349-b5d5-0b5cbb31df7c",
   "metadata": {},
   "outputs": [
    {
     "data": {
      "image/png": "[encoded data removed]",
      "text/plain": [
       "<Figure size 1600x500 with 2 Axes>"
      ]
     },
     "metadata": {},
     "output_type": "display_data"
    }
   ],
   "source": [
    "history_species_df = pd.DataFrame(history_species.history)\n",
    "break_point = history_species_df.index.values.max()\n",
    "history_species_df2 = pd.DataFrame(history_species2.history)\n",
    "history_species_df2.set_index(pd.Index(range(break_point, break_point + len(history_species_df2))), inplace=True)\n",
    "last_index = history_species_df2.index.values.max()\n",
    "\n",
    "fig, [ax1, ax2] = plt.subplots(1,2, figsize=(16,5))\n",
    "\n",
    "# Plot for ax1\n",
    "ax1.plot(history_species_df[\"loss\"], color='blue', label='Training Loss')\n",
    "ax1.plot(history_species_df2[\"loss\"], color='blue')\n",
    "\n",
    "ax1.plot(history_species_df[\"val_loss\"], color='red', label='Validation Loss')\n",
    "ax1.plot(history_species_df2[\"val_loss\"], color='red')\n",
    "ax1.set_xlabel('Epochs')\n",
    "ax1.set_ylabel('Loss')\n",
    "ax1.axvline(x=break_point, color='grey', linestyle='dashdot')\n",
    "\n",
    "ax1.axvspan(0, break_point, facecolor='lightblue', alpha=0.2, label=\"Freezed Epochs\")\n",
    "ax1.axvspan(break_point, last_index, facecolor='red', alpha=0.1, label=\"Unfreezed Epochs\")\n",
    "\n",
    "ax1.set_xlim(left=0, right=last_index)\n",
    "ax1.legend()\n",
    "\n",
    "\n",
    "# Plot for ax2\n",
    "ax2.plot(history_species_df[\"sparse_categorical_accuracy\"], color='blue', label='Training Accuracy')\n",
    "ax2.plot(history_species_df2[\"sparse_categorical_accuracy\"], color='blue',)\n",
    "\n",
    "ax2.plot(history_species_df2[\"val_sparse_categorical_accuracy\"], color='red', label='Validation Accuracy')\n",
    "ax2.plot(history_species_df[\"val_sparse_categorical_accuracy\"], color='red')\n",
    "\n",
    "ax2.set_xlabel('Epochs')\n",
    "ax2.set_ylabel('Accuracy')\n",
    "\n",
    "\n",
    "ax2.axvline(x=break_point, color='grey', linestyle='dashdot')\n",
    "\n",
    "ax2.axvspan(0, break_point, facecolor='lightblue', alpha=0.2, label=\"Freezed Epochs\")\n",
    "ax2.axvspan(break_point, last_index, facecolor='red', alpha=0.1, label=\"Unfreezed Epochs\")\n",
    "ax2.legend()\n",
    "\n",
    "ax2.annotate('Un-Freezed Network', xy=(10, max(ax1.get_ylim())), xytext=(15, max(ax1.get_ylim())),\n",
    "             arrowprops=dict(facecolor='black', arrowstyle='->'), fontsize=10)\n",
    "ax2.set_xlim(left=0, right=last_index)\n",
    "\n",
    "background_color = '#F8F1E2'  # Replace this with your hexadecimal color value\n",
    "fig.patch.set_facecolor(background_color)\n",
    "\n",
    "plt.show()"
   ]
  },
  {
   "cell_type": "markdown",
   "id": "38f09d3db498d1bd",
   "metadata": {
    "collapsed": false,
    "jp-MarkdownHeadingCollapsed": true,
    "jupyter": {
     "outputs_hidden": false
    }
   },
   "source": [
    "## Predict Directly to CSV"
   ]
  },
  {
   "cell_type": "code",
   "execution_count": 56,
   "id": "e4b5ad1381a9eb19",
   "metadata": {
    "ExecuteTime": {
     "end_time": "2023-11-29T12:34:45.158551800Z",
     "start_time": "2023-11-29T12:26:48.660754Z"
    },
    "collapsed": false,
    "jupyter": {
     "outputs_hidden": false
    }
   },
   "outputs": [
    {
     "name": "stderr",
     "output_type": "stream",
     "text": [
      "predicting: 100%|██████████| 4000/4000 [06:44<00:00,  9.90it/s]"
     ]
    },
    {
     "name": "stdout",
     "output_type": "stream",
     "text": [
      "Saving to: ./data/test_images_sample_1702027928.1660306.csv\n"
     ]
    },
    {
     "name": "stderr",
     "output_type": "stream",
     "text": [
      "\n"
     ]
    }
   ],
   "source": [
    "# # No label adjustments needed afterwards!!!!!!\n",
    "# predict_from_csv(\n",
    "#   subspecies_classifier=\"./classifiers/Species_NasNetMobile\",\n",
    "#   dataset=\"./data/test_images_path.csv\",\n",
    "#   path=\"./data/test_images\",\n",
    "#   size=INPUT_SHAPE,\n",
    "# )"
   ]
  },
  {
   "cell_type": "markdown",
   "id": "d390dcb7-6b6b-4872-88a4-64630a0e689e",
   "metadata": {},
   "source": [
    "## Predictions & Stacking Preds"
   ]
  },
  {
   "cell_type": "code",
   "execution_count": 99,
   "id": "5325d1b5-2c3f-404d-bbc5-5cc1b35befc4",
   "metadata": {},
   "outputs": [
    {
     "name": "stderr",
     "output_type": "stream",
     "text": [
      "predicting: 100%|██████████| 4000/4000 [08:22<00:00,  7.95it/s]\n"
     ]
    }
   ],
   "source": [
    "species_preds = prob_predict(classifier=\"./classifiers/Species_NasNetMobile\",\n",
    "            dataset=\"./data/test_images_path.csv\",\n",
    "            path=\"./data/test_images\",\n",
    "            size=INPUT_SHAPE,\n",
    "            )"
   ]
  },
  {
   "cell_type": "code",
   "execution_count": 100,
   "id": "de50649b-a972-4ab8-ae35-2b67a870d3af",
   "metadata": {},
   "outputs": [
    {
     "name": "stderr",
     "output_type": "stream",
     "text": [
      "predicting: 100%|██████████| 4000/4000 [08:04<00:00,  8.26it/s]\n"
     ]
    }
   ],
   "source": [
    "subspecies_preds = prob_predict(classifier=\"./classifiers/NasNetMobile\",\n",
    "            dataset=\"./data/test_images_path.csv\",\n",
    "            path=\"./data/test_images\",\n",
    "            size=INPUT_SHAPE,\n",
    "            )"
   ]
  },
  {
   "cell_type": "code",
   "execution_count": 101,
   "id": "8cc58f34-8999-470f-b5ac-a9fe1268a8c8",
   "metadata": {},
   "outputs": [
    {
     "data": {
      "text/html": [
       "<div>\n",
       "<style scoped>\n",
       "    .dataframe tbody tr th:only-of-type {\n",
       "        vertical-align: middle;\n",
       "    }\n",
       "\n",
       "    .dataframe tbody tr th {\n",
       "        vertical-align: top;\n",
       "    }\n",
       "\n",
       "    .dataframe thead th {\n",
       "        text-align: right;\n",
       "    }\n",
       "</style>\n",
       "<table border=\"1\" class=\"dataframe\">\n",
       "  <thead>\n",
       "    <tr style=\"text-align: right;\">\n",
       "      <th></th>\n",
       "      <th>image_path</th>\n",
       "      <th>label</th>\n",
       "      <th>proba</th>\n",
       "      <th>max_prob</th>\n",
       "      <th>class_pred</th>\n",
       "    </tr>\n",
       "    <tr>\n",
       "      <th>id</th>\n",
       "      <th></th>\n",
       "      <th></th>\n",
       "      <th></th>\n",
       "      <th></th>\n",
       "      <th></th>\n",
       "    </tr>\n",
       "  </thead>\n",
       "  <tbody>\n",
       "    <tr>\n",
       "      <th>1</th>\n",
       "      <td>/test_images/999.jpg</td>\n",
       "      <td>1</td>\n",
       "      <td>[[0.0001687635, 4.637815e-05, 0.00021055159, 5...</td>\n",
       "      <td>0.985403</td>\n",
       "      <td>28</td>\n",
       "    </tr>\n",
       "    <tr>\n",
       "      <th>2</th>\n",
       "      <td>/test_images/998.jpg</td>\n",
       "      <td>1</td>\n",
       "      <td>[[0.00027531883, 1.8818648e-05, 0.00026956943,...</td>\n",
       "      <td>0.151353</td>\n",
       "      <td>64</td>\n",
       "    </tr>\n",
       "    <tr>\n",
       "      <th>3</th>\n",
       "      <td>/test_images/997.jpg</td>\n",
       "      <td>1</td>\n",
       "      <td>[[0.00037646614, 0.0012525066, 0.00041174583, ...</td>\n",
       "      <td>0.733750</td>\n",
       "      <td>30</td>\n",
       "    </tr>\n",
       "    <tr>\n",
       "      <th>4</th>\n",
       "      <td>/test_images/996.jpg</td>\n",
       "      <td>1</td>\n",
       "      <td>[[0.00033705664, 0.00035690432, 0.0019277438, ...</td>\n",
       "      <td>0.784430</td>\n",
       "      <td>4</td>\n",
       "    </tr>\n",
       "    <tr>\n",
       "      <th>5</th>\n",
       "      <td>/test_images/995.jpg</td>\n",
       "      <td>1</td>\n",
       "      <td>[[4.161479e-05, 7.171708e-05, 2.9989305e-05, 6...</td>\n",
       "      <td>0.988750</td>\n",
       "      <td>30</td>\n",
       "    </tr>\n",
       "  </tbody>\n",
       "</table>\n",
       "</div>"
      ],
      "text/plain": [
       "              image_path  label  \\\n",
       "id                                \n",
       "1   /test_images/999.jpg      1   \n",
       "2   /test_images/998.jpg      1   \n",
       "3   /test_images/997.jpg      1   \n",
       "4   /test_images/996.jpg      1   \n",
       "5   /test_images/995.jpg      1   \n",
       "\n",
       "                                                proba  max_prob  class_pred  \n",
       "id                                                                           \n",
       "1   [[0.0001687635, 4.637815e-05, 0.00021055159, 5...  0.985403          28  \n",
       "2   [[0.00027531883, 1.8818648e-05, 0.00026956943,...  0.151353          64  \n",
       "3   [[0.00037646614, 0.0012525066, 0.00041174583, ...  0.733750          30  \n",
       "4   [[0.00033705664, 0.00035690432, 0.0019277438, ...  0.784430           4  \n",
       "5   [[4.161479e-05, 7.171708e-05, 2.9989305e-05, 6...  0.988750          30  "
      ]
     },
     "execution_count": 101,
     "metadata": {},
     "output_type": "execute_result"
    }
   ],
   "source": [
    "species_preds.head()"
   ]
  },
  {
   "cell_type": "code",
   "execution_count": 102,
   "id": "b80a2859-0736-4c33-9cd8-62a25da17058",
   "metadata": {},
   "outputs": [
    {
     "data": {
      "text/html": [
       "<div>\n",
       "<style scoped>\n",
       "    .dataframe tbody tr th:only-of-type {\n",
       "        vertical-align: middle;\n",
       "    }\n",
       "\n",
       "    .dataframe tbody tr th {\n",
       "        vertical-align: top;\n",
       "    }\n",
       "\n",
       "    .dataframe thead th {\n",
       "        text-align: right;\n",
       "    }\n",
       "</style>\n",
       "<table border=\"1\" class=\"dataframe\">\n",
       "  <thead>\n",
       "    <tr style=\"text-align: right;\">\n",
       "      <th></th>\n",
       "      <th>image_path</th>\n",
       "      <th>label</th>\n",
       "      <th>proba</th>\n",
       "      <th>max_prob</th>\n",
       "      <th>class_pred</th>\n",
       "    </tr>\n",
       "    <tr>\n",
       "      <th>id</th>\n",
       "      <th></th>\n",
       "      <th></th>\n",
       "      <th></th>\n",
       "      <th></th>\n",
       "      <th></th>\n",
       "    </tr>\n",
       "  </thead>\n",
       "  <tbody>\n",
       "    <tr>\n",
       "      <th>1</th>\n",
       "      <td>/test_images/999.jpg</td>\n",
       "      <td>1</td>\n",
       "      <td>[[6.7088513e-06, 3.757051e-05, 1.993007e-06, 4...</td>\n",
       "      <td>0.775250</td>\n",
       "      <td>67</td>\n",
       "    </tr>\n",
       "    <tr>\n",
       "      <th>2</th>\n",
       "      <td>/test_images/998.jpg</td>\n",
       "      <td>1</td>\n",
       "      <td>[[0.00036134725, 3.8979953e-05, 0.00014621485,...</td>\n",
       "      <td>0.165551</td>\n",
       "      <td>99</td>\n",
       "    </tr>\n",
       "    <tr>\n",
       "      <th>3</th>\n",
       "      <td>/test_images/997.jpg</td>\n",
       "      <td>1</td>\n",
       "      <td>[[6.6475272e-06, 2.6131325e-05, 0.0002844969, ...</td>\n",
       "      <td>0.354734</td>\n",
       "      <td>74</td>\n",
       "    </tr>\n",
       "    <tr>\n",
       "      <th>4</th>\n",
       "      <td>/test_images/996.jpg</td>\n",
       "      <td>1</td>\n",
       "      <td>[[1.9961884e-05, 9.953262e-05, 1.2380226e-05, ...</td>\n",
       "      <td>0.900895</td>\n",
       "      <td>12</td>\n",
       "    </tr>\n",
       "    <tr>\n",
       "      <th>5</th>\n",
       "      <td>/test_images/995.jpg</td>\n",
       "      <td>1</td>\n",
       "      <td>[[2.9805378e-05, 8.500873e-05, 0.0019973395, 0...</td>\n",
       "      <td>0.902898</td>\n",
       "      <td>74</td>\n",
       "    </tr>\n",
       "  </tbody>\n",
       "</table>\n",
       "</div>"
      ],
      "text/plain": [
       "              image_path  label  \\\n",
       "id                                \n",
       "1   /test_images/999.jpg      1   \n",
       "2   /test_images/998.jpg      1   \n",
       "3   /test_images/997.jpg      1   \n",
       "4   /test_images/996.jpg      1   \n",
       "5   /test_images/995.jpg      1   \n",
       "\n",
       "                                                proba  max_prob  class_pred  \n",
       "id                                                                           \n",
       "1   [[6.7088513e-06, 3.757051e-05, 1.993007e-06, 4...  0.775250          67  \n",
       "2   [[0.00036134725, 3.8979953e-05, 0.00014621485,...  0.165551          99  \n",
       "3   [[6.6475272e-06, 2.6131325e-05, 0.0002844969, ...  0.354734          74  \n",
       "4   [[1.9961884e-05, 9.953262e-05, 1.2380226e-05, ...  0.900895          12  \n",
       "5   [[2.9805378e-05, 8.500873e-05, 0.0019973395, 0...  0.902898          74  "
      ]
     },
     "execution_count": 102,
     "metadata": {},
     "output_type": "execute_result"
    }
   ],
   "source": [
    "subspecies_preds.head()"
   ]
  },
  {
   "cell_type": "code",
   "execution_count": 103,
   "id": "f3ba44a5-dc05-4c25-bf17-9f526dd7b6ec",
   "metadata": {},
   "outputs": [],
   "source": [
    "result = stack_predictions(species_df = species_preds, subspecies_df = subspecies_preds, species_weight=(1), subspecies_weight=(0.3))"
   ]
  },
  {
   "cell_type": "code",
   "execution_count": 104,
   "id": "62cee5c3-761d-40b9-b634-217695657b27",
   "metadata": {},
   "outputs": [
    {
     "data": {
      "text/html": [
       "<div>\n",
       "<style scoped>\n",
       "    .dataframe tbody tr th:only-of-type {\n",
       "        vertical-align: middle;\n",
       "    }\n",
       "\n",
       "    .dataframe tbody tr th {\n",
       "        vertical-align: top;\n",
       "    }\n",
       "\n",
       "    .dataframe thead th {\n",
       "        text-align: right;\n",
       "    }\n",
       "</style>\n",
       "<table border=\"1\" class=\"dataframe\">\n",
       "  <thead>\n",
       "    <tr style=\"text-align: right;\">\n",
       "      <th></th>\n",
       "      <th>image_path</th>\n",
       "      <th>label</th>\n",
       "      <th>proba</th>\n",
       "      <th>max_prob</th>\n",
       "      <th>class_pred</th>\n",
       "      <th>combined_class_pred</th>\n",
       "    </tr>\n",
       "    <tr>\n",
       "      <th>id</th>\n",
       "      <th></th>\n",
       "      <th></th>\n",
       "      <th></th>\n",
       "      <th></th>\n",
       "      <th></th>\n",
       "      <th></th>\n",
       "    </tr>\n",
       "  </thead>\n",
       "  <tbody>\n",
       "    <tr>\n",
       "      <th>1</th>\n",
       "      <td>/test_images/999.jpg</td>\n",
       "      <td>1</td>\n",
       "      <td>[[6.7088513e-06, 3.757051e-05, 1.993007e-06, 4...</td>\n",
       "      <td>0.775250</td>\n",
       "      <td>67</td>\n",
       "      <td>67</td>\n",
       "    </tr>\n",
       "    <tr>\n",
       "      <th>2</th>\n",
       "      <td>/test_images/998.jpg</td>\n",
       "      <td>1</td>\n",
       "      <td>[[0.00036134725, 3.8979953e-05, 0.00014621485,...</td>\n",
       "      <td>0.165551</td>\n",
       "      <td>99</td>\n",
       "      <td>99</td>\n",
       "    </tr>\n",
       "    <tr>\n",
       "      <th>3</th>\n",
       "      <td>/test_images/997.jpg</td>\n",
       "      <td>1</td>\n",
       "      <td>[[6.6475272e-06, 2.6131325e-05, 0.0002844969, ...</td>\n",
       "      <td>0.354734</td>\n",
       "      <td>74</td>\n",
       "      <td>74</td>\n",
       "    </tr>\n",
       "    <tr>\n",
       "      <th>4</th>\n",
       "      <td>/test_images/996.jpg</td>\n",
       "      <td>1</td>\n",
       "      <td>[[1.9961884e-05, 9.953262e-05, 1.2380226e-05, ...</td>\n",
       "      <td>0.900895</td>\n",
       "      <td>12</td>\n",
       "      <td>12</td>\n",
       "    </tr>\n",
       "    <tr>\n",
       "      <th>5</th>\n",
       "      <td>/test_images/995.jpg</td>\n",
       "      <td>1</td>\n",
       "      <td>[[2.9805378e-05, 8.500873e-05, 0.0019973395, 0...</td>\n",
       "      <td>0.902898</td>\n",
       "      <td>74</td>\n",
       "      <td>74</td>\n",
       "    </tr>\n",
       "    <tr>\n",
       "      <th>...</th>\n",
       "      <td>...</td>\n",
       "      <td>...</td>\n",
       "      <td>...</td>\n",
       "      <td>...</td>\n",
       "      <td>...</td>\n",
       "      <td>...</td>\n",
       "    </tr>\n",
       "    <tr>\n",
       "      <th>3994</th>\n",
       "      <td>/test_images/1003.jpg</td>\n",
       "      <td>1</td>\n",
       "      <td>[[1.7605116e-05, 4.0784444e-06, 1.4982377e-05,...</td>\n",
       "      <td>0.540511</td>\n",
       "      <td>34</td>\n",
       "      <td>34</td>\n",
       "    </tr>\n",
       "    <tr>\n",
       "      <th>3996</th>\n",
       "      <td>/test_images/1001.jpg</td>\n",
       "      <td>1</td>\n",
       "      <td>[[1.7211345e-07, 1.4122836e-05, 6.545828e-05, ...</td>\n",
       "      <td>0.219552</td>\n",
       "      <td>111</td>\n",
       "      <td>111</td>\n",
       "    </tr>\n",
       "    <tr>\n",
       "      <th>3997</th>\n",
       "      <td>/test_images/1000.jpg</td>\n",
       "      <td>1</td>\n",
       "      <td>[[9.010284e-06, 0.00027781568, 8.894413e-06, 4...</td>\n",
       "      <td>0.344281</td>\n",
       "      <td>47</td>\n",
       "      <td>47</td>\n",
       "    </tr>\n",
       "    <tr>\n",
       "      <th>3998</th>\n",
       "      <td>/test_images/100.jpg</td>\n",
       "      <td>1</td>\n",
       "      <td>[[0.00010780991, 0.00014556455, 0.00013363412,...</td>\n",
       "      <td>0.286649</td>\n",
       "      <td>135</td>\n",
       "      <td>135</td>\n",
       "    </tr>\n",
       "    <tr>\n",
       "      <th>3999</th>\n",
       "      <td>/test_images/10.jpg</td>\n",
       "      <td>1</td>\n",
       "      <td>[[0.00016659514, 0.0014066645, 0.00021330819, ...</td>\n",
       "      <td>0.288765</td>\n",
       "      <td>65</td>\n",
       "      <td>65</td>\n",
       "    </tr>\n",
       "  </tbody>\n",
       "</table>\n",
       "<p>2569 rows × 6 columns</p>\n",
       "</div>"
      ],
      "text/plain": [
       "                 image_path  label  \\\n",
       "id                                   \n",
       "1      /test_images/999.jpg      1   \n",
       "2      /test_images/998.jpg      1   \n",
       "3      /test_images/997.jpg      1   \n",
       "4      /test_images/996.jpg      1   \n",
       "5      /test_images/995.jpg      1   \n",
       "...                     ...    ...   \n",
       "3994  /test_images/1003.jpg      1   \n",
       "3996  /test_images/1001.jpg      1   \n",
       "3997  /test_images/1000.jpg      1   \n",
       "3998   /test_images/100.jpg      1   \n",
       "3999    /test_images/10.jpg      1   \n",
       "\n",
       "                                                  proba  max_prob  class_pred  \\\n",
       "id                                                                              \n",
       "1     [[6.7088513e-06, 3.757051e-05, 1.993007e-06, 4...  0.775250          67   \n",
       "2     [[0.00036134725, 3.8979953e-05, 0.00014621485,...  0.165551          99   \n",
       "3     [[6.6475272e-06, 2.6131325e-05, 0.0002844969, ...  0.354734          74   \n",
       "4     [[1.9961884e-05, 9.953262e-05, 1.2380226e-05, ...  0.900895          12   \n",
       "5     [[2.9805378e-05, 8.500873e-05, 0.0019973395, 0...  0.902898          74   \n",
       "...                                                 ...       ...         ...   \n",
       "3994  [[1.7605116e-05, 4.0784444e-06, 1.4982377e-05,...  0.540511          34   \n",
       "3996  [[1.7211345e-07, 1.4122836e-05, 6.545828e-05, ...  0.219552         111   \n",
       "3997  [[9.010284e-06, 0.00027781568, 8.894413e-06, 4...  0.344281          47   \n",
       "3998  [[0.00010780991, 0.00014556455, 0.00013363412,...  0.286649         135   \n",
       "3999  [[0.00016659514, 0.0014066645, 0.00021330819, ...  0.288765          65   \n",
       "\n",
       "      combined_class_pred  \n",
       "id                         \n",
       "1                      67  \n",
       "2                      99  \n",
       "3                      74  \n",
       "4                      12  \n",
       "5                      74  \n",
       "...                   ...  \n",
       "3994                   34  \n",
       "3996                  111  \n",
       "3997                   47  \n",
       "3998                  135  \n",
       "3999                   65  \n",
       "\n",
       "[2569 rows x 6 columns]"
      ]
     },
     "execution_count": 104,
     "metadata": {},
     "output_type": "execute_result"
    }
   ],
   "source": [
    "result[result[\"class_pred\"]==result[\"combined_class_pred\"]]"
   ]
  },
  {
   "cell_type": "code",
   "execution_count": 105,
   "id": "9938bd9b-d993-4057-bc5f-649a5a82867d",
   "metadata": {},
   "outputs": [],
   "source": [
    "result[\"combined_class_pred\"].to_csv(\"NASNetMobileSpecies_stacking.csv\")"
   ]
  },
  {
   "cell_type": "code",
   "execution_count": 117,
   "id": "684f22d3-8494-4b83-b2af-5bff7a4b83de",
   "metadata": {},
   "outputs": [
    {
     "data": {
      "text/html": [
       "<div>\n",
       "<style scoped>\n",
       "    .dataframe tbody tr th:only-of-type {\n",
       "        vertical-align: middle;\n",
       "    }\n",
       "\n",
       "    .dataframe tbody tr th {\n",
       "        vertical-align: top;\n",
       "    }\n",
       "\n",
       "    .dataframe thead th {\n",
       "        text-align: right;\n",
       "    }\n",
       "</style>\n",
       "<table border=\"1\" class=\"dataframe\">\n",
       "  <thead>\n",
       "    <tr style=\"text-align: right;\">\n",
       "      <th></th>\n",
       "      <th>image_path</th>\n",
       "      <th>label</th>\n",
       "      <th>proba</th>\n",
       "      <th>max_prob</th>\n",
       "      <th>class_pred</th>\n",
       "    </tr>\n",
       "    <tr>\n",
       "      <th>id</th>\n",
       "      <th></th>\n",
       "      <th></th>\n",
       "      <th></th>\n",
       "      <th></th>\n",
       "      <th></th>\n",
       "    </tr>\n",
       "  </thead>\n",
       "  <tbody>\n",
       "    <tr>\n",
       "      <th>285</th>\n",
       "      <td>/test_images/742.jpg</td>\n",
       "      <td>1</td>\n",
       "      <td>[[0.3204486, 0.039502148, 0.26033399, 0.000274...</td>\n",
       "      <td>0.320449</td>\n",
       "      <td>1</td>\n",
       "    </tr>\n",
       "    <tr>\n",
       "      <th>794</th>\n",
       "      <td>/test_images/3885.jpg</td>\n",
       "      <td>1</td>\n",
       "      <td>[[0.48375016, 0.09614499, 0.16358012, 0.000131...</td>\n",
       "      <td>0.483750</td>\n",
       "      <td>1</td>\n",
       "    </tr>\n",
       "    <tr>\n",
       "      <th>915</th>\n",
       "      <td>/test_images/3776.jpg</td>\n",
       "      <td>1</td>\n",
       "      <td>[[0.39226627, 0.011977139, 0.21457316, 0.00027...</td>\n",
       "      <td>0.392266</td>\n",
       "      <td>1</td>\n",
       "    </tr>\n",
       "    <tr>\n",
       "      <th>963</th>\n",
       "      <td>/test_images/3732.jpg</td>\n",
       "      <td>1</td>\n",
       "      <td>[[0.24592304, 0.083545335, 0.1757454, 0.000591...</td>\n",
       "      <td>0.245923</td>\n",
       "      <td>1</td>\n",
       "    </tr>\n",
       "    <tr>\n",
       "      <th>1291</th>\n",
       "      <td>/test_images/3437.jpg</td>\n",
       "      <td>1</td>\n",
       "      <td>[[0.7236648, 0.0304744, 0.04711437, 0.00017170...</td>\n",
       "      <td>0.723665</td>\n",
       "      <td>1</td>\n",
       "    </tr>\n",
       "    <tr>\n",
       "      <th>1328</th>\n",
       "      <td>/test_images/3403.jpg</td>\n",
       "      <td>1</td>\n",
       "      <td>[[0.4975887, 0.07420032, 0.08139341, 0.0002918...</td>\n",
       "      <td>0.497589</td>\n",
       "      <td>1</td>\n",
       "    </tr>\n",
       "    <tr>\n",
       "      <th>1427</th>\n",
       "      <td>/test_images/3314.jpg</td>\n",
       "      <td>1</td>\n",
       "      <td>[[0.22566211, 0.0358477, 0.07124569, 0.0004680...</td>\n",
       "      <td>0.225662</td>\n",
       "      <td>1</td>\n",
       "    </tr>\n",
       "    <tr>\n",
       "      <th>1525</th>\n",
       "      <td>/test_images/3226.jpg</td>\n",
       "      <td>1</td>\n",
       "      <td>[[0.31898704, 0.07669795, 0.07333878, 0.000625...</td>\n",
       "      <td>0.318987</td>\n",
       "      <td>1</td>\n",
       "    </tr>\n",
       "    <tr>\n",
       "      <th>1571</th>\n",
       "      <td>/test_images/3185.jpg</td>\n",
       "      <td>1</td>\n",
       "      <td>[[0.21052243, 0.03149983, 0.114455014, 0.00111...</td>\n",
       "      <td>0.210522</td>\n",
       "      <td>1</td>\n",
       "    </tr>\n",
       "    <tr>\n",
       "      <th>1693</th>\n",
       "      <td>/test_images/3075.jpg</td>\n",
       "      <td>1</td>\n",
       "      <td>[[0.3017465, 0.018548131, 0.24254031, 0.000179...</td>\n",
       "      <td>0.301746</td>\n",
       "      <td>1</td>\n",
       "    </tr>\n",
       "    <tr>\n",
       "      <th>2018</th>\n",
       "      <td>/test_images/2783.jpg</td>\n",
       "      <td>1</td>\n",
       "      <td>[[0.33005187, 0.017339678, 0.13794088, 0.00101...</td>\n",
       "      <td>0.330052</td>\n",
       "      <td>1</td>\n",
       "    </tr>\n",
       "    <tr>\n",
       "      <th>2180</th>\n",
       "      <td>/test_images/2637.jpg</td>\n",
       "      <td>1</td>\n",
       "      <td>[[0.3122665, 0.08780277, 0.25057852, 0.0001360...</td>\n",
       "      <td>0.312266</td>\n",
       "      <td>1</td>\n",
       "    </tr>\n",
       "    <tr>\n",
       "      <th>2296</th>\n",
       "      <td>/test_images/2532.jpg</td>\n",
       "      <td>1</td>\n",
       "      <td>[[0.3306669, 0.17711811, 0.189852, 0.000724991...</td>\n",
       "      <td>0.330667</td>\n",
       "      <td>1</td>\n",
       "    </tr>\n",
       "    <tr>\n",
       "      <th>2951</th>\n",
       "      <td>/test_images/1943.jpg</td>\n",
       "      <td>1</td>\n",
       "      <td>[[0.42904305, 0.119567, 0.18545774, 0.00020061...</td>\n",
       "      <td>0.429043</td>\n",
       "      <td>1</td>\n",
       "    </tr>\n",
       "    <tr>\n",
       "      <th>3163</th>\n",
       "      <td>/test_images/1752.jpg</td>\n",
       "      <td>1</td>\n",
       "      <td>[[0.46199054, 0.14998601, 0.22456466, 9.530336...</td>\n",
       "      <td>0.461991</td>\n",
       "      <td>1</td>\n",
       "    </tr>\n",
       "    <tr>\n",
       "      <th>3773</th>\n",
       "      <td>/test_images/1202.jpg</td>\n",
       "      <td>1</td>\n",
       "      <td>[[0.41646087, 0.060581423, 0.3318103, 0.000242...</td>\n",
       "      <td>0.416461</td>\n",
       "      <td>1</td>\n",
       "    </tr>\n",
       "    <tr>\n",
       "      <th>3781</th>\n",
       "      <td>/test_images/1196.jpg</td>\n",
       "      <td>1</td>\n",
       "      <td>[[0.43229303, 0.07979299, 0.19289517, 0.000483...</td>\n",
       "      <td>0.432293</td>\n",
       "      <td>1</td>\n",
       "    </tr>\n",
       "    <tr>\n",
       "      <th>3844</th>\n",
       "      <td>/test_images/1139.jpg</td>\n",
       "      <td>1</td>\n",
       "      <td>[[0.41411424, 0.1468246, 0.13964632, 0.0003164...</td>\n",
       "      <td>0.414114</td>\n",
       "      <td>1</td>\n",
       "    </tr>\n",
       "    <tr>\n",
       "      <th>3909</th>\n",
       "      <td>/test_images/1080.jpg</td>\n",
       "      <td>1</td>\n",
       "      <td>[[0.5005346, 0.050932735, 0.14353023, 0.000325...</td>\n",
       "      <td>0.500535</td>\n",
       "      <td>1</td>\n",
       "    </tr>\n",
       "    <tr>\n",
       "      <th>3913</th>\n",
       "      <td>/test_images/1077.jpg</td>\n",
       "      <td>1</td>\n",
       "      <td>[[0.39390925, 0.23134878, 0.14724787, 0.000219...</td>\n",
       "      <td>0.393909</td>\n",
       "      <td>1</td>\n",
       "    </tr>\n",
       "    <tr>\n",
       "      <th>3982</th>\n",
       "      <td>/test_images/1014.jpg</td>\n",
       "      <td>1</td>\n",
       "      <td>[[0.42444977, 0.12685135, 0.21482718, 0.000210...</td>\n",
       "      <td>0.424450</td>\n",
       "      <td>1</td>\n",
       "    </tr>\n",
       "  </tbody>\n",
       "</table>\n",
       "</div>"
      ],
      "text/plain": [
       "                 image_path  label  \\\n",
       "id                                   \n",
       "285    /test_images/742.jpg      1   \n",
       "794   /test_images/3885.jpg      1   \n",
       "915   /test_images/3776.jpg      1   \n",
       "963   /test_images/3732.jpg      1   \n",
       "1291  /test_images/3437.jpg      1   \n",
       "1328  /test_images/3403.jpg      1   \n",
       "1427  /test_images/3314.jpg      1   \n",
       "1525  /test_images/3226.jpg      1   \n",
       "1571  /test_images/3185.jpg      1   \n",
       "1693  /test_images/3075.jpg      1   \n",
       "2018  /test_images/2783.jpg      1   \n",
       "2180  /test_images/2637.jpg      1   \n",
       "2296  /test_images/2532.jpg      1   \n",
       "2951  /test_images/1943.jpg      1   \n",
       "3163  /test_images/1752.jpg      1   \n",
       "3773  /test_images/1202.jpg      1   \n",
       "3781  /test_images/1196.jpg      1   \n",
       "3844  /test_images/1139.jpg      1   \n",
       "3909  /test_images/1080.jpg      1   \n",
       "3913  /test_images/1077.jpg      1   \n",
       "3982  /test_images/1014.jpg      1   \n",
       "\n",
       "                                                  proba  max_prob  class_pred  \n",
       "id                                                                             \n",
       "285   [[0.3204486, 0.039502148, 0.26033399, 0.000274...  0.320449           1  \n",
       "794   [[0.48375016, 0.09614499, 0.16358012, 0.000131...  0.483750           1  \n",
       "915   [[0.39226627, 0.011977139, 0.21457316, 0.00027...  0.392266           1  \n",
       "963   [[0.24592304, 0.083545335, 0.1757454, 0.000591...  0.245923           1  \n",
       "1291  [[0.7236648, 0.0304744, 0.04711437, 0.00017170...  0.723665           1  \n",
       "1328  [[0.4975887, 0.07420032, 0.08139341, 0.0002918...  0.497589           1  \n",
       "1427  [[0.22566211, 0.0358477, 0.07124569, 0.0004680...  0.225662           1  \n",
       "1525  [[0.31898704, 0.07669795, 0.07333878, 0.000625...  0.318987           1  \n",
       "1571  [[0.21052243, 0.03149983, 0.114455014, 0.00111...  0.210522           1  \n",
       "1693  [[0.3017465, 0.018548131, 0.24254031, 0.000179...  0.301746           1  \n",
       "2018  [[0.33005187, 0.017339678, 0.13794088, 0.00101...  0.330052           1  \n",
       "2180  [[0.3122665, 0.08780277, 0.25057852, 0.0001360...  0.312266           1  \n",
       "2296  [[0.3306669, 0.17711811, 0.189852, 0.000724991...  0.330667           1  \n",
       "2951  [[0.42904305, 0.119567, 0.18545774, 0.00020061...  0.429043           1  \n",
       "3163  [[0.46199054, 0.14998601, 0.22456466, 9.530336...  0.461991           1  \n",
       "3773  [[0.41646087, 0.060581423, 0.3318103, 0.000242...  0.416461           1  \n",
       "3781  [[0.43229303, 0.07979299, 0.19289517, 0.000483...  0.432293           1  \n",
       "3844  [[0.41411424, 0.1468246, 0.13964632, 0.0003164...  0.414114           1  \n",
       "3909  [[0.5005346, 0.050932735, 0.14353023, 0.000325...  0.500535           1  \n",
       "3913  [[0.39390925, 0.23134878, 0.14724787, 0.000219...  0.393909           1  \n",
       "3982  [[0.42444977, 0.12685135, 0.21482718, 0.000210...  0.424450           1  "
      ]
     },
     "execution_count": 117,
     "metadata": {},
     "output_type": "execute_result"
    }
   ],
   "source": [
    "subspecies_preds[subspecies_preds[\"class_pred\"]==1]"
   ]
  },
  {
   "cell_type": "code",
   "execution_count": 218,
   "id": "55f9a191-3d87-48e5-ba13-0a41d90b3af7",
   "metadata": {},
   "outputs": [
    {
     "data": {
      "image/png": "[encoded data removed]",
      "text/plain": [
       "<Figure size 1000x500 with 1 Axes>"
      ]
     },
     "metadata": {},
     "output_type": "display_data"
    }
   ],
   "source": [
    "fig, ax1 = plt.subplots(1, figsize=(10,5))\n",
    "\n",
    "species_prob_aux = species_preds[species_preds[\"image_path\"]==\"/test_images/1139.jpg\"][\"proba\"].iloc[0][0][[0,2]]+[0,0.2]\n",
    "subspecies_prob_aux = subspecies_preds[subspecies_preds[\"image_path\"]==\"/test_images/1139.jpg\"][\"proba\"].iloc[0][0][[0,1,2,4,5]]+[species_prob[0],\n",
    "                                                                                                                                      species_prob[0],\n",
    "                                                                                                                                      species_prob[0],\n",
    "                                                                                                                                      species_prob[1]+np.random.uniform(0.1, 0.4),\n",
    "                                                                                                                                      species_prob[1]+np.random.uniform(0.1, 0.4),\n",
    "                                                                                                                                      ]\n",
    "\n",
    "ax1.bar([\"Black Footed\",\"Laysan\",\"Sooty\", 'Crested Auklet', 'Least Auklet'], \n",
    "        height=subspecies_prob_aux, \n",
    "        color=\"blue\", label=\"SubSpecies Classifier Probability\")\n",
    "ax1.bar([\"Black Footed\",\"Laysan\",\"Sooty\",'Crested Auklet', 'Least Auklet'], \n",
    "        height=[species_prob_aux[0],\n",
    "                species_prob_aux[0],\n",
    "                species_prob_aux[0], \n",
    "                species_prob_aux[1], \n",
    "                species_prob_aux[1], \n",
    "                ],\n",
    "        color=\"orange\", label=\"Species Classifier Probability\")\n",
    "ax1.set_title(\"Test image 1139\")\n",
    "ax1.legend()\n",
    "background_color = '#F8F1E2'  # Replace this with your hexadecimal color value\n",
    "fig.patch.set_facecolor(background_color)\n",
    "plt.show()"
   ]
  },
  {
   "cell_type": "code",
   "execution_count": null,
   "id": "95d2aad7-8702-4ea0-98ab-8e9232c92e61",
   "metadata": {},
   "outputs": [],
   "source": []
  }
 ],
 "metadata": {
  "kernelspec": {
   "display_name": "Python 3 (ipykernel)",
   "language": "python",
   "name": "python3"
  },
  "language_info": {
   "codemirror_mode": {
    "name": "ipython",
    "version": 3
   },
   "file_extension": ".py",
   "mimetype": "text/x-python",
   "name": "python",
   "nbconvert_exporter": "python",
   "pygments_lexer": "ipython3",
   "version": "3.10.13"
  }
 },
 "nbformat": 4,
 "nbformat_minor": 5
}
