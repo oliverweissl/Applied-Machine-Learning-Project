{
 "cells": [
  {
   "cell_type": "code",
   "execution_count": null,
   "id": "initial_id",
   "metadata": {
    "collapsed": false
   },
   "outputs": [],
   "source": [
    "import pandas as pd\n",
    "import matplotlib.pyplot as plt\n",
    "import numpy as np\n",
    "from PIL import Image\n",
    "from glob import glob\n",
    "from src import train_to_implicit, implicit_to_species_aggregate\n",
    "import pickle\n",
    "\n",
    "%load_ext autoreload\n",
    "%autoreload 2"
   ]
  },
  {
   "cell_type": "code",
   "execution_count": null,
   "id": "91698e624c04f808",
   "metadata": {
    "collapsed": false
   },
   "outputs": [],
   "source": [
    "train_data = pd.read_csv(\"./data/train_images.csv\")\n",
    "class_names =  np.load(\"./data/class_names.npy\", allow_pickle=True)"
   ]
  },
  {
   "cell_type": "code",
   "execution_count": null,
   "id": "d6903e789b60e8f7",
   "metadata": {
    "collapsed": false
   },
   "outputs": [],
   "source": [
    "subspecies = {v: k.split(\".\")[-1] for k, v in class_names.item().items()}\n",
    "species = {vs: [k for k, v in subspecies.items() if vs in v] for vs in set([x.split(\"_\")[-1] for x in subspecies.values()])}"
   ]
  },
  {
   "cell_type": "code",
   "execution_count": null,
   "id": "5678b562-2322-42ee-bd61-8ca2aee8cda0",
   "metadata": {},
   "outputs": [],
   "source": [
    "sorted_bird_dict = dict(sorted(species.items(), key=lambda x: len(x[1])))\n",
    "start_key = \"Tern\"\n",
    "end_key = \"Warbler\"\n",
    "sliced_bird_dict = {key: species[key] for key in species if start_key <= key <= end_key}"
   ]
  },
  {
   "cell_type": "code",
   "execution_count": null,
   "id": "ba18b1cb-eda0-489f-9f01-b3e45103e4e2",
   "metadata": {},
   "outputs": [],
   "source": [
    "import networkx as nx\n",
    "import matplotlib.pyplot as plt\n",
    "\n",
    "G = nx.DiGraph()\n",
    "\n",
    "for species_x, relations in sliced_bird_dict.items():\n",
    "    G.add_node(species_x)\n",
    "    for relation in relations:\n",
    "        G.add_edge(species_x, f' {relation}')\n",
    "\n",
    "character_nodes = [node for node in G.nodes if not node.startswith(' ')]\n",
    "\n",
    "# Isolate each node and visualize\n",
    "for node in character_nodes:\n",
    "    subgraph = G.subgraph([node] + list(G.neighbors(node)))\n",
    "    pos = nx.spring_layout(subgraph, weight=5, scale=0.01)\n",
    "    nx.draw(subgraph, pos, with_labels=True, font_weight='bold', node_size=800, node_color='skyblue', font_size=8, edge_color='gray')\n",
    "    # Add a title with the current node's name\n",
    "    plt.title(f'Isolated Node: {node}')\n",
    "    # Show the plot for each isolated node\n",
    "    plt.show()"
   ]
  },
  {
   "cell_type": "markdown",
   "id": "21d9966d5a6d71be",
   "metadata": {
    "collapsed": false
   },
   "source": [
    "## Get Class Distribution"
   ]
  },
  {
   "cell_type": "code",
   "execution_count": null,
   "id": "8c1e85ade58dbb92",
   "metadata": {
    "collapsed": false
   },
   "outputs": [],
   "source": [
    "fig, ax = plt.subplots(1,1)\n",
    "ax.hist(train_data.label, bins=len(subspecies))\n",
    "ax.set_ylabel(\"Frequency\")\n",
    "ax.set_xlabel(\"Sub-Species\")\n",
    "ax.set_xticklabels(subspecies.values(), rotation=60)\n",
    "\n",
    "plt.show()"
   ]
  },
  {
   "cell_type": "markdown",
   "id": "c2af6a50a697d5f1",
   "metadata": {
    "collapsed": false
   },
   "source": [
    "## Check Image Properties"
   ]
  },
  {
   "cell_type": "code",
   "execution_count": null,
   "id": "7a4a80d52662c83e",
   "metadata": {
    "collapsed": false
   },
   "outputs": [],
   "source": [
    "widths = []\n",
    "heights = []\n",
    "\n",
    "for img in glob(\"./data/train_images/train_images/**.jpg\"):\n",
    "    im = Image.open(img)\n",
    "    widths.append(im.size[0])\n",
    "    heights.append(im.size[1])\n",
    "\n",
    "AVG_HEIGHT = round(sum(heights)/len(heights))\n",
    "AVG_WIDTH = round(sum(widths)/len(widths))"
   ]
  },
  {
   "cell_type": "code",
   "execution_count": null,
   "id": "ffd47965f12e0d36",
   "metadata": {
    "collapsed": false
   },
   "outputs": [],
   "source": [
    "plt.scatter(widths, heights)\n",
    "plt.scatter(AVG_WIDTH, AVG_HEIGHT, color=\"r\", label=\"Average\")\n",
    "plt.xlabel(\"Width\")\n",
    "plt.ylabel(\"Height\")\n",
    "plt.legend()\n",
    "plt.show()"
   ]
  },
  {
   "cell_type": "markdown",
   "id": "bedb210f60bfe906",
   "metadata": {
    "collapsed": false
   },
   "source": [
    "## Process Data"
   ]
  },
  {
   "cell_type": "code",
   "execution_count": null,
   "id": "e82503daad41b995",
   "metadata": {
    "collapsed": false
   },
   "outputs": [],
   "source": [
    "# make subspecies into implicit folder structure (for tf pipeline)\n",
    "train_to_implicit(\"./data/train_images/train_images\", train_data)"
   ]
  },
  {
   "cell_type": "code",
   "execution_count": null,
   "id": "44895c5371c535bc",
   "metadata": {
    "collapsed": false
   },
   "outputs": [],
   "source": [
    "# aggregate implicit folder structure to species structure\n",
    "implicit_to_species_aggregate(\"./data/train_images/train_images\", species)"
   ]
  },
  {
   "cell_type": "code",
   "execution_count": null,
   "id": "760e0976e8263c82",
   "metadata": {
    "collapsed": false
   },
   "outputs": [],
   "source": [
    "with open(\"mapping.pickle\", \"wb+\") as f: \n",
    "    pickle.dump(species, f)"
   ]
  }
 ],
 "metadata": {
  "kernelspec": {
   "display_name": "Python 3 (ipykernel)",
   "language": "python",
   "name": "python3"
  },
  "language_info": {
   "codemirror_mode": {
    "name": "ipython",
    "version": 3
   },
   "file_extension": ".py",
   "mimetype": "text/x-python",
   "name": "python",
   "nbconvert_exporter": "python",
   "pygments_lexer": "ipython3",
   "version": "3.10.13"
  }
 },
 "nbformat": 4,
 "nbformat_minor": 5
}
