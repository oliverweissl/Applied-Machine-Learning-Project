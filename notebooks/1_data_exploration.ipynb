{
 "cells": [
  {
   "cell_type": "code",
   "execution_count": 24,
   "outputs": [
    {
     "name": "stdout",
     "output_type": "stream",
     "text": [
      "The autoreload extension is already loaded. To reload it, use:\n",
      "  %reload_ext autoreload\n"
     ]
    }
   ],
   "source": [
    "import pandas as pd\n",
    "import matplotlib.pyplot as plt\n",
    "import numpy as np\n",
    "from PIL import Image\n",
    "from glob import glob\n",
    "from src import train_to_implicit, implicit_to_species_aggregate\n",
    "import pickle\n",
    "\n",
    "%load_ext autoreload\n",
    "%autoreload 2"
   ],
   "metadata": {
    "collapsed": false
   },
   "id": "initial_id"
  },
  {
   "cell_type": "code",
   "execution_count": null,
   "outputs": [],
   "source": [
    "train_data = pd.read_csv(\"../data/train_images.csv\")\n",
    "class_names =  np.load(\"../data/class_names.npy\", allow_pickle=True)"
   ],
   "metadata": {
    "collapsed": false
   },
   "id": "91698e624c04f808"
  },
  {
   "cell_type": "code",
   "execution_count": null,
   "outputs": [],
   "source": [
    "subspecies = {v: k.split(\".\")[-1] for k, v in class_names.item().items()}\n",
    "species = {vs: [k for k, v in subspecies.items() if vs in v] for vs in set([x.split(\"_\")[-1] for x in subspecies.values()])}"
   ],
   "metadata": {
    "collapsed": false
   },
   "id": "d6903e789b60e8f7"
  },
  {
   "cell_type": "markdown",
   "source": [
    "## Get Class Distribution"
   ],
   "metadata": {
    "collapsed": false
   },
   "id": "21d9966d5a6d71be"
  },
  {
   "cell_type": "code",
   "execution_count": null,
   "outputs": [],
   "source": [
    "fig, ax = plt.subplots(1,1)\n",
    "ax.hist(train_data.label, bins=len(subspecies))\n",
    "ax.set_ylabel(\"Frequency\")\n",
    "ax.set_xlabel(\"Sub-Species\")\n",
    "ax.set_xticklabels(subspecies.values(), rotation=60)\n",
    "\n",
    "plt.show()"
   ],
   "metadata": {
    "collapsed": false
   },
   "id": "8c1e85ade58dbb92"
  },
  {
   "cell_type": "markdown",
   "source": [
    "## Check Image Properties"
   ],
   "metadata": {
    "collapsed": false
   },
   "id": "c2af6a50a697d5f1"
  },
  {
   "cell_type": "code",
   "execution_count": null,
   "outputs": [],
   "source": [
    "widths = []\n",
    "heights = []\n",
    "\n",
    "for img in glob(\"../data/train_images/train_images/**.jpg\"):\n",
    "    im = Image.open(img)\n",
    "    widths.append(im.size[0])\n",
    "    heights.append(im.size[1])\n",
    "\n",
    "AVG_HEIGHT = round(sum(heights)/len(heights))\n",
    "AVG_WIDTH = round(sum(widths)/len(widths))"
   ],
   "metadata": {
    "collapsed": false
   },
   "id": "7a4a80d52662c83e"
  },
  {
   "cell_type": "code",
   "execution_count": null,
   "outputs": [],
   "source": [
    "plt.scatter(widths, heights)\n",
    "plt.scatter(AVG_WIDTH, AVG_HEIGHT, color=\"r\", label=\"Average\")\n",
    "plt.xlabel(\"Width\")\n",
    "plt.ylabel(\"Height\")\n",
    "plt.legend()\n",
    "plt.show()"
   ],
   "metadata": {
    "collapsed": false
   },
   "id": "ffd47965f12e0d36"
  },
  {
   "cell_type": "markdown",
   "source": [
    "## Process Data"
   ],
   "metadata": {
    "collapsed": false
   },
   "id": "bedb210f60bfe906"
  },
  {
   "cell_type": "code",
   "execution_count": null,
   "outputs": [],
   "source": [
    "# make subspecies into implicit folder structure (for tf pipeline)\n",
    "train_to_implicit(\"../data/train_images/train_images\", train_data)"
   ],
   "metadata": {
    "collapsed": false
   },
   "id": "e82503daad41b995"
  },
  {
   "cell_type": "code",
   "execution_count": 25,
   "outputs": [
    {
     "name": "stderr",
     "output_type": "stream",
     "text": [
      "100%|██████████| 70/70 [02:12<00:00,  1.90s/it]\n"
     ]
    }
   ],
   "source": [
    "# aggregate implicit folder structure to species structure\n",
    "implicit_to_species_aggregate(\"../data/train_images/train_images\", species)"
   ],
   "metadata": {
    "collapsed": false
   },
   "id": "44895c5371c535bc"
  },
  {
   "cell_type": "code",
   "execution_count": null,
   "outputs": [],
   "source": [
    "with open(\"mapping.pickle\", \"wb+\") as f: \n",
    "    pickle.dump(species, f)"
   ],
   "metadata": {
    "collapsed": false
   },
   "id": "760e0976e8263c82"
  }
 ],
 "metadata": {
  "kernelspec": {
   "display_name": "Python 3",
   "language": "python",
   "name": "python3"
  },
  "language_info": {
   "codemirror_mode": {
    "name": "ipython",
    "version": 2
   },
   "file_extension": ".py",
   "mimetype": "text/x-python",
   "name": "python",
   "nbconvert_exporter": "python",
   "pygments_lexer": "ipython2",
   "version": "2.7.6"
  }
 },
 "nbformat": 4,
 "nbformat_minor": 5
}
