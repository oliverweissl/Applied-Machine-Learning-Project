{
 "cells": [
  {
   "cell_type": "code",
   "execution_count": 1,
   "id": "initial_id",
   "metadata": {
    "collapsed": true,
    "ExecuteTime": {
     "end_time": "2023-11-26T13:35:15.722549400Z",
     "start_time": "2023-11-26T13:35:06.902836200Z"
    }
   },
   "outputs": [],
   "source": [
    "import pandas as pd\n",
    "from models import base_res_net, small_res_net, efficient_net, pretrained_mobilenet\n",
    "import tensorflow as tf\n",
    "import tensorflow.compat.v1 as tfc\n",
    "from sklearn.utils.class_weight import compute_class_weight\n",
    "\n",
    "from src import InputPipeline\n",
    "\n",
    "%load_ext autoreload\n",
    "%autoreload 2"
   ]
  },
  {
   "cell_type": "markdown",
   "source": [
    "## Check GPU for tf"
   ],
   "metadata": {
    "collapsed": false
   },
   "id": "627a750892efbdf9"
  },
  {
   "cell_type": "code",
   "execution_count": 10,
   "outputs": [],
   "source": [
    "# Some GPU setup\n",
    "# for documentation about using gpus refer to: https://www.tensorflow.org/install/pip#windows-wsl2\n",
    "\n",
    "tf.keras.backend.clear_session()\n",
    "\n",
    "device_name = tf.test.gpu_device_name()\n",
    "if not device_name:\n",
    "  raise SystemError('GPU device not found')\n",
    "try:  # prevent a previous session from being alive\n",
    "  sess.close() \n",
    "except:\n",
    "  pass\n",
    "\n",
    "tfc.enable_eager_execution()\n",
    "gpu_options= tfc.GPUOptions(per_process_gpu_memory_fraction = 0.8)\n",
    "sess = tfc.InteractiveSession(config=tfc.ConfigProto(gpu_options=gpu_options))"
   ],
   "metadata": {
    "collapsed": false,
    "ExecuteTime": {
     "end_time": "2023-11-26T13:39:59.410823700Z",
     "start_time": "2023-11-26T13:39:58.948842900Z"
    }
   },
   "id": "20f7764292bb4e8f"
  },
  {
   "cell_type": "markdown",
   "source": [
    "### Optional Stuff"
   ],
   "metadata": {
    "collapsed": false
   },
   "id": "2bd6fa03166027bf"
  },
  {
   "cell_type": "code",
   "execution_count": 11,
   "outputs": [],
   "source": [
    "train_df = pd.read_csv(\"../data/train_images_stratified.csv\")"
   ],
   "metadata": {
    "collapsed": false,
    "ExecuteTime": {
     "end_time": "2023-11-26T13:40:00.234011600Z",
     "start_time": "2023-11-26T13:39:59.807031100Z"
    }
   },
   "id": "dbbeb2f7c31d69b5"
  },
  {
   "cell_type": "code",
   "execution_count": 12,
   "outputs": [],
   "source": [
    "class_weights = compute_class_weight(class_weight = 'balanced', classes = train_df[\"label\"].unique(), y=train_df[\"label\"])\n",
    "class_weights = dict(enumerate(class_weights))"
   ],
   "metadata": {
    "collapsed": false,
    "ExecuteTime": {
     "end_time": "2023-11-26T13:40:01.271238600Z",
     "start_time": "2023-11-26T13:40:00.776253900Z"
    }
   },
   "id": "77c9b74db259162b"
  },
  {
   "cell_type": "markdown",
   "source": [
    "## Configure Parameters"
   ],
   "metadata": {
    "collapsed": false
   },
   "id": "cabc5747ca16eb86"
  },
  {
   "cell_type": "code",
   "execution_count": 13,
   "outputs": [],
   "source": [
    "INPUT_SHAPE = (150,150,3)\n",
    "\n",
    "CONF = {\n",
    "  \"learning_rate\": 0.00005,\n",
    "  \"batch_size\": 16,\n",
    "  \"epochs\": 50,\n",
    "  \"loss_function\": \"sparse_categorical_crossentropy\",\n",
    "  \"metric\": \"accuracy\",\n",
    "}"
   ],
   "metadata": {
    "collapsed": false,
    "ExecuteTime": {
     "end_time": "2023-11-26T13:40:02.235419200Z",
     "start_time": "2023-11-26T13:40:01.774425100Z"
    }
   },
   "id": "b925aeaf5dd5bc8a"
  },
  {
   "cell_type": "markdown",
   "source": [
    "## Make Input Pipelines"
   ],
   "metadata": {
    "collapsed": false
   },
   "id": "a9d757ac727bb83d"
  },
  {
   "cell_type": "code",
   "execution_count": 24,
   "outputs": [
    {
     "name": "stdout",
     "output_type": "stream",
     "text": [
      "Found 7852 files belonging to 70 classes.\n",
      "Using 6675 files for training.\n",
      "Using 1177 files for validation.\n",
      "Datasets populated!\n"
     ]
    }
   ],
   "source": [
    "# Input pipeline for subspecies\n",
    "sub_species_input_pipeline = InputPipeline(splits=(0.85,0.0,0.15), channels=3, batch_size=CONF[\"batch_size\"], size=INPUT_SHAPE[:2])\n",
    "sub_species_input_pipeline.make_stratified_train_dataset(\n",
    "  train_ds_path= \"../data/train_ds_images_stratified.csv\",\n",
    "  val_ds_path=\"../data/val_ds_images_stratified.csv\",\n",
    ")\n",
    "\n",
    "# Input pipeline for species\n",
    "species_input_pipeline = InputPipeline(splits=(0.85,0.0,0.15), channels=3, batch_size=CONF[\"batch_size\"], size=INPUT_SHAPE[:2])\n",
    "species_input_pipeline.make_train_datasets(directory=\"../data/train_images/species_classify\")"
   ],
   "metadata": {
    "collapsed": false,
    "ExecuteTime": {
     "end_time": "2023-11-26T13:47:14.140385800Z",
     "start_time": "2023-11-26T13:47:12.271429200Z"
    }
   },
   "id": "7b661b3ee9ebcaac"
  },
  {
   "cell_type": "code",
   "execution_count": 25,
   "outputs": [],
   "source": [
    "sub_species_cached_train, sub_species_cached_val = sub_species_input_pipeline.get_cached_train_datasets()\n",
    "species_cached_train, species_cached_val = species_input_pipeline.get_cached_train_datasets()"
   ],
   "metadata": {
    "collapsed": false,
    "ExecuteTime": {
     "end_time": "2023-11-26T13:47:14.578388400Z",
     "start_time": "2023-11-26T13:47:14.140385800Z"
    }
   },
   "id": "ca900ffde88390ca"
  },
  {
   "cell_type": "markdown",
   "source": [
    "## Training a Model"
   ],
   "metadata": {
    "collapsed": false
   },
   "id": "ac46ea2dd7c43927"
  },
  {
   "cell_type": "code",
   "execution_count": 30,
   "outputs": [],
   "source": [
    "from modeling import train_classifier"
   ],
   "metadata": {
    "collapsed": false,
    "ExecuteTime": {
     "end_time": "2023-11-26T13:47:38.053421100Z",
     "start_time": "2023-11-26T13:47:37.631429800Z"
    }
   },
   "id": "cb7d66f05ef541bf"
  },
  {
   "cell_type": "code",
   "execution_count": null,
   "outputs": [
    {
     "name": "stdout",
     "output_type": "stream",
     "text": [
      "Epoch 1/50\n",
      "284/284 [==============================] - 50s 130ms/step - loss: 14.6199 - accuracy: 0.0075 - val_loss: 12.6232 - val_accuracy: 0.0303\n",
      "Epoch 2/50\n",
      "284/284 [==============================] - 31s 111ms/step - loss: 13.3322 - accuracy: 0.0322 - val_loss: 11.9726 - val_accuracy: 0.0504\n",
      "Epoch 3/50\n",
      "284/284 [==============================] - 31s 110ms/step - loss: 12.3151 - accuracy: 0.0848 - val_loss: 11.4604 - val_accuracy: 0.0858\n",
      "Epoch 4/50\n",
      "276/284 [============================>.] - ETA: 0s - loss: 11.4529 - accuracy: 0.1356"
     ]
    }
   ],
   "source": [
    "# making the subspecies classifier\n",
    "train_classifier(\n",
    "  model_name=\"../classifiers/subspecies_pretrained_efficientnet_classifier\",\n",
    "  input_shape=INPUT_SHAPE,\n",
    "  classes_to_classify=200,\n",
    "  configuration=CONF,\n",
    "  model=efficient_net, \n",
    "  train_dataset=sub_species_cached_train,\n",
    "  validation_dataset=sub_species_cached_val,\n",
    "  class_weights=class_weights,\n",
    ")"
   ],
   "metadata": {
    "collapsed": false,
    "is_executing": true,
    "ExecuteTime": {
     "start_time": "2023-11-26T13:47:39.051332800Z"
    }
   },
   "id": "cc56b1cb55ea311b"
  },
  {
   "cell_type": "code",
   "execution_count": null,
   "outputs": [],
   "source": [
    "# making the species classifier\n",
    "train_classifier(\n",
    "  model_name=\"classifiers/species_pretrained_mobinet_classifier\",\n",
    "  input_shape=INPUT_SHAPE,\n",
    "  classes_to_classify=70,\n",
    "  configuration=CONF,\n",
    "  model=pretrained_mobilenet, \n",
    "  train_dataset=species_cached_train,\n",
    "  validation_dataset=species_cached_val,\n",
    ")"
   ],
   "metadata": {
    "collapsed": false,
    "ExecuteTime": {
     "start_time": "2023-11-26T13:47:29.102419700Z"
    }
   },
   "id": "5941ba5f98ad9cfc"
  },
  {
   "cell_type": "markdown",
   "source": [
    "## Predict Stuff"
   ],
   "metadata": {
    "collapsed": false
   },
   "id": "38f09d3db498d1bd"
  },
  {
   "cell_type": "code",
   "execution_count": 14,
   "outputs": [],
   "source": [
    "from modeling import predict\n",
    "import pickle"
   ],
   "metadata": {
    "collapsed": false,
    "ExecuteTime": {
     "end_time": "2023-11-22T22:00:00.565832700Z",
     "start_time": "2023-11-22T21:59:59.602833100Z"
    }
   },
   "id": "31867211f0ef523c"
  },
  {
   "cell_type": "code",
   "execution_count": 15,
   "outputs": [],
   "source": [
    "with open(\"mapping.pickle\", \"rb+\") as f:\n",
    "  mapping = pickle.load(f)"
   ],
   "metadata": {
    "collapsed": false,
    "ExecuteTime": {
     "end_time": "2023-11-22T22:00:00.972827700Z",
     "start_time": "2023-11-22T22:00:00.557825100Z"
    }
   },
   "id": "75d0e57ae81101f8"
  },
  {
   "cell_type": "code",
   "execution_count": 16,
   "outputs": [
    {
     "name": "stdout",
     "output_type": "stream",
     "text": [
      "Found 4000 files belonging to 1 classes.\n"
     ]
    }
   ],
   "source": [
    "sub_species_input_pipeline.make_test_dataset(directory=\"data/test_images/test_images\")\n",
    "test_cached = sub_species_input_pipeline.get_cached_test_datasets()"
   ],
   "metadata": {
    "collapsed": false,
    "ExecuteTime": {
     "end_time": "2023-11-22T22:00:03.023232Z",
     "start_time": "2023-11-22T22:00:01.629227900Z"
    }
   },
   "id": "1b565e9ffe11df3b"
  },
  {
   "cell_type": "code",
   "execution_count": 18,
   "outputs": [
    {
     "name": "stdout",
     "output_type": "stream",
     "text": [
      "250/250 [==============================] - 6s 21ms/step\n",
      "250/250 [==============================] - 6s 20ms/step\n"
     ]
    },
    {
     "name": "stderr",
     "output_type": "stream",
     "text": [
      "combining results: 100%|██████████| 4000/4000 [05:25<00:00, 12.30it/s]"
     ]
    },
    {
     "name": "stdout",
     "output_type": "stream",
     "text": [
      "Saving to: data/test_images_sample_1700690885.6570406.csv\n"
     ]
    },
    {
     "name": "stderr",
     "output_type": "stream",
     "text": [
      "\n"
     ]
    }
   ],
   "source": [
    "predict(\n",
    "  species_classifier=\"species_pretrained_mobinet_classifier\",\n",
    "  subspecies_classifier=\"subspecies_pretrained_mobinet_classifier\",\n",
    "  dataset=test_cached,\n",
    "  species_subspecies_dict=mapping\n",
    ")"
   ],
   "metadata": {
    "collapsed": false,
    "ExecuteTime": {
     "end_time": "2023-11-22T22:08:05.724041400Z",
     "start_time": "2023-11-22T22:02:07.432195600Z"
    }
   },
   "id": "83dc918d28dd21e3"
  },
  {
   "cell_type": "code",
   "execution_count": null,
   "outputs": [],
   "source": [],
   "metadata": {
    "collapsed": false
   },
   "id": "220dd182e8b606b3"
  }
 ],
 "metadata": {
  "kernelspec": {
   "display_name": "Python 3",
   "language": "python",
   "name": "python3"
  },
  "language_info": {
   "codemirror_mode": {
    "name": "ipython",
    "version": 2
   },
   "file_extension": ".py",
   "mimetype": "text/x-python",
   "name": "python",
   "nbconvert_exporter": "python",
   "pygments_lexer": "ipython2",
   "version": "2.7.6"
  }
 },
 "nbformat": 4,
 "nbformat_minor": 5
}
