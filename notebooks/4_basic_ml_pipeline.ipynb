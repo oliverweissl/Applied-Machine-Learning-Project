{
 "cells": [
  {
   "cell_type": "code",
   "execution_count": null,
   "id": "initial_id",
   "metadata": {
    "collapsed": true
   },
   "outputs": [],
   "source": [
    "import pandas as pd\n",
    "from models import base_res_net, small_res_net, efficient_net, pretrained_mobilenet, big_model\n",
    "import tensorflow as tf\n",
    "import tensorflow.compat.v1 as tfc\n",
    "from sklearn.utils.class_weight import compute_class_weight\n",
    "\n",
    "from src import InputPipeline\n",
    "\n",
    "%load_ext autoreload\n",
    "%autoreload 2"
   ]
  },
  {
   "cell_type": "markdown",
   "source": [
    "## Check GPU for tf"
   ],
   "metadata": {
    "collapsed": false
   },
   "id": "627a750892efbdf9"
  },
  {
   "cell_type": "code",
   "execution_count": null,
   "outputs": [],
   "source": [
    "# Some GPU setup\n",
    "# for documentation about using gpus refer to: https://www.tensorflow.org/install/pip#windows-wsl2\n",
    "\n",
    "tf.keras.backend.clear_session()\n",
    "\n",
    "device_name = tf.test.gpu_device_name()\n",
    "if not device_name:\n",
    "  raise SystemError('GPU device not found')\n",
    "try:  # prevent a previous session from being alive\n",
    "  sess.close() \n",
    "except:\n",
    "  pass\n",
    "\n",
    "tfc.enable_eager_execution()\n",
    "gpu_options= tfc.GPUOptions(per_process_gpu_memory_fraction = 0.8)\n",
    "sess = tfc.InteractiveSession(config=tfc.ConfigProto(gpu_options=gpu_options))"
   ],
   "metadata": {
    "collapsed": false
   },
   "id": "20f7764292bb4e8f"
  },
  {
   "cell_type": "markdown",
   "source": [
    "### Optional Stuff\n",
    "- Here we compute classweights since the data is very imbalanced"
   ],
   "metadata": {
    "collapsed": false
   },
   "id": "2bd6fa03166027bf"
  },
  {
   "cell_type": "code",
   "execution_count": null,
   "outputs": [],
   "source": [
    "train_df = pd.read_csv(\"../data/train_images_stratified.csv\")"
   ],
   "metadata": {
    "collapsed": false
   },
   "id": "dbbeb2f7c31d69b5"
  },
  {
   "cell_type": "code",
   "execution_count": null,
   "outputs": [],
   "source": [
    "class_weights = compute_class_weight(class_weight = 'balanced', classes = train_df[\"label\"].unique(), y=train_df[\"label\"])\n",
    "class_weights = dict(enumerate(class_weights))"
   ],
   "metadata": {
    "collapsed": false
   },
   "id": "77c9b74db259162b"
  },
  {
   "cell_type": "markdown",
   "source": [
    "## Configure Parameters"
   ],
   "metadata": {
    "collapsed": false
   },
   "id": "cabc5747ca16eb86"
  },
  {
   "cell_type": "code",
   "execution_count": null,
   "outputs": [],
   "source": [
    "INPUT_SHAPE = (224,224,3)\n",
    "\n",
    "CONF = {\n",
    "  \"learning_rate\": 0.00001,\n",
    "  \"batch_size\": 16,\n",
    "  \"epochs\": 35,\n",
    "  \"loss_function\": \"sparse_categorical_crossentropy\",\n",
    "  \"metric\": \"categorical_accuracy\",\n",
    "}"
   ],
   "metadata": {
    "collapsed": false
   },
   "id": "b925aeaf5dd5bc8a"
  },
  {
   "cell_type": "markdown",
   "source": [
    "## Make Input Pipelines"
   ],
   "metadata": {
    "collapsed": false
   },
   "id": "a9d757ac727bb83d"
  },
  {
   "cell_type": "code",
   "execution_count": null,
   "outputs": [],
   "source": [
    "# Input pipeline for subspecies\n",
    "sub_species_input_pipeline = InputPipeline(splits=(0.85,0.0,0.15), channels=3, batch_size=CONF[\"batch_size\"], size=INPUT_SHAPE[:2])\n",
    "# This has a stratified split\n",
    "sub_species_input_pipeline.make_stratified_train_dataset(\n",
    "  train_ds_path= \"../data/train_ds_images_stratified.csv\",\n",
    "  val_ds_path=\"../data/val_ds_images_stratified.csv\",\n",
    ")\n",
    "\n",
    "# Input pipeline for species\n",
    "species_input_pipeline = InputPipeline(splits=(0.85,0.0,0.15), channels=3, batch_size=CONF[\"batch_size\"], size=INPUT_SHAPE[:2])\n",
    "species_input_pipeline.make_train_datasets(directory=\"../data/train_images/species_classify\")  # This doesnt have a stratified split"
   ],
   "metadata": {
    "collapsed": false
   },
   "id": "7b661b3ee9ebcaac"
  },
  {
   "cell_type": "code",
   "execution_count": null,
   "outputs": [],
   "source": [
    "# Cache and prefetch datasets for faster access\n",
    "sub_species_cached_train, sub_species_cached_val = sub_species_input_pipeline.get_cached_train_datasets()\n",
    "species_cached_train, species_cached_val = species_input_pipeline.get_cached_train_datasets()"
   ],
   "metadata": {
    "collapsed": false
   },
   "id": "ca900ffde88390ca"
  },
  {
   "cell_type": "markdown",
   "source": [
    "## Training a Model"
   ],
   "metadata": {
    "collapsed": false
   },
   "id": "ac46ea2dd7c43927"
  },
  {
   "cell_type": "code",
   "execution_count": null,
   "outputs": [],
   "source": [
    "from modeling import train_classifier"
   ],
   "metadata": {
    "collapsed": false
   },
   "id": "cb7d66f05ef541bf"
  },
  {
   "cell_type": "code",
   "execution_count": null,
   "outputs": [],
   "source": [
    "# making the species classifier\n",
    "train_classifier(\n",
    "  model_name=\"../classifiers/subspecies_effnet_classifier\",\n",
    "  input_shape=INPUT_SHAPE,\n",
    "  classes_to_classify=200,\n",
    "  configuration=CONF,\n",
    "  model=efficient_net, \n",
    "  train_dataset=sub_species_cached_train,\n",
    "  validation_dataset=sub_species_cached_val,\n",
    ")"
   ],
   "metadata": {
    "collapsed": false
   },
   "id": "f0e22ecd1236e0be"
  },
  {
   "cell_type": "code",
   "execution_count": null,
   "outputs": [],
   "source": [
    "# making the species classifier\n",
    "train_classifier(\n",
    "  model_name=\"../classifiers/species_efficient_net_classifier\",\n",
    "  input_shape=INPUT_SHAPE,\n",
    "  classes_to_classify=70,\n",
    "  configuration=CONF,\n",
    "  model=big_model, \n",
    "  train_dataset=species_cached_train,\n",
    "  validation_dataset=species_cached_val,\n",
    ")"
   ],
   "metadata": {
    "collapsed": false
   },
   "id": "5941ba5f98ad9cfc"
  },
  {
   "cell_type": "markdown",
   "source": [
    "## Predict Stuff"
   ],
   "metadata": {
    "collapsed": false
   },
   "id": "38f09d3db498d1bd"
  },
  {
   "cell_type": "code",
   "execution_count": null,
   "outputs": [],
   "source": [
    "from modeling import predict\n",
    "import pickle"
   ],
   "metadata": {
    "collapsed": false
   },
   "id": "31867211f0ef523c"
  },
  {
   "cell_type": "code",
   "execution_count": null,
   "outputs": [],
   "source": [
    "# Load mapping for stacked classifiers\n",
    "with open(\"../mapping.pickle\", \"rb+\") as f:\n",
    "  mapping = pickle.load(f)"
   ],
   "metadata": {
    "collapsed": false
   },
   "id": "75d0e57ae81101f8"
  },
  {
   "cell_type": "code",
   "execution_count": null,
   "outputs": [],
   "source": [
    "# Make Train Dataset\n",
    "sub_species_input_pipeline.make_test_dataset(directory=\"../data/test_images/test_images\")\n",
    "test_cached = sub_species_input_pipeline.get_cached_test_datasets()"
   ],
   "metadata": {
    "collapsed": false
   },
   "id": "1b565e9ffe11df3b"
  },
  {
   "cell_type": "code",
   "execution_count": null,
   "outputs": [],
   "source": [
    "predict(\n",
    "  species_classifier=\"../classifiers/species_efficient_net_classifier\",\n",
    "  subspecies_classifier=\"../classifiers/subspecies_pretrained_efficientnet_classifier\",\n",
    "  dataset=test_cached,\n",
    "  species_subspecies_dict=mapping\n",
    ")"
   ],
   "metadata": {
    "collapsed": false
   },
   "id": "83dc918d28dd21e3"
  },
  {
   "cell_type": "code",
   "execution_count": null,
   "outputs": [],
   "source": [
    "# TF predicts labels from 0-199, however we need 1-200: Therefore we need to adjust the predictions.\n",
    "adj_df_src = \"../data/test_images_sample_1701013215.0550277.csv\"\n",
    "pred_df = pd.read_csv(adj_df_src, index_col=0)\n",
    "pred_df[\"label\"] += 1\n",
    "pred_df.to_csv(adj_df_src)"
   ],
   "metadata": {
    "collapsed": false
   },
   "id": "c8798781ca47503d"
  }
 ],
 "metadata": {
  "kernelspec": {
   "display_name": "Python 3",
   "language": "python",
   "name": "python3"
  },
  "language_info": {
   "codemirror_mode": {
    "name": "ipython",
    "version": 2
   },
   "file_extension": ".py",
   "mimetype": "text/x-python",
   "name": "python",
   "nbconvert_exporter": "python",
   "pygments_lexer": "ipython2",
   "version": "2.7.6"
  }
 },
 "nbformat": 4,
 "nbformat_minor": 5
}
