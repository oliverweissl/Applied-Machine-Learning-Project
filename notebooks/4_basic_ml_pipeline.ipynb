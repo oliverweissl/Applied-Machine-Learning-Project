{
 "cells": [
  {
   "cell_type": "code",
   "execution_count": 17,
   "id": "initial_id",
   "metadata": {
    "collapsed": true
   },
   "outputs": [
    {
     "name": "stdout",
     "output_type": "stream",
     "text": [
      "The autoreload extension is already loaded. To reload it, use:\n",
      "  %reload_ext autoreload\n"
     ]
    }
   ],
   "source": [
    "import pandas as pd\n",
    "from models import base_res_net, small_res_net, efficient_net, pretrained_mobilenet, big_model\n",
    "import tensorflow as tf\n",
    "import tensorflow.compat.v1 as tfc\n",
    "from sklearn.utils.class_weight import compute_class_weight\n",
    "\n",
    "from modeling import predict\n",
    "from src import InputPipeline\n",
    "\n",
    "%load_ext autoreload\n",
    "%autoreload 2"
   ]
  },
  {
   "cell_type": "markdown",
   "source": [
    "## Check GPU for tf"
   ],
   "metadata": {
    "collapsed": false
   },
   "id": "627a750892efbdf9"
  },
  {
   "cell_type": "code",
   "execution_count": 2,
   "outputs": [
    {
     "ename": "SystemError",
     "evalue": "GPU device not found",
     "output_type": "error",
     "traceback": [
      "\u001B[1;31m---------------------------------------------------------------------------\u001B[0m",
      "\u001B[1;31mSystemError\u001B[0m                               Traceback (most recent call last)",
      "Cell \u001B[1;32mIn[2], line 8\u001B[0m\n\u001B[0;32m      6\u001B[0m device_name \u001B[38;5;241m=\u001B[39m tf\u001B[38;5;241m.\u001B[39mtest\u001B[38;5;241m.\u001B[39mgpu_device_name()\n\u001B[0;32m      7\u001B[0m \u001B[38;5;28;01mif\u001B[39;00m \u001B[38;5;129;01mnot\u001B[39;00m device_name:\n\u001B[1;32m----> 8\u001B[0m   \u001B[38;5;28;01mraise\u001B[39;00m \u001B[38;5;167;01mSystemError\u001B[39;00m(\u001B[38;5;124m'\u001B[39m\u001B[38;5;124mGPU device not found\u001B[39m\u001B[38;5;124m'\u001B[39m)\n\u001B[0;32m      9\u001B[0m \u001B[38;5;28;01mtry\u001B[39;00m:  \u001B[38;5;66;03m# prevent a previous session from being alive\u001B[39;00m\n\u001B[0;32m     10\u001B[0m   sess\u001B[38;5;241m.\u001B[39mclose() \n",
      "\u001B[1;31mSystemError\u001B[0m: GPU device not found"
     ]
    }
   ],
   "source": [
    "# Some GPU setup\n",
    "# for documentation about using gpus refer to: https://www.tensorflow.org/install/pip#windows-wsl2\n",
    "\n",
    "tf.keras.backend.clear_session()\n",
    "\n",
    "device_name = tf.test.gpu_device_name()\n",
    "if not device_name:\n",
    "  raise SystemError('GPU device not found')\n",
    "try:  # prevent a previous session from being alive\n",
    "  sess.close() \n",
    "except:\n",
    "  pass\n",
    "\n",
    "tfc.enable_eager_execution()\n",
    "gpu_options= tfc.GPUOptions(per_process_gpu_memory_fraction = 0.8)\n",
    "sess = tfc.InteractiveSession(config=tfc.ConfigProto(gpu_options=gpu_options))"
   ],
   "metadata": {
    "collapsed": false
   },
   "id": "20f7764292bb4e8f"
  },
  {
   "cell_type": "markdown",
   "source": [
    "### Optional Stuff\n",
    "- Here we compute classweights since the data is very imbalanced"
   ],
   "metadata": {
    "collapsed": false
   },
   "id": "2bd6fa03166027bf"
  },
  {
   "cell_type": "code",
   "execution_count": 3,
   "outputs": [],
   "source": [
    "train_df = pd.read_csv(\"../data/train_images_stratified.csv\")"
   ],
   "metadata": {
    "collapsed": false
   },
   "id": "dbbeb2f7c31d69b5"
  },
  {
   "cell_type": "code",
   "execution_count": 4,
   "outputs": [],
   "source": [
    "class_weights = compute_class_weight(class_weight = 'balanced', classes = train_df[\"label\"].unique(), y=train_df[\"label\"])\n",
    "class_weights = dict(enumerate(class_weights))"
   ],
   "metadata": {
    "collapsed": false
   },
   "id": "77c9b74db259162b"
  },
  {
   "cell_type": "markdown",
   "source": [
    "## Configure Parameters"
   ],
   "metadata": {
    "collapsed": false
   },
   "id": "cabc5747ca16eb86"
  },
  {
   "cell_type": "code",
   "execution_count": 11,
   "outputs": [],
   "source": [
    "INPUT_SHAPE = (224,224,3)\n",
    "\n",
    "CONF = {\n",
    "  \"learning_rate\": 0.00001,\n",
    "  \"batch_size\": 16,\n",
    "  \"epochs\": 2,\n",
    "  \"loss_function\": \"sparse_categorical_crossentropy\",\n",
    "  \"metric\": \"categorical_accuracy\",\n",
    "}"
   ],
   "metadata": {
    "collapsed": false
   },
   "id": "b925aeaf5dd5bc8a"
  },
  {
   "cell_type": "markdown",
   "source": [
    "## Make Input Pipelines"
   ],
   "metadata": {
    "collapsed": false
   },
   "id": "a9d757ac727bb83d"
  },
  {
   "cell_type": "code",
   "execution_count": 7,
   "outputs": [
    {
     "name": "stdout",
     "output_type": "stream",
     "text": [
      "Datasets populated!\n"
     ]
    },
    {
     "data": {
      "text/plain": "'\\n# Input pipeline for species\\nspecies_input_pipeline = InputPipeline(splits=(0.85,0.0,0.15), channels=3, batch_size=CONF[\"batch_size\"], size=INPUT_SHAPE[:2])\\nspecies_input_pipeline.make_train_datasets(directory=\"../data/train_images/species_classify\")  # This doesnt have a stratified split\\n'"
     },
     "execution_count": 7,
     "metadata": {},
     "output_type": "execute_result"
    }
   ],
   "source": [
    "# Input pipeline for subspecies\n",
    "sub_species_input_pipeline = InputPipeline(splits=(0.85,0.0,0.15), channels=3, batch_size=CONF[\"batch_size\"], size=INPUT_SHAPE[:2])\n",
    "# This has a stratified split\n",
    "sub_species_input_pipeline.make_stratified_train_dataset(\n",
    "  train_ds_path= \"../data/train_ds_images_stratified.csv\",\n",
    "  val_ds_path=\"../data/val_ds_images_stratified.csv\",\n",
    ")\n",
    "\"\"\"\n",
    "# Input pipeline for species\n",
    "species_input_pipeline = InputPipeline(splits=(0.85,0.0,0.15), channels=3, batch_size=CONF[\"batch_size\"], size=INPUT_SHAPE[:2])\n",
    "species_input_pipeline.make_train_datasets(directory=\"../data/train_images/species_classify\")  # This doesnt have a stratified split\n",
    "\"\"\""
   ],
   "metadata": {
    "collapsed": false
   },
   "id": "7b661b3ee9ebcaac"
  },
  {
   "cell_type": "code",
   "execution_count": 8,
   "outputs": [],
   "source": [
    "# Cache and prefetch datasets for faster access\n",
    "sub_species_cached_train, sub_species_cached_val = sub_species_input_pipeline.get_cached_train_datasets()\n",
    "#species_cached_train, species_cached_val = species_input_pipeline.get_cached_train_datasets()"
   ],
   "metadata": {
    "collapsed": false
   },
   "id": "ca900ffde88390ca"
  },
  {
   "cell_type": "markdown",
   "source": [
    "## Training a Model"
   ],
   "metadata": {
    "collapsed": false
   },
   "id": "ac46ea2dd7c43927"
  },
  {
   "cell_type": "code",
   "execution_count": 12,
   "outputs": [],
   "source": [
    "from modeling import train_classifier"
   ],
   "metadata": {
    "collapsed": false
   },
   "id": "cb7d66f05ef541bf"
  },
  {
   "cell_type": "code",
   "execution_count": 13,
   "outputs": [
    {
     "name": "stdout",
     "output_type": "stream",
     "text": [
      "Epoch 1/2\n",
      "710/710 [==============================] - 445s 618ms/step - loss: 13.4464 - categorical_accuracy: 0.0011 - val_loss: 12.8326 - val_categorical_accuracy: 8.2254e-04\n",
      "Epoch 2/2\n",
      "710/710 [==============================] - 392s 552ms/step - loss: 12.8856 - categorical_accuracy: 0.0014 - val_loss: 12.3446 - val_categorical_accuracy: 8.2254e-04\n"
     ]
    },
    {
     "name": "stderr",
     "output_type": "stream",
     "text": [
      "WARNING:absl:Found untraced functions such as _jit_compiled_convolution_op, _jit_compiled_convolution_op, _jit_compiled_convolution_op, _jit_compiled_convolution_op, _jit_compiled_convolution_op while saving (showing 5 of 91). These functions will not be directly callable after loading.\n"
     ]
    },
    {
     "name": "stdout",
     "output_type": "stream",
     "text": [
      "INFO:tensorflow:Assets written to: ../classifiers/subspecies_effnet_classifier\\assets\n"
     ]
    },
    {
     "name": "stderr",
     "output_type": "stream",
     "text": [
      "INFO:tensorflow:Assets written to: ../classifiers/subspecies_effnet_classifier\\assets\n"
     ]
    },
    {
     "name": "stdout",
     "output_type": "stream",
     "text": [
      "Model saved successfully under: ../classifiers/subspecies_effnet_classifier\n"
     ]
    }
   ],
   "source": [
    "# making the species classifier\n",
    "train_classifier(\n",
    "  model_name=\"../classifiers/subspecies_effnet_classifier\",\n",
    "  input_shape=INPUT_SHAPE,\n",
    "  classes_to_classify=200,\n",
    "  configuration=CONF,\n",
    "  model=efficient_net, \n",
    "  train_dataset=sub_species_cached_train,\n",
    "  validation_dataset=sub_species_cached_val,\n",
    ")"
   ],
   "metadata": {
    "collapsed": false
   },
   "id": "f0e22ecd1236e0be"
  },
  {
   "cell_type": "code",
   "execution_count": null,
   "outputs": [],
   "source": [
    "# making the species classifier\n",
    "train_classifier(\n",
    "  model_name=\"../classifiers/species_efficient_net_classifier\",\n",
    "  input_shape=INPUT_SHAPE,\n",
    "  classes_to_classify=70,\n",
    "  configuration=CONF,\n",
    "  model=big_model, \n",
    "  train_dataset=species_cached_train,\n",
    "  validation_dataset=species_cached_val,\n",
    ")"
   ],
   "metadata": {
    "collapsed": false
   },
   "id": "5941ba5f98ad9cfc"
  },
  {
   "cell_type": "markdown",
   "source": [
    "## Predict Stuff"
   ],
   "metadata": {
    "collapsed": false
   },
   "id": "38f09d3db498d1bd"
  },
  {
   "cell_type": "code",
   "execution_count": 20,
   "outputs": [],
   "source": [
    "from modeling import predict\n",
    "import pickle"
   ],
   "metadata": {
    "collapsed": false
   },
   "id": "31867211f0ef523c"
  },
  {
   "cell_type": "code",
   "execution_count": 22,
   "outputs": [],
   "source": [
    "# Load mapping for stacked classifiers\n",
    "with open(\"mapping.pickle\", \"rb+\") as f:\n",
    "  mapping = pickle.load(f)"
   ],
   "metadata": {
    "collapsed": false
   },
   "id": "75d0e57ae81101f8"
  },
  {
   "cell_type": "code",
   "execution_count": 14,
   "outputs": [
    {
     "name": "stdout",
     "output_type": "stream",
     "text": [
      "Found 4000 files belonging to 1 classes.\n",
      "Datasets populated!\n"
     ]
    }
   ],
   "source": [
    "# Make Train Dataset\n",
    "sub_species_input_pipeline.make_test_dataset(directory=\"../data/test_images/test_images\")\n",
    "test_cached = sub_species_input_pipeline.get_cached_test_datasets()"
   ],
   "metadata": {
    "collapsed": false
   },
   "id": "1b565e9ffe11df3b"
  },
  {
   "cell_type": "code",
   "execution_count": 24,
   "outputs": [
    {
     "name": "stdout",
     "output_type": "stream",
     "text": [
      "250/250 [==============================] - 94s 371ms/step\n"
     ]
    }
   ],
   "source": [
    "predict(\n",
    "  species_classifier=None,\n",
    "  subspecies_classifier=\"../classifiers/subspecies_effnet_classifier\",\n",
    "  dataset=test_cached,\n",
    "  species_subspecies_dict=mapping\n",
    ")"
   ],
   "metadata": {
    "collapsed": false
   },
   "id": "83dc918d28dd21e3"
  },
  {
   "cell_type": "code",
   "execution_count": 25,
   "outputs": [
    {
     "data": {
      "text/plain": "           0         1         2         3         4         5         6    \\\n0     0.002896  0.001725  0.001646  0.005043  0.006721  0.001839  0.005976   \n1     0.002560  0.005014  0.002973  0.004587  0.002739  0.003644  0.004132   \n2     0.005217  0.001772  0.000972  0.003331  0.008229  0.002768  0.006206   \n3     0.003193  0.000751  0.001080  0.002853  0.006323  0.003186  0.002718   \n4     0.003500  0.005102  0.003022  0.013020  0.002236  0.001699  0.003377   \n...        ...       ...       ...       ...       ...       ...       ...   \n3995  0.008739  0.002381  0.000551  0.004477  0.005560  0.001382  0.006818   \n3996  0.024270  0.008316  0.004346  0.004327  0.024498  0.000888  0.003104   \n3997  0.003134  0.001473  0.001195  0.000869  0.000641  0.001476  0.001716   \n3998  0.006810  0.006160  0.004645  0.004745  0.004541  0.004944  0.003430   \n3999  0.002293  0.002148  0.001392  0.011959  0.003544  0.008142  0.004144   \n\n           7         8         9    ...       190       191       192  \\\n0     0.006114  0.004897  0.002643  ...  0.006666  0.006774  0.002534   \n1     0.002953  0.022674  0.000939  ...  0.006132  0.009821  0.001731   \n2     0.001800  0.013020  0.006092  ...  0.004286  0.001819  0.003178   \n3     0.001565  0.005973  0.000474  ...  0.009828  0.006564  0.009180   \n4     0.001652  0.036056  0.000874  ...  0.002431  0.017416  0.003082   \n...        ...       ...       ...  ...       ...       ...       ...   \n3995  0.003654  0.025638  0.000803  ...  0.001228  0.003919  0.004611   \n3996  0.003490  0.014565  0.001217  ...  0.004585  0.003573  0.001733   \n3997  0.004564  0.018126  0.001961  ...  0.003859  0.006803  0.001627   \n3998  0.003855  0.016416  0.002063  ...  0.003911  0.008960  0.001482   \n3999  0.002796  0.013007  0.001794  ...  0.002414  0.004549  0.008312   \n\n           193       194       195       196       197       198       199  \n0     0.004331  0.003049  0.002480  0.006581  0.007452  0.005033  0.011459  \n1     0.001797  0.001024  0.001706  0.001251  0.004615  0.002908  0.003115  \n2     0.000917  0.002992  0.002622  0.003233  0.007683  0.001933  0.007153  \n3     0.003265  0.002168  0.001795  0.002610  0.005230  0.004331  0.006702  \n4     0.003119  0.004669  0.005726  0.001684  0.001725  0.001460  0.002081  \n...        ...       ...       ...       ...       ...       ...       ...  \n3995  0.002136  0.002614  0.002539  0.002369  0.008829  0.003108  0.006769  \n3996  0.003865  0.001526  0.004191  0.002437  0.000690  0.000938  0.001715  \n3997  0.001599  0.002060  0.001694  0.004685  0.007818  0.004010  0.012787  \n3998  0.001569  0.001972  0.001983  0.000809  0.009476  0.002103  0.006041  \n3999  0.002316  0.011297  0.003558  0.002859  0.006861  0.001272  0.003803  \n\n[4000 rows x 200 columns]",
      "text/html": "<div>\n<style scoped>\n    .dataframe tbody tr th:only-of-type {\n        vertical-align: middle;\n    }\n\n    .dataframe tbody tr th {\n        vertical-align: top;\n    }\n\n    .dataframe thead th {\n        text-align: right;\n    }\n</style>\n<table border=\"1\" class=\"dataframe\">\n  <thead>\n    <tr style=\"text-align: right;\">\n      <th></th>\n      <th>0</th>\n      <th>1</th>\n      <th>2</th>\n      <th>3</th>\n      <th>4</th>\n      <th>5</th>\n      <th>6</th>\n      <th>7</th>\n      <th>8</th>\n      <th>9</th>\n      <th>...</th>\n      <th>190</th>\n      <th>191</th>\n      <th>192</th>\n      <th>193</th>\n      <th>194</th>\n      <th>195</th>\n      <th>196</th>\n      <th>197</th>\n      <th>198</th>\n      <th>199</th>\n    </tr>\n  </thead>\n  <tbody>\n    <tr>\n      <th>0</th>\n      <td>0.002896</td>\n      <td>0.001725</td>\n      <td>0.001646</td>\n      <td>0.005043</td>\n      <td>0.006721</td>\n      <td>0.001839</td>\n      <td>0.005976</td>\n      <td>0.006114</td>\n      <td>0.004897</td>\n      <td>0.002643</td>\n      <td>...</td>\n      <td>0.006666</td>\n      <td>0.006774</td>\n      <td>0.002534</td>\n      <td>0.004331</td>\n      <td>0.003049</td>\n      <td>0.002480</td>\n      <td>0.006581</td>\n      <td>0.007452</td>\n      <td>0.005033</td>\n      <td>0.011459</td>\n    </tr>\n    <tr>\n      <th>1</th>\n      <td>0.002560</td>\n      <td>0.005014</td>\n      <td>0.002973</td>\n      <td>0.004587</td>\n      <td>0.002739</td>\n      <td>0.003644</td>\n      <td>0.004132</td>\n      <td>0.002953</td>\n      <td>0.022674</td>\n      <td>0.000939</td>\n      <td>...</td>\n      <td>0.006132</td>\n      <td>0.009821</td>\n      <td>0.001731</td>\n      <td>0.001797</td>\n      <td>0.001024</td>\n      <td>0.001706</td>\n      <td>0.001251</td>\n      <td>0.004615</td>\n      <td>0.002908</td>\n      <td>0.003115</td>\n    </tr>\n    <tr>\n      <th>2</th>\n      <td>0.005217</td>\n      <td>0.001772</td>\n      <td>0.000972</td>\n      <td>0.003331</td>\n      <td>0.008229</td>\n      <td>0.002768</td>\n      <td>0.006206</td>\n      <td>0.001800</td>\n      <td>0.013020</td>\n      <td>0.006092</td>\n      <td>...</td>\n      <td>0.004286</td>\n      <td>0.001819</td>\n      <td>0.003178</td>\n      <td>0.000917</td>\n      <td>0.002992</td>\n      <td>0.002622</td>\n      <td>0.003233</td>\n      <td>0.007683</td>\n      <td>0.001933</td>\n      <td>0.007153</td>\n    </tr>\n    <tr>\n      <th>3</th>\n      <td>0.003193</td>\n      <td>0.000751</td>\n      <td>0.001080</td>\n      <td>0.002853</td>\n      <td>0.006323</td>\n      <td>0.003186</td>\n      <td>0.002718</td>\n      <td>0.001565</td>\n      <td>0.005973</td>\n      <td>0.000474</td>\n      <td>...</td>\n      <td>0.009828</td>\n      <td>0.006564</td>\n      <td>0.009180</td>\n      <td>0.003265</td>\n      <td>0.002168</td>\n      <td>0.001795</td>\n      <td>0.002610</td>\n      <td>0.005230</td>\n      <td>0.004331</td>\n      <td>0.006702</td>\n    </tr>\n    <tr>\n      <th>4</th>\n      <td>0.003500</td>\n      <td>0.005102</td>\n      <td>0.003022</td>\n      <td>0.013020</td>\n      <td>0.002236</td>\n      <td>0.001699</td>\n      <td>0.003377</td>\n      <td>0.001652</td>\n      <td>0.036056</td>\n      <td>0.000874</td>\n      <td>...</td>\n      <td>0.002431</td>\n      <td>0.017416</td>\n      <td>0.003082</td>\n      <td>0.003119</td>\n      <td>0.004669</td>\n      <td>0.005726</td>\n      <td>0.001684</td>\n      <td>0.001725</td>\n      <td>0.001460</td>\n      <td>0.002081</td>\n    </tr>\n    <tr>\n      <th>...</th>\n      <td>...</td>\n      <td>...</td>\n      <td>...</td>\n      <td>...</td>\n      <td>...</td>\n      <td>...</td>\n      <td>...</td>\n      <td>...</td>\n      <td>...</td>\n      <td>...</td>\n      <td>...</td>\n      <td>...</td>\n      <td>...</td>\n      <td>...</td>\n      <td>...</td>\n      <td>...</td>\n      <td>...</td>\n      <td>...</td>\n      <td>...</td>\n      <td>...</td>\n      <td>...</td>\n    </tr>\n    <tr>\n      <th>3995</th>\n      <td>0.008739</td>\n      <td>0.002381</td>\n      <td>0.000551</td>\n      <td>0.004477</td>\n      <td>0.005560</td>\n      <td>0.001382</td>\n      <td>0.006818</td>\n      <td>0.003654</td>\n      <td>0.025638</td>\n      <td>0.000803</td>\n      <td>...</td>\n      <td>0.001228</td>\n      <td>0.003919</td>\n      <td>0.004611</td>\n      <td>0.002136</td>\n      <td>0.002614</td>\n      <td>0.002539</td>\n      <td>0.002369</td>\n      <td>0.008829</td>\n      <td>0.003108</td>\n      <td>0.006769</td>\n    </tr>\n    <tr>\n      <th>3996</th>\n      <td>0.024270</td>\n      <td>0.008316</td>\n      <td>0.004346</td>\n      <td>0.004327</td>\n      <td>0.024498</td>\n      <td>0.000888</td>\n      <td>0.003104</td>\n      <td>0.003490</td>\n      <td>0.014565</td>\n      <td>0.001217</td>\n      <td>...</td>\n      <td>0.004585</td>\n      <td>0.003573</td>\n      <td>0.001733</td>\n      <td>0.003865</td>\n      <td>0.001526</td>\n      <td>0.004191</td>\n      <td>0.002437</td>\n      <td>0.000690</td>\n      <td>0.000938</td>\n      <td>0.001715</td>\n    </tr>\n    <tr>\n      <th>3997</th>\n      <td>0.003134</td>\n      <td>0.001473</td>\n      <td>0.001195</td>\n      <td>0.000869</td>\n      <td>0.000641</td>\n      <td>0.001476</td>\n      <td>0.001716</td>\n      <td>0.004564</td>\n      <td>0.018126</td>\n      <td>0.001961</td>\n      <td>...</td>\n      <td>0.003859</td>\n      <td>0.006803</td>\n      <td>0.001627</td>\n      <td>0.001599</td>\n      <td>0.002060</td>\n      <td>0.001694</td>\n      <td>0.004685</td>\n      <td>0.007818</td>\n      <td>0.004010</td>\n      <td>0.012787</td>\n    </tr>\n    <tr>\n      <th>3998</th>\n      <td>0.006810</td>\n      <td>0.006160</td>\n      <td>0.004645</td>\n      <td>0.004745</td>\n      <td>0.004541</td>\n      <td>0.004944</td>\n      <td>0.003430</td>\n      <td>0.003855</td>\n      <td>0.016416</td>\n      <td>0.002063</td>\n      <td>...</td>\n      <td>0.003911</td>\n      <td>0.008960</td>\n      <td>0.001482</td>\n      <td>0.001569</td>\n      <td>0.001972</td>\n      <td>0.001983</td>\n      <td>0.000809</td>\n      <td>0.009476</td>\n      <td>0.002103</td>\n      <td>0.006041</td>\n    </tr>\n    <tr>\n      <th>3999</th>\n      <td>0.002293</td>\n      <td>0.002148</td>\n      <td>0.001392</td>\n      <td>0.011959</td>\n      <td>0.003544</td>\n      <td>0.008142</td>\n      <td>0.004144</td>\n      <td>0.002796</td>\n      <td>0.013007</td>\n      <td>0.001794</td>\n      <td>...</td>\n      <td>0.002414</td>\n      <td>0.004549</td>\n      <td>0.008312</td>\n      <td>0.002316</td>\n      <td>0.011297</td>\n      <td>0.003558</td>\n      <td>0.002859</td>\n      <td>0.006861</td>\n      <td>0.001272</td>\n      <td>0.003803</td>\n    </tr>\n  </tbody>\n</table>\n<p>4000 rows × 200 columns</p>\n</div>"
     },
     "metadata": {},
     "output_type": "display_data"
    }
   ],
   "source": [],
   "metadata": {
    "collapsed": false
   }
  },
  {
   "cell_type": "code",
   "execution_count": null,
   "outputs": [],
   "source": [
    "# TF predicts labels from 0-199, however we need 1-200: Therefore we need to adjust the predictions.\n",
    "adj_df_src = \"../data/test_images_sample_1701013215.0550277.csv\"\n",
    "pred_df = pd.read_csv(adj_df_src, index_col=0)\n",
    "pred_df[\"label\"] += 1\n",
    "pred_df.to_csv(adj_df_src)"
   ],
   "metadata": {
    "collapsed": false
   },
   "id": "c8798781ca47503d"
  }
 ],
 "metadata": {
  "kernelspec": {
   "display_name": "Python 3",
   "language": "python",
   "name": "python3"
  },
  "language_info": {
   "codemirror_mode": {
    "name": "ipython",
    "version": 2
   },
   "file_extension": ".py",
   "mimetype": "text/x-python",
   "name": "python",
   "nbconvert_exporter": "python",
   "pygments_lexer": "ipython2",
   "version": "2.7.6"
  }
 },
 "nbformat": 4,
 "nbformat_minor": 5
}
