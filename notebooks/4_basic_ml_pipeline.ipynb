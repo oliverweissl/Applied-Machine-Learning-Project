{
 "cells": [
  {
   "cell_type": "code",
   "execution_count": 17,
   "id": "initial_id",
   "metadata": {
    "collapsed": true,
    "ExecuteTime": {
     "end_time": "2023-11-29T09:18:05.279999600Z",
     "start_time": "2023-11-29T09:18:04.767998600Z"
    }
   },
   "outputs": [
    {
     "name": "stdout",
     "output_type": "stream",
     "text": [
      "The autoreload extension is already loaded. To reload it, use:\n",
      "  %reload_ext autoreload\n"
     ]
    }
   ],
   "source": [
    "import pandas as pd\n",
    "from models import base_res_net, small_res_net, efficient_net, pretrained_mobilenet, big_model\n",
    "import tensorflow as tf\n",
    "import tensorflow.compat.v1 as tfc\n",
    "from sklearn.utils.class_weight import compute_class_weight\n",
    "\n",
    "from modeling import predict, predict_from_csv\n",
    "from src import InputPipeline\n",
    "\n",
    "%load_ext autoreload\n",
    "%autoreload 2"
   ]
  },
  {
   "cell_type": "markdown",
   "source": [
    "## Check GPU for tf"
   ],
   "metadata": {
    "collapsed": false
   },
   "id": "627a750892efbdf9"
  },
  {
   "cell_type": "code",
   "execution_count": 18,
   "outputs": [],
   "source": [
    "# Some GPU setup\n",
    "# for documentation about using gpus refer to: https://www.tensorflow.org/install/pip#windows-wsl2\n",
    "\n",
    "tf.keras.backend.clear_session()\n",
    "\n",
    "device_name = tf.test.gpu_device_name()\n",
    "if not device_name:\n",
    "  raise SystemError('GPU device not found')\n",
    "try:  # prevent a previous session from being alive\n",
    "  sess.close() \n",
    "except:\n",
    "  pass\n",
    "\n",
    "tfc.enable_eager_execution()\n",
    "gpu_options= tfc.GPUOptions(per_process_gpu_memory_fraction = 0.90)\n",
    "sess = tfc.InteractiveSession(config=tfc.ConfigProto(gpu_options=gpu_options))"
   ],
   "metadata": {
    "collapsed": false,
    "ExecuteTime": {
     "end_time": "2023-11-29T09:18:07.901999900Z",
     "start_time": "2023-11-29T09:18:05.285997200Z"
    }
   },
   "id": "20f7764292bb4e8f"
  },
  {
   "cell_type": "markdown",
   "source": [
    "### Optional Stuff\n",
    "- Here we compute classweights since the data is very imbalanced"
   ],
   "metadata": {
    "collapsed": false
   },
   "id": "2bd6fa03166027bf"
  },
  {
   "cell_type": "code",
   "execution_count": 19,
   "outputs": [],
   "source": [
    "train_df = pd.read_csv(\"../data/train_images_stratified.csv\")"
   ],
   "metadata": {
    "collapsed": false,
    "ExecuteTime": {
     "end_time": "2023-11-29T09:18:08.430003400Z",
     "start_time": "2023-11-29T09:18:07.903998500Z"
    }
   },
   "id": "dbbeb2f7c31d69b5"
  },
  {
   "cell_type": "code",
   "execution_count": 20,
   "outputs": [],
   "source": [
    "class_weights = compute_class_weight(class_weight = 'balanced', classes = train_df[\"label\"].unique(), y=train_df[\"label\"])\n",
    "class_weights = dict(enumerate(class_weights))"
   ],
   "metadata": {
    "collapsed": false,
    "ExecuteTime": {
     "end_time": "2023-11-29T09:18:08.820084700Z",
     "start_time": "2023-11-29T09:18:08.431994500Z"
    }
   },
   "id": "77c9b74db259162b"
  },
  {
   "cell_type": "markdown",
   "source": [
    "## Configure Parameters"
   ],
   "metadata": {
    "collapsed": false
   },
   "id": "cabc5747ca16eb86"
  },
  {
   "cell_type": "code",
   "execution_count": 21,
   "outputs": [],
   "source": [
    "INPUT_SHAPE = (220,220,3)\n",
    "\n",
    "CONF = {\n",
    "  \"learning_rate\": 0.00001,\n",
    "  \"batch_size\": 48,\n",
    "  \"epochs\": 150,\n",
    "  \"loss_function\": \"sparse_categorical_crossentropy\",\n",
    "  \"metric\": \"sparse_categorical_accuracy\",\n",
    "}"
   ],
   "metadata": {
    "collapsed": false,
    "ExecuteTime": {
     "end_time": "2023-11-29T09:18:09.363012100Z",
     "start_time": "2023-11-29T09:18:08.823010400Z"
    }
   },
   "id": "b925aeaf5dd5bc8a"
  },
  {
   "cell_type": "markdown",
   "source": [
    "## Make Input Pipelines"
   ],
   "metadata": {
    "collapsed": false
   },
   "id": "a9d757ac727bb83d"
  },
  {
   "cell_type": "code",
   "execution_count": 22,
   "outputs": [
    {
     "name": "stdout",
     "output_type": "stream",
     "text": [
      "Datasets populated!\n",
      "Found 15704 files belonging to 70 classes.\n",
      "Using 13349 files for training.\n",
      "Using 2355 files for validation.\n",
      "Datasets populated!\n"
     ]
    }
   ],
   "source": [
    "# Input pipeline for subspecies\n",
    "sub_species_input_pipeline = InputPipeline(splits=(0.85,0.0,0.15), channels=3, batch_size=CONF[\"batch_size\"], size=INPUT_SHAPE[:2])\n",
    "# This has a stratified split\n",
    "sub_species_input_pipeline.make_stratified_train_dataset(\n",
    "  train_ds_path= \"../data/train_ds_images_stratified.csv\",\n",
    "  val_ds_path=\"../data/val_ds_images_stratified.csv\",\n",
    ")\n",
    "\n",
    "\n",
    "# Input pipeline for species\n",
    "species_input_pipeline = InputPipeline(splits=(0.85,0.0,0.15), channels=3, batch_size=CONF[\"batch_size\"], size=INPUT_SHAPE[:2])\n",
    "species_input_pipeline.make_train_datasets(directory=\"../data/train_images/species_classify\")  # This doesnt have a stratified split\n"
   ],
   "metadata": {
    "collapsed": false,
    "ExecuteTime": {
     "end_time": "2023-11-29T09:18:11.701963400Z",
     "start_time": "2023-11-29T09:18:09.364002200Z"
    }
   },
   "id": "7b661b3ee9ebcaac"
  },
  {
   "cell_type": "code",
   "execution_count": null,
   "outputs": [],
   "source": [
    "# Cache and prefetch datasets for faster access\n",
    "sub_species_cached_train, sub_species_cached_val = sub_species_input_pipeline.get_cached_train_datasets()\n",
    "species_cached_train, species_cached_val = species_input_pipeline.get_cached_train_datasets()"
   ],
   "metadata": {
    "collapsed": false
   },
   "id": "ca900ffde88390ca"
  },
  {
   "cell_type": "markdown",
   "source": [
    "## Training a Model"
   ],
   "metadata": {
    "collapsed": false
   },
   "id": "ac46ea2dd7c43927"
  },
  {
   "cell_type": "code",
   "execution_count": 23,
   "outputs": [],
   "source": [
    "from modeling import train_classifier"
   ],
   "metadata": {
    "collapsed": false,
    "ExecuteTime": {
     "end_time": "2023-11-29T09:18:13.615392300Z",
     "start_time": "2023-11-29T09:18:12.770261300Z"
    }
   },
   "id": "cb7d66f05ef541bf"
  },
  {
   "cell_type": "code",
   "execution_count": null,
   "outputs": [],
   "source": [
    "# making the species classifier\n",
    "train_classifier(\n",
    "  model_name=\"../classifiers/subspecies_effnet_classifier\",\n",
    "  input_shape=INPUT_SHAPE,\n",
    "  classes_to_classify=200,\n",
    "  configuration=CONF,\n",
    "  model=efficient_net, \n",
    "  train_dataset=sub_species_input_pipeline.train_dataset,\n",
    "  validation_dataset=sub_species_input_pipeline.validation_dataset,\n",
    ")"
   ],
   "metadata": {
    "collapsed": false,
    "is_executing": true,
    "ExecuteTime": {
     "start_time": "2023-11-29T09:18:13.797394200Z"
    }
   },
   "id": "f0e22ecd1236e0be"
  },
  {
   "cell_type": "code",
   "execution_count": null,
   "outputs": [],
   "source": [
    "# making the species classifier\n",
    "train_classifier(\n",
    "  model_name=\"../classifiers/species_efficient_net_classifier\",\n",
    "  input_shape=INPUT_SHAPE,\n",
    "  classes_to_classify=70,\n",
    "  configuration=CONF,\n",
    "  model=efficient_net, \n",
    "  train_dataset=species_cached_train,\n",
    "  validation_dataset=species_cached_val,\n",
    ")"
   ],
   "metadata": {
    "collapsed": false
   },
   "id": "5941ba5f98ad9cfc"
  },
  {
   "cell_type": "markdown",
   "source": [
    "## Predict Stuff"
   ],
   "metadata": {
    "collapsed": false
   },
   "id": "38f09d3db498d1bd"
  },
  {
   "cell_type": "code",
   "execution_count": null,
   "outputs": [],
   "source": [
    "from modeling import predict\n",
    "import pickle"
   ],
   "metadata": {
    "collapsed": false
   },
   "id": "31867211f0ef523c"
  },
  {
   "cell_type": "code",
   "execution_count": null,
   "outputs": [],
   "source": [
    "# Load mapping for stacked classifiers\n",
    "with open(\"../mapping.pickle\", \"rb+\") as f:\n",
    "  mapping = pickle.load(f)"
   ],
   "metadata": {
    "collapsed": false
   },
   "id": "75d0e57ae81101f8"
  },
  {
   "cell_type": "code",
   "execution_count": null,
   "outputs": [],
   "source": [
    "# Make Train Dataset\n",
    "sub_species_input_pipeline.make_test_dataset(directory=\"../data/test_images/test_images\")\n",
    "test_cached = sub_species_input_pipeline.get_cached_test_datasets()"
   ],
   "metadata": {
    "collapsed": false
   },
   "id": "1b565e9ffe11df3b"
  },
  {
   "cell_type": "code",
   "execution_count": null,
   "outputs": [],
   "source": [
    "predict(\n",
    "  species_classifier=None,\n",
    "  subspecies_classifier=\"../classifiers/subspecies_effnet_classifier\",\n",
    "  dataset=test_cached,\n",
    "  species_subspecies_dict=mapping\n",
    ")"
   ],
   "metadata": {
    "collapsed": false
   },
   "id": "83dc918d28dd21e3"
  },
  {
   "cell_type": "code",
   "execution_count": null,
   "outputs": [],
   "source": [
    "# TF predicts labels from 0-199, however we need 1-200: Therefore we need to adjust the predictions.\n",
    "adj_df_src = \"../data/test_images_sample_1701245740.5383716.csv\"\n",
    "pred_df = pd.read_csv(adj_df_src, index_col=0)\n",
    "pred_df[\"label\"] += 1\n",
    "pred_df.to_csv(adj_df_src)"
   ],
   "metadata": {
    "collapsed": false
   },
   "id": "c8798781ca47503d"
  },
  {
   "cell_type": "markdown",
   "source": [
    "# New prediction"
   ],
   "metadata": {
    "collapsed": false
   },
   "id": "36a94c8f95dc7ec9"
  },
  {
   "cell_type": "code",
   "execution_count": 9,
   "outputs": [
    {
     "name": "stderr",
     "output_type": "stream",
     "text": [
      "predicting: 100%|██████████| 4000/4000 [07:20<00:00,  9.07it/s]\n"
     ]
    },
    {
     "name": "stdout",
     "output_type": "stream",
     "text": [
      "Saving to: ../data/test_images_sample_1701249151.784157.csv\n"
     ]
    }
   ],
   "source": [
    "# No label adjustments needed afterwards!!!!!!\n",
    "predict_from_csv(\n",
    "  subspecies_classifier=\"../classifiers/subspecies_effnet_classifier\",\n",
    "  dataset=\"../data/test_images_path.csv\",\n",
    "  path=\"../data/test_images\",\n",
    "  size=INPUT_SHAPE,\n",
    ")"
   ],
   "metadata": {
    "collapsed": false,
    "ExecuteTime": {
     "end_time": "2023-11-29T09:12:31.844248500Z",
     "start_time": "2023-11-29T09:04:45.070323300Z"
    }
   },
   "id": "e4b5ad1381a9eb19"
  },
  {
   "cell_type": "code",
   "execution_count": 10,
   "outputs": [],
   "source": [
    "df = pd.read_csv(\"../data/test_images_sample_1701249151.784157.csv\", index_col=0)"
   ],
   "metadata": {
    "collapsed": false,
    "ExecuteTime": {
     "end_time": "2023-11-29T09:14:13.507353800Z",
     "start_time": "2023-11-29T09:14:13.135029900Z"
    }
   },
   "id": "a9707b07168a2a06"
  },
  {
   "cell_type": "code",
   "execution_count": 11,
   "outputs": [
    {
     "data": {
      "text/plain": "      label\nid         \n1      68.0\n2      39.0\n3      74.0\n4      12.0\n5      74.0\n...     ...\n3996   94.0\n3997   55.0\n3998   40.0\n3999   66.0\n4000  111.0\n\n[4000 rows x 1 columns]",
      "text/html": "<div>\n<style scoped>\n    .dataframe tbody tr th:only-of-type {\n        vertical-align: middle;\n    }\n\n    .dataframe tbody tr th {\n        vertical-align: top;\n    }\n\n    .dataframe thead th {\n        text-align: right;\n    }\n</style>\n<table border=\"1\" class=\"dataframe\">\n  <thead>\n    <tr style=\"text-align: right;\">\n      <th></th>\n      <th>label</th>\n    </tr>\n    <tr>\n      <th>id</th>\n      <th></th>\n    </tr>\n  </thead>\n  <tbody>\n    <tr>\n      <th>1</th>\n      <td>68.0</td>\n    </tr>\n    <tr>\n      <th>2</th>\n      <td>39.0</td>\n    </tr>\n    <tr>\n      <th>3</th>\n      <td>74.0</td>\n    </tr>\n    <tr>\n      <th>4</th>\n      <td>12.0</td>\n    </tr>\n    <tr>\n      <th>5</th>\n      <td>74.0</td>\n    </tr>\n    <tr>\n      <th>...</th>\n      <td>...</td>\n    </tr>\n    <tr>\n      <th>3996</th>\n      <td>94.0</td>\n    </tr>\n    <tr>\n      <th>3997</th>\n      <td>55.0</td>\n    </tr>\n    <tr>\n      <th>3998</th>\n      <td>40.0</td>\n    </tr>\n    <tr>\n      <th>3999</th>\n      <td>66.0</td>\n    </tr>\n    <tr>\n      <th>4000</th>\n      <td>111.0</td>\n    </tr>\n  </tbody>\n</table>\n<p>4000 rows × 1 columns</p>\n</div>"
     },
     "metadata": {},
     "output_type": "display_data"
    }
   ],
   "source": [
    "display(df)"
   ],
   "metadata": {
    "collapsed": false,
    "ExecuteTime": {
     "end_time": "2023-11-29T09:14:17.449492100Z",
     "start_time": "2023-11-29T09:14:16.992493400Z"
    }
   },
   "id": "19fa68051fab3b78"
  },
  {
   "cell_type": "code",
   "execution_count": 13,
   "outputs": [],
   "source": [
    "df = df.fillna(value=111)"
   ],
   "metadata": {
    "collapsed": false,
    "ExecuteTime": {
     "end_time": "2023-11-29T09:15:15.930555900Z",
     "start_time": "2023-11-29T09:15:15.553562100Z"
    }
   },
   "id": "b285ba9b9bf680cf"
  },
  {
   "cell_type": "code",
   "execution_count": 14,
   "outputs": [],
   "source": [
    "df[\"label\"] = df[\"label\"].apply(int)"
   ],
   "metadata": {
    "collapsed": false,
    "ExecuteTime": {
     "end_time": "2023-11-29T09:15:32.666877500Z",
     "start_time": "2023-11-29T09:15:32.279881300Z"
    }
   },
   "id": "d0cac37f898e4f7c"
  },
  {
   "cell_type": "code",
   "execution_count": 15,
   "outputs": [
    {
     "data": {
      "text/plain": "      label\nid         \n1        68\n2        39\n3        74\n4        12\n5        74\n...     ...\n3996     94\n3997     55\n3998     40\n3999     66\n4000    111\n\n[4000 rows x 1 columns]",
      "text/html": "<div>\n<style scoped>\n    .dataframe tbody tr th:only-of-type {\n        vertical-align: middle;\n    }\n\n    .dataframe tbody tr th {\n        vertical-align: top;\n    }\n\n    .dataframe thead th {\n        text-align: right;\n    }\n</style>\n<table border=\"1\" class=\"dataframe\">\n  <thead>\n    <tr style=\"text-align: right;\">\n      <th></th>\n      <th>label</th>\n    </tr>\n    <tr>\n      <th>id</th>\n      <th></th>\n    </tr>\n  </thead>\n  <tbody>\n    <tr>\n      <th>1</th>\n      <td>68</td>\n    </tr>\n    <tr>\n      <th>2</th>\n      <td>39</td>\n    </tr>\n    <tr>\n      <th>3</th>\n      <td>74</td>\n    </tr>\n    <tr>\n      <th>4</th>\n      <td>12</td>\n    </tr>\n    <tr>\n      <th>5</th>\n      <td>74</td>\n    </tr>\n    <tr>\n      <th>...</th>\n      <td>...</td>\n    </tr>\n    <tr>\n      <th>3996</th>\n      <td>94</td>\n    </tr>\n    <tr>\n      <th>3997</th>\n      <td>55</td>\n    </tr>\n    <tr>\n      <th>3998</th>\n      <td>40</td>\n    </tr>\n    <tr>\n      <th>3999</th>\n      <td>66</td>\n    </tr>\n    <tr>\n      <th>4000</th>\n      <td>111</td>\n    </tr>\n  </tbody>\n</table>\n<p>4000 rows × 1 columns</p>\n</div>"
     },
     "metadata": {},
     "output_type": "display_data"
    }
   ],
   "source": [
    "display(df)"
   ],
   "metadata": {
    "collapsed": false,
    "ExecuteTime": {
     "end_time": "2023-11-29T09:15:37.082563900Z",
     "start_time": "2023-11-29T09:15:36.698566200Z"
    }
   },
   "id": "3b1e57b4de2c18c1"
  },
  {
   "cell_type": "code",
   "execution_count": 16,
   "outputs": [],
   "source": [
    "df.to_csv(\"../data/test_images_sample_1701249151.784157.csv\")"
   ],
   "metadata": {
    "collapsed": false,
    "ExecuteTime": {
     "end_time": "2023-11-29T09:16:12.230731800Z",
     "start_time": "2023-11-29T09:16:11.846213600Z"
    }
   },
   "id": "204e773e1c5a7e74"
  },
  {
   "cell_type": "code",
   "execution_count": null,
   "outputs": [],
   "source": [],
   "metadata": {
    "collapsed": false
   },
   "id": "1dcbb16545d58c65"
  }
 ],
 "metadata": {
  "kernelspec": {
   "display_name": "Python 3",
   "language": "python",
   "name": "python3"
  },
  "language_info": {
   "codemirror_mode": {
    "name": "ipython",
    "version": 2
   },
   "file_extension": ".py",
   "mimetype": "text/x-python",
   "name": "python",
   "nbconvert_exporter": "python",
   "pygments_lexer": "ipython2",
   "version": "2.7.6"
  }
 },
 "nbformat": 4,
 "nbformat_minor": 5
}
