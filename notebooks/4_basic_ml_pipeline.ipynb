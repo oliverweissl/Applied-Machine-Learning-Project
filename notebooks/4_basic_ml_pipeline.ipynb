{
 "cells": [
  {
   "cell_type": "code",
   "execution_count": 1,
   "id": "initial_id",
   "metadata": {
    "ExecuteTime": {
     "end_time": "2023-12-11T20:20:07.389237600Z",
     "start_time": "2023-12-11T20:19:56.030691200Z"
    }
   },
   "outputs": [],
   "source": [
    "import pandas as pd\n",
    "from models import efficient_net\n",
    "import tensorflow as tf\n",
    "import tensorflow.compat.v1 as tfc\n",
    "from sklearn.utils.class_weight import compute_class_weight\n",
    "\n",
    "from modeling import predict_from_csv, stacking_from_csv, train_classifier\n",
    "from src import InputPipeline\n",
    "\n",
    "%load_ext autoreload\n",
    "%autoreload 2"
   ]
  },
  {
   "cell_type": "markdown",
   "id": "627a750892efbdf9",
   "metadata": {
    "collapsed": false
   },
   "source": [
    "## Check GPU for tf"
   ]
  },
  {
   "cell_type": "code",
   "execution_count": 9,
   "id": "20f7764292bb4e8f",
   "metadata": {
    "collapsed": false,
    "ExecuteTime": {
     "end_time": "2023-12-11T20:24:06.933277700Z",
     "start_time": "2023-12-11T20:24:06.434227Z"
    }
   },
   "outputs": [],
   "source": [
    "# Some GPU setup\n",
    "# for documentation about using gpus refer to: https://www.tensorflow.org/install/pip#windows-wsl2\n",
    "\n",
    "tf.keras.backend.clear_session()\n",
    "\n",
    "device_name = tf.test.gpu_device_name()\n",
    "if not device_name:\n",
    "  raise SystemError('GPU device not found')\n",
    "try:  # prevent a previous session from being alive\n",
    "  sess.close() \n",
    "except:\n",
    "  pass\n",
    "\n",
    "tfc.enable_eager_execution()\n",
    "gpu_options= tfc.GPUOptions(per_process_gpu_memory_fraction = 0.80)\n",
    "sess = tfc.InteractiveSession(config=tfc.ConfigProto(gpu_options=gpu_options))"
   ]
  },
  {
   "cell_type": "markdown",
   "id": "2bd6fa03166027bf",
   "metadata": {
    "collapsed": false
   },
   "source": [
    "### Optional Stuff\n",
    "- Here we compute classweights since the data is very imbalanced"
   ]
  },
  {
   "cell_type": "code",
   "execution_count": 10,
   "id": "dbbeb2f7c31d69b5",
   "metadata": {
    "collapsed": false,
    "ExecuteTime": {
     "end_time": "2023-12-11T20:24:08.899747800Z",
     "start_time": "2023-12-11T20:24:08.235668300Z"
    }
   },
   "outputs": [],
   "source": [
    "train_df = pd.read_csv(\"../data/train_images_stratified.csv\")"
   ]
  },
  {
   "cell_type": "code",
   "execution_count": 11,
   "id": "77c9b74db259162b",
   "metadata": {
    "collapsed": false,
    "ExecuteTime": {
     "end_time": "2023-12-11T20:24:09.514815600Z",
     "start_time": "2023-12-11T20:24:08.903747100Z"
    }
   },
   "outputs": [],
   "source": [
    "class_weights = compute_class_weight(class_weight = 'balanced', classes = train_df[\"label\"].unique(), y=train_df[\"label\"])\n",
    "class_weights = dict(enumerate(class_weights))"
   ]
  },
  {
   "cell_type": "markdown",
   "id": "cabc5747ca16eb86",
   "metadata": {
    "collapsed": false
   },
   "source": [
    "## Configure Parameters"
   ]
  },
  {
   "cell_type": "code",
   "execution_count": 16,
   "id": "b925aeaf5dd5bc8a",
   "metadata": {
    "collapsed": false,
    "ExecuteTime": {
     "end_time": "2023-12-11T20:43:28.989131500Z",
     "start_time": "2023-12-11T20:43:25.815890300Z"
    }
   },
   "outputs": [],
   "source": [
    "INPUT_SHAPE = (220,220,3)\n",
    "\n",
    "CONF = {\n",
    "  \"learning_rate\": 0.0001,\n",
    "  \"batch_size\": 48,\n",
    "  \"epochs\": 60,\n",
    "  \"loss_function\": \"sparse_categorical_crossentropy\",\n",
    "  \"metric\": \"sparse_categorical_accuracy\",\n",
    "}"
   ]
  },
  {
   "cell_type": "markdown",
   "id": "a9d757ac727bb83d",
   "metadata": {
    "collapsed": false
   },
   "source": [
    "## Make Input Pipelines"
   ]
  },
  {
   "cell_type": "code",
   "execution_count": 17,
   "id": "7b661b3ee9ebcaac",
   "metadata": {
    "collapsed": false,
    "ExecuteTime": {
     "end_time": "2023-12-11T20:43:35.494195200Z",
     "start_time": "2023-12-11T20:43:28.978135400Z"
    }
   },
   "outputs": [
    {
     "name": "stdout",
     "output_type": "stream",
     "text": [
      "Datasets populated!\n",
      "Found 43186 files belonging to 70 classes.\n",
      "Using 36709 files for training.\n",
      "Using 6477 files for validation.\n",
      "Datasets populated!\n"
     ]
    }
   ],
   "source": [
    "# Input pipeline for subspecies\n",
    "sub_species_input_pipeline = InputPipeline(splits=(0.85,0.0,0.15), channels=3, batch_size=CONF[\"batch_size\"], size=INPUT_SHAPE[:2])\n",
    "# This has a stratified split\n",
    "sub_species_input_pipeline.make_stratified_train_dataset(\n",
    "  train_ds_path= \"../data/train_ds_images_stratified.csv\",\n",
    "  val_ds_path=\"../data/val_ds_images_stratified.csv\",\n",
    ")\n",
    "\n",
    "# Input pipeline for species\n",
    "species_input_pipeline = InputPipeline(splits=(0.85,0.0,0.15), channels=3, batch_size=CONF[\"batch_size\"], size=INPUT_SHAPE[:2])\n",
    "species_input_pipeline.make_train_datasets(directory=\"../data/train_images/species_classify\")  # This doesnt have a stratified split"
   ]
  },
  {
   "cell_type": "markdown",
   "id": "ac46ea2dd7c43927",
   "metadata": {
    "collapsed": false
   },
   "source": [
    "## Training a Model"
   ]
  },
  {
   "cell_type": "code",
   "execution_count": 18,
   "id": "cb7d66f05ef541bf",
   "metadata": {
    "collapsed": false,
    "ExecuteTime": {
     "end_time": "2023-12-11T20:43:36.166869700Z",
     "start_time": "2023-12-11T20:43:35.494195200Z"
    }
   },
   "outputs": [],
   "source": [
    "from modeling import train_classifier"
   ]
  },
  {
   "cell_type": "code",
   "execution_count": 19,
   "id": "f0e22ecd1236e0be",
   "metadata": {
    "collapsed": false,
    "ExecuteTime": {
     "end_time": "2023-12-11T21:57:25.994992600Z",
     "start_time": "2023-12-11T20:43:36.166869700Z"
    }
   },
   "outputs": [
    {
     "name": "stdout",
     "output_type": "stream",
     "text": [
      "Folder '../classifiers/' already exists.\n",
      "Folder '../classifiers/trainHistoryDict' already exists.\n",
      "Epoch 1/60\n",
      "483/483 [==============================] - 96s 164ms/step - loss: 11.6656 - sparse_categorical_accuracy: 0.0489 - val_loss: 9.6055 - val_sparse_categorical_accuracy: 0.1900\n",
      "Epoch 2/60\n",
      "483/483 [==============================] - 76s 157ms/step - loss: 8.8311 - sparse_categorical_accuracy: 0.1532 - val_loss: 7.4992 - val_sparse_categorical_accuracy: 0.3210\n",
      "Epoch 3/60\n",
      "483/483 [==============================] - 79s 164ms/step - loss: 7.1018 - sparse_categorical_accuracy: 0.2360 - val_loss: 6.1116 - val_sparse_categorical_accuracy: 0.4006\n",
      "Epoch 4/60\n",
      "483/483 [==============================] - 74s 154ms/step - loss: 5.9305 - sparse_categorical_accuracy: 0.2970 - val_loss: 5.1560 - val_sparse_categorical_accuracy: 0.4606\n",
      "Epoch 5/60\n",
      "483/483 [==============================] - 73s 150ms/step - loss: 5.1237 - sparse_categorical_accuracy: 0.3451 - val_loss: 4.4959 - val_sparse_categorical_accuracy: 0.4934\n",
      "Epoch 6/60\n",
      "483/483 [==============================] - 77s 159ms/step - loss: 4.5632 - sparse_categorical_accuracy: 0.3817 - val_loss: 4.0298 - val_sparse_categorical_accuracy: 0.5286\n",
      "Epoch 7/60\n",
      "483/483 [==============================] - 73s 150ms/step - loss: 4.1589 - sparse_categorical_accuracy: 0.4065 - val_loss: 3.6996 - val_sparse_categorical_accuracy: 0.5465\n",
      "Epoch 8/60\n",
      "483/483 [==============================] - 73s 151ms/step - loss: 3.8705 - sparse_categorical_accuracy: 0.4316 - val_loss: 3.4536 - val_sparse_categorical_accuracy: 0.5715\n",
      "Epoch 9/60\n",
      "483/483 [==============================] - 73s 151ms/step - loss: 3.6426 - sparse_categorical_accuracy: 0.4602 - val_loss: 3.2721 - val_sparse_categorical_accuracy: 0.5842\n",
      "Epoch 10/60\n",
      "483/483 [==============================] - 73s 152ms/step - loss: 3.4868 - sparse_categorical_accuracy: 0.4713 - val_loss: 3.1375 - val_sparse_categorical_accuracy: 0.5938\n",
      "Epoch 11/60\n",
      "483/483 [==============================] - 74s 154ms/step - loss: 3.3572 - sparse_categorical_accuracy: 0.4897 - val_loss: 3.0250 - val_sparse_categorical_accuracy: 0.6016\n",
      "Epoch 12/60\n",
      "483/483 [==============================] - 77s 159ms/step - loss: 3.2500 - sparse_categorical_accuracy: 0.5054 - val_loss: 2.9355 - val_sparse_categorical_accuracy: 0.6168\n",
      "Epoch 13/60\n",
      "483/483 [==============================] - 75s 154ms/step - loss: 3.1580 - sparse_categorical_accuracy: 0.5186 - val_loss: 2.8596 - val_sparse_categorical_accuracy: 0.6251\n",
      "Epoch 14/60\n",
      "483/483 [==============================] - 74s 154ms/step - loss: 3.0968 - sparse_categorical_accuracy: 0.5236 - val_loss: 2.7969 - val_sparse_categorical_accuracy: 0.6305\n",
      "Epoch 15/60\n",
      "483/483 [==============================] - 74s 152ms/step - loss: 3.0301 - sparse_categorical_accuracy: 0.5341 - val_loss: 2.7385 - val_sparse_categorical_accuracy: 0.6354\n",
      "Epoch 16/60\n",
      "483/483 [==============================] - 74s 153ms/step - loss: 2.9727 - sparse_categorical_accuracy: 0.5431 - val_loss: 2.6906 - val_sparse_categorical_accuracy: 0.6410\n",
      "Epoch 17/60\n",
      "483/483 [==============================] - 74s 153ms/step - loss: 2.9181 - sparse_categorical_accuracy: 0.5528 - val_loss: 2.6442 - val_sparse_categorical_accuracy: 0.6484\n",
      "Epoch 18/60\n",
      "483/483 [==============================] - 73s 152ms/step - loss: 2.8806 - sparse_categorical_accuracy: 0.5610 - val_loss: 2.6086 - val_sparse_categorical_accuracy: 0.6503\n",
      "Epoch 19/60\n",
      "483/483 [==============================] - 76s 157ms/step - loss: 2.8320 - sparse_categorical_accuracy: 0.5641 - val_loss: 2.5692 - val_sparse_categorical_accuracy: 0.6562\n",
      "Epoch 20/60\n",
      "483/483 [==============================] - 76s 157ms/step - loss: 2.7941 - sparse_categorical_accuracy: 0.5762 - val_loss: 2.5376 - val_sparse_categorical_accuracy: 0.6614\n",
      "Epoch 21/60\n",
      "483/483 [==============================] - 70s 146ms/step - loss: 2.7562 - sparse_categorical_accuracy: 0.5801 - val_loss: 2.5003 - val_sparse_categorical_accuracy: 0.6667\n",
      "Epoch 22/60\n",
      "483/483 [==============================] - 73s 151ms/step - loss: 2.7235 - sparse_categorical_accuracy: 0.5835 - val_loss: 2.4760 - val_sparse_categorical_accuracy: 0.6761\n",
      "Epoch 23/60\n",
      "483/483 [==============================] - 71s 147ms/step - loss: 2.6890 - sparse_categorical_accuracy: 0.5897 - val_loss: 2.4469 - val_sparse_categorical_accuracy: 0.6751\n",
      "Epoch 24/60\n",
      "483/483 [==============================] - 71s 147ms/step - loss: 2.6672 - sparse_categorical_accuracy: 0.5974 - val_loss: 2.4177 - val_sparse_categorical_accuracy: 0.6785\n",
      "Epoch 25/60\n",
      "483/483 [==============================] - 72s 148ms/step - loss: 2.6308 - sparse_categorical_accuracy: 0.5995 - val_loss: 2.3929 - val_sparse_categorical_accuracy: 0.6805\n",
      "Epoch 26/60\n",
      "483/483 [==============================] - 71s 146ms/step - loss: 2.6034 - sparse_categorical_accuracy: 0.6059 - val_loss: 2.3736 - val_sparse_categorical_accuracy: 0.6849\n",
      "Epoch 27/60\n",
      "483/483 [==============================] - 71s 147ms/step - loss: 2.5800 - sparse_categorical_accuracy: 0.6100 - val_loss: 2.3506 - val_sparse_categorical_accuracy: 0.6876\n",
      "Epoch 28/60\n",
      "483/483 [==============================] - 72s 149ms/step - loss: 2.5474 - sparse_categorical_accuracy: 0.6126 - val_loss: 2.3292 - val_sparse_categorical_accuracy: 0.6888\n",
      "Epoch 29/60\n",
      "483/483 [==============================] - 71s 148ms/step - loss: 2.5340 - sparse_categorical_accuracy: 0.6120 - val_loss: 2.3049 - val_sparse_categorical_accuracy: 0.6917\n",
      "Epoch 30/60\n",
      "483/483 [==============================] - 71s 146ms/step - loss: 2.5134 - sparse_categorical_accuracy: 0.6167 - val_loss: 2.2908 - val_sparse_categorical_accuracy: 0.6900\n",
      "Epoch 31/60\n",
      "483/483 [==============================] - 73s 151ms/step - loss: 2.4893 - sparse_categorical_accuracy: 0.6239 - val_loss: 2.2666 - val_sparse_categorical_accuracy: 0.6956\n",
      "Epoch 32/60\n",
      "483/483 [==============================] - 71s 147ms/step - loss: 2.4812 - sparse_categorical_accuracy: 0.6207 - val_loss: 2.2536 - val_sparse_categorical_accuracy: 0.6996\n",
      "Epoch 33/60\n",
      "483/483 [==============================] - 71s 147ms/step - loss: 2.4485 - sparse_categorical_accuracy: 0.6327 - val_loss: 2.2326 - val_sparse_categorical_accuracy: 0.7023\n",
      "Epoch 34/60\n",
      "483/483 [==============================] - 71s 148ms/step - loss: 2.4312 - sparse_categorical_accuracy: 0.6331 - val_loss: 2.2134 - val_sparse_categorical_accuracy: 0.7015\n",
      "Epoch 35/60\n",
      "483/483 [==============================] - 73s 150ms/step - loss: 2.3994 - sparse_categorical_accuracy: 0.6399 - val_loss: 2.2026 - val_sparse_categorical_accuracy: 0.7042\n",
      "Epoch 36/60\n",
      "483/483 [==============================] - 71s 148ms/step - loss: 2.3982 - sparse_categorical_accuracy: 0.6382 - val_loss: 2.1938 - val_sparse_categorical_accuracy: 0.6969\n",
      "Epoch 37/60\n",
      "483/483 [==============================] - 72s 149ms/step - loss: 2.3747 - sparse_categorical_accuracy: 0.6430 - val_loss: 2.1710 - val_sparse_categorical_accuracy: 0.7086\n",
      "Epoch 38/60\n",
      "483/483 [==============================] - 70s 145ms/step - loss: 2.3580 - sparse_categorical_accuracy: 0.6450 - val_loss: 2.1565 - val_sparse_categorical_accuracy: 0.7106\n",
      "Epoch 39/60\n",
      "483/483 [==============================] - 67s 139ms/step - loss: 2.3419 - sparse_categorical_accuracy: 0.6499 - val_loss: 2.1398 - val_sparse_categorical_accuracy: 0.7118\n",
      "Epoch 40/60\n",
      "483/483 [==============================] - 67s 139ms/step - loss: 2.3161 - sparse_categorical_accuracy: 0.6533 - val_loss: 2.1374 - val_sparse_categorical_accuracy: 0.7143\n",
      "Epoch 41/60\n",
      "483/483 [==============================] - 67s 139ms/step - loss: 2.3047 - sparse_categorical_accuracy: 0.6511 - val_loss: 2.1154 - val_sparse_categorical_accuracy: 0.7179\n",
      "Epoch 42/60\n",
      "483/483 [==============================] - 68s 140ms/step - loss: 2.2981 - sparse_categorical_accuracy: 0.6519 - val_loss: 2.1067 - val_sparse_categorical_accuracy: 0.7160\n",
      "Epoch 43/60\n",
      "483/483 [==============================] - 67s 139ms/step - loss: 2.2768 - sparse_categorical_accuracy: 0.6561 - val_loss: 2.0936 - val_sparse_categorical_accuracy: 0.7189\n",
      "Epoch 44/60\n",
      "483/483 [==============================] - 67s 139ms/step - loss: 2.2719 - sparse_categorical_accuracy: 0.6594 - val_loss: 2.0780 - val_sparse_categorical_accuracy: 0.7167\n",
      "Epoch 45/60\n",
      "483/483 [==============================] - 71s 147ms/step - loss: 2.2560 - sparse_categorical_accuracy: 0.6612 - val_loss: 2.0705 - val_sparse_categorical_accuracy: 0.7297\n",
      "Epoch 46/60\n",
      "483/483 [==============================] - 70s 145ms/step - loss: 2.2388 - sparse_categorical_accuracy: 0.6586 - val_loss: 2.0583 - val_sparse_categorical_accuracy: 0.7299\n",
      "Epoch 47/60\n",
      "483/483 [==============================] - 70s 144ms/step - loss: 2.2260 - sparse_categorical_accuracy: 0.6657 - val_loss: 2.0489 - val_sparse_categorical_accuracy: 0.7250\n",
      "Epoch 48/60\n",
      "483/483 [==============================] - 69s 142ms/step - loss: 2.2159 - sparse_categorical_accuracy: 0.6659 - val_loss: 2.0332 - val_sparse_categorical_accuracy: 0.7260\n",
      "Epoch 49/60\n",
      "483/483 [==============================] - 69s 143ms/step - loss: 2.2079 - sparse_categorical_accuracy: 0.6685 - val_loss: 2.0261 - val_sparse_categorical_accuracy: 0.7294\n",
      "Epoch 50/60\n",
      "483/483 [==============================] - 70s 144ms/step - loss: 2.1922 - sparse_categorical_accuracy: 0.6704 - val_loss: 2.0229 - val_sparse_categorical_accuracy: 0.7292\n",
      "Epoch 51/60\n",
      "483/483 [==============================] - 70s 144ms/step - loss: 2.1766 - sparse_categorical_accuracy: 0.6734 - val_loss: 1.9993 - val_sparse_categorical_accuracy: 0.7338\n",
      "Epoch 52/60\n",
      "483/483 [==============================] - 69s 143ms/step - loss: 2.1708 - sparse_categorical_accuracy: 0.6683 - val_loss: 2.0031 - val_sparse_categorical_accuracy: 0.7307\n",
      "Epoch 53/60\n",
      "483/483 [==============================] - 69s 143ms/step - loss: 2.1566 - sparse_categorical_accuracy: 0.6763 - val_loss: 1.9840 - val_sparse_categorical_accuracy: 0.7324\n",
      "Epoch 54/60\n",
      "483/483 [==============================] - 69s 142ms/step - loss: 2.1460 - sparse_categorical_accuracy: 0.6781 - val_loss: 1.9830 - val_sparse_categorical_accuracy: 0.7329\n",
      "Epoch 55/60\n",
      "483/483 [==============================] - 69s 143ms/step - loss: 2.1375 - sparse_categorical_accuracy: 0.6780 - val_loss: 1.9660 - val_sparse_categorical_accuracy: 0.7336\n",
      "Epoch 56/60\n",
      "483/483 [==============================] - 69s 142ms/step - loss: 2.1339 - sparse_categorical_accuracy: 0.6790 - val_loss: 1.9643 - val_sparse_categorical_accuracy: 0.7356\n",
      "Epoch 57/60\n",
      "483/483 [==============================] - 69s 143ms/step - loss: 2.1194 - sparse_categorical_accuracy: 0.6803 - val_loss: 1.9515 - val_sparse_categorical_accuracy: 0.7397\n",
      "Epoch 58/60\n",
      "483/483 [==============================] - 69s 143ms/step - loss: 2.1019 - sparse_categorical_accuracy: 0.6857 - val_loss: 1.9480 - val_sparse_categorical_accuracy: 0.7333\n",
      "Epoch 59/60\n",
      "483/483 [==============================] - 70s 145ms/step - loss: 2.1044 - sparse_categorical_accuracy: 0.6819 - val_loss: 1.9454 - val_sparse_categorical_accuracy: 0.7331\n",
      "Epoch 60/60\n",
      "483/483 [==============================] - 70s 144ms/step - loss: 2.0844 - sparse_categorical_accuracy: 0.6855 - val_loss: 1.9395 - val_sparse_categorical_accuracy: 0.7409\n"
     ]
    },
    {
     "name": "stderr",
     "output_type": "stream",
     "text": [
      "WARNING:absl:Found untraced functions such as _jit_compiled_convolution_op, _jit_compiled_convolution_op, _jit_compiled_convolution_op, _jit_compiled_convolution_op, _jit_compiled_convolution_op while saving (showing 5 of 136). These functions will not be directly callable after loading.\n"
     ]
    },
    {
     "name": "stdout",
     "output_type": "stream",
     "text": [
      "INFO:tensorflow:Assets written to: ../classifiers/species_effnet\\assets\n"
     ]
    },
    {
     "name": "stderr",
     "output_type": "stream",
     "text": [
      "INFO:tensorflow:Assets written to: ../classifiers/species_effnet\\assets\n"
     ]
    },
    {
     "name": "stdout",
     "output_type": "stream",
     "text": [
      "Model saved successfully under: ../classifiers/species_effnet\n"
     ]
    }
   ],
   "source": [
    "# making the species classifier\n",
    "train_classifier(\n",
    "  model_name=\"../classifiers/species_effnet\",\n",
    "  input_shape=INPUT_SHAPE,  \n",
    "  classes_to_classify=200,\n",
    "  configuration=CONF,\n",
    "  model=efficient_net, \n",
    "  train_dataset=sub_species_input_pipeline.train_dataset,\n",
    "  validation_dataset=sub_species_input_pipeline.validation_dataset,\n",
    ")"
   ]
  },
  {
   "cell_type": "code",
   "execution_count": 10,
   "id": "5941ba5f98ad9cfc",
   "metadata": {
    "collapsed": false,
    "ExecuteTime": {
     "end_time": "2023-12-11T15:16:55.596960400Z",
     "start_time": "2023-12-11T14:08:12.981547500Z"
    }
   },
   "outputs": [
    {
     "name": "stdout",
     "output_type": "stream",
     "text": [
      "Folder '../classifiers/' already exists.\n",
      "Folder '../classifiers/trainHistoryDict' already exists.\n",
      "Epoch 1/80\n",
      "279/279 [==============================] - 71s 195ms/step - loss: 10.7923 - sparse_categorical_accuracy: 0.2065 - val_loss: 8.8906 - val_sparse_categorical_accuracy: 0.4374\n",
      "Epoch 2/80\n",
      "279/279 [==============================] - 49s 175ms/step - loss: 8.5915 - sparse_categorical_accuracy: 0.3774 - val_loss: 7.4461 - val_sparse_categorical_accuracy: 0.5214\n",
      "Epoch 3/80\n",
      "279/279 [==============================] - 50s 179ms/step - loss: 7.2654 - sparse_categorical_accuracy: 0.4528 - val_loss: 6.3382 - val_sparse_categorical_accuracy: 0.5673\n",
      "Epoch 4/80\n",
      "279/279 [==============================] - 50s 175ms/step - loss: 6.2174 - sparse_categorical_accuracy: 0.5036 - val_loss: 5.4566 - val_sparse_categorical_accuracy: 0.6042\n",
      "Epoch 5/80\n",
      "279/279 [==============================] - 49s 174ms/step - loss: 5.4004 - sparse_categorical_accuracy: 0.5358 - val_loss: 4.7447 - val_sparse_categorical_accuracy: 0.6276\n",
      "Epoch 6/80\n",
      "279/279 [==============================] - 50s 175ms/step - loss: 4.7226 - sparse_categorical_accuracy: 0.5732 - val_loss: 4.1618 - val_sparse_categorical_accuracy: 0.6476\n",
      "Epoch 7/80\n",
      "279/279 [==============================] - 49s 174ms/step - loss: 4.1663 - sparse_categorical_accuracy: 0.5937 - val_loss: 3.6919 - val_sparse_categorical_accuracy: 0.6679\n",
      "Epoch 8/80\n",
      "279/279 [==============================] - 49s 175ms/step - loss: 3.7188 - sparse_categorical_accuracy: 0.6169 - val_loss: 3.3082 - val_sparse_categorical_accuracy: 0.6798\n",
      "Epoch 9/80\n",
      "279/279 [==============================] - 49s 174ms/step - loss: 3.3553 - sparse_categorical_accuracy: 0.6323 - val_loss: 2.9932 - val_sparse_categorical_accuracy: 0.6926\n",
      "Epoch 10/80\n",
      "279/279 [==============================] - 49s 175ms/step - loss: 3.0636 - sparse_categorical_accuracy: 0.6463 - val_loss: 2.7436 - val_sparse_categorical_accuracy: 0.7036\n",
      "Epoch 11/80\n",
      "279/279 [==============================] - 49s 175ms/step - loss: 2.8265 - sparse_categorical_accuracy: 0.6604 - val_loss: 2.5433 - val_sparse_categorical_accuracy: 0.7104\n",
      "Epoch 12/80\n",
      "279/279 [==============================] - 50s 176ms/step - loss: 2.6425 - sparse_categorical_accuracy: 0.6688 - val_loss: 2.3766 - val_sparse_categorical_accuracy: 0.7227\n",
      "Epoch 13/80\n",
      "279/279 [==============================] - 49s 174ms/step - loss: 2.4711 - sparse_categorical_accuracy: 0.6832 - val_loss: 2.2379 - val_sparse_categorical_accuracy: 0.7282\n",
      "Epoch 14/80\n",
      "279/279 [==============================] - 50s 175ms/step - loss: 2.3364 - sparse_categorical_accuracy: 0.6924 - val_loss: 2.1305 - val_sparse_categorical_accuracy: 0.7270\n",
      "Epoch 15/80\n",
      "279/279 [==============================] - 49s 175ms/step - loss: 2.2272 - sparse_categorical_accuracy: 0.7044 - val_loss: 2.0368 - val_sparse_categorical_accuracy: 0.7397\n",
      "Epoch 16/80\n",
      "279/279 [==============================] - 50s 176ms/step - loss: 2.1396 - sparse_categorical_accuracy: 0.7075 - val_loss: 1.9570 - val_sparse_categorical_accuracy: 0.7414\n",
      "Epoch 17/80\n",
      "279/279 [==============================] - 49s 174ms/step - loss: 2.0673 - sparse_categorical_accuracy: 0.7132 - val_loss: 1.8916 - val_sparse_categorical_accuracy: 0.7473\n",
      "Epoch 18/80\n",
      "279/279 [==============================] - 49s 175ms/step - loss: 2.0002 - sparse_categorical_accuracy: 0.7175 - val_loss: 1.8380 - val_sparse_categorical_accuracy: 0.7486\n",
      "Epoch 19/80\n",
      "279/279 [==============================] - 49s 175ms/step - loss: 1.9518 - sparse_categorical_accuracy: 0.7234 - val_loss: 1.7927 - val_sparse_categorical_accuracy: 0.7584\n",
      "Epoch 20/80\n",
      "279/279 [==============================] - 49s 175ms/step - loss: 1.8972 - sparse_categorical_accuracy: 0.7271 - val_loss: 1.7484 - val_sparse_categorical_accuracy: 0.7584\n",
      "Epoch 21/80\n",
      "279/279 [==============================] - 50s 178ms/step - loss: 1.8490 - sparse_categorical_accuracy: 0.7358 - val_loss: 1.7151 - val_sparse_categorical_accuracy: 0.7677\n",
      "Epoch 22/80\n",
      "279/279 [==============================] - 50s 178ms/step - loss: 1.8160 - sparse_categorical_accuracy: 0.7416 - val_loss: 1.6834 - val_sparse_categorical_accuracy: 0.7749\n",
      "Epoch 23/80\n",
      "279/279 [==============================] - 49s 174ms/step - loss: 1.7824 - sparse_categorical_accuracy: 0.7427 - val_loss: 1.6577 - val_sparse_categorical_accuracy: 0.7771\n",
      "Epoch 24/80\n",
      "279/279 [==============================] - 50s 175ms/step - loss: 1.7572 - sparse_categorical_accuracy: 0.7480 - val_loss: 1.6261 - val_sparse_categorical_accuracy: 0.7796\n",
      "Epoch 25/80\n",
      "279/279 [==============================] - 49s 175ms/step - loss: 1.7298 - sparse_categorical_accuracy: 0.7499 - val_loss: 1.6036 - val_sparse_categorical_accuracy: 0.7788\n",
      "Epoch 26/80\n",
      "279/279 [==============================] - 50s 175ms/step - loss: 1.6950 - sparse_categorical_accuracy: 0.7584 - val_loss: 1.5847 - val_sparse_categorical_accuracy: 0.7813\n",
      "Epoch 27/80\n",
      "279/279 [==============================] - 49s 174ms/step - loss: 1.6770 - sparse_categorical_accuracy: 0.7631 - val_loss: 1.5595 - val_sparse_categorical_accuracy: 0.7911\n",
      "Epoch 28/80\n",
      "279/279 [==============================] - 49s 175ms/step - loss: 1.6561 - sparse_categorical_accuracy: 0.7660 - val_loss: 1.5416 - val_sparse_categorical_accuracy: 0.7851\n",
      "Epoch 29/80\n",
      "279/279 [==============================] - 49s 174ms/step - loss: 1.6300 - sparse_categorical_accuracy: 0.7684 - val_loss: 1.5302 - val_sparse_categorical_accuracy: 0.7924\n",
      "Epoch 30/80\n",
      "279/279 [==============================] - 49s 175ms/step - loss: 1.6278 - sparse_categorical_accuracy: 0.7678 - val_loss: 1.5115 - val_sparse_categorical_accuracy: 0.7945\n",
      "Epoch 31/80\n",
      "279/279 [==============================] - 49s 174ms/step - loss: 1.5917 - sparse_categorical_accuracy: 0.7792 - val_loss: 1.4997 - val_sparse_categorical_accuracy: 0.7928\n",
      "Epoch 32/80\n",
      "279/279 [==============================] - 49s 175ms/step - loss: 1.5890 - sparse_categorical_accuracy: 0.7721 - val_loss: 1.4800 - val_sparse_categorical_accuracy: 0.8025\n",
      "Epoch 33/80\n",
      "279/279 [==============================] - 49s 174ms/step - loss: 1.5582 - sparse_categorical_accuracy: 0.7844 - val_loss: 1.4720 - val_sparse_categorical_accuracy: 0.7987\n",
      "Epoch 34/80\n",
      "279/279 [==============================] - 49s 175ms/step - loss: 1.5508 - sparse_categorical_accuracy: 0.7800 - val_loss: 1.4547 - val_sparse_categorical_accuracy: 0.8055\n",
      "Epoch 35/80\n",
      "279/279 [==============================] - 49s 175ms/step - loss: 1.5499 - sparse_categorical_accuracy: 0.7805 - val_loss: 1.4541 - val_sparse_categorical_accuracy: 0.8034\n",
      "Epoch 36/80\n",
      "279/279 [==============================] - 49s 174ms/step - loss: 1.5202 - sparse_categorical_accuracy: 0.7830 - val_loss: 1.4371 - val_sparse_categorical_accuracy: 0.8021\n",
      "Epoch 37/80\n",
      "279/279 [==============================] - 49s 174ms/step - loss: 1.5076 - sparse_categorical_accuracy: 0.7909 - val_loss: 1.4238 - val_sparse_categorical_accuracy: 0.8106\n",
      "Epoch 38/80\n",
      "279/279 [==============================] - 49s 175ms/step - loss: 1.4897 - sparse_categorical_accuracy: 0.7877 - val_loss: 1.4119 - val_sparse_categorical_accuracy: 0.8149\n",
      "Epoch 39/80\n",
      "279/279 [==============================] - 49s 175ms/step - loss: 1.4790 - sparse_categorical_accuracy: 0.7943 - val_loss: 1.4027 - val_sparse_categorical_accuracy: 0.8110\n",
      "Epoch 40/80\n",
      "279/279 [==============================] - 50s 177ms/step - loss: 1.4668 - sparse_categorical_accuracy: 0.7989 - val_loss: 1.3910 - val_sparse_categorical_accuracy: 0.8178\n",
      "Epoch 41/80\n",
      "279/279 [==============================] - 49s 174ms/step - loss: 1.4620 - sparse_categorical_accuracy: 0.7965 - val_loss: 1.3791 - val_sparse_categorical_accuracy: 0.8149\n",
      "Epoch 42/80\n",
      "279/279 [==============================] - 49s 175ms/step - loss: 1.4507 - sparse_categorical_accuracy: 0.7976 - val_loss: 1.3722 - val_sparse_categorical_accuracy: 0.8200\n",
      "Epoch 43/80\n",
      "279/279 [==============================] - 50s 176ms/step - loss: 1.4299 - sparse_categorical_accuracy: 0.8007 - val_loss: 1.3616 - val_sparse_categorical_accuracy: 0.8195\n",
      "Epoch 44/80\n",
      "279/279 [==============================] - 50s 175ms/step - loss: 1.4313 - sparse_categorical_accuracy: 0.8001 - val_loss: 1.3562 - val_sparse_categorical_accuracy: 0.8242\n",
      "Epoch 45/80\n",
      "279/279 [==============================] - 50s 176ms/step - loss: 1.4221 - sparse_categorical_accuracy: 0.8032 - val_loss: 1.3432 - val_sparse_categorical_accuracy: 0.8234\n",
      "Epoch 46/80\n",
      "279/279 [==============================] - 49s 175ms/step - loss: 1.4065 - sparse_categorical_accuracy: 0.8075 - val_loss: 1.3402 - val_sparse_categorical_accuracy: 0.8166\n",
      "Epoch 47/80\n",
      "279/279 [==============================] - 50s 176ms/step - loss: 1.3934 - sparse_categorical_accuracy: 0.8052 - val_loss: 1.3228 - val_sparse_categorical_accuracy: 0.8251\n",
      "Epoch 48/80\n",
      "279/279 [==============================] - 50s 176ms/step - loss: 1.3918 - sparse_categorical_accuracy: 0.8071 - val_loss: 1.3171 - val_sparse_categorical_accuracy: 0.8259\n",
      "Epoch 49/80\n",
      "279/279 [==============================] - 50s 176ms/step - loss: 1.3832 - sparse_categorical_accuracy: 0.8101 - val_loss: 1.3150 - val_sparse_categorical_accuracy: 0.8259\n",
      "Epoch 50/80\n",
      "279/279 [==============================] - 50s 176ms/step - loss: 1.3762 - sparse_categorical_accuracy: 0.8088 - val_loss: 1.3068 - val_sparse_categorical_accuracy: 0.8276\n",
      "Epoch 51/80\n",
      "279/279 [==============================] - 50s 176ms/step - loss: 1.3640 - sparse_categorical_accuracy: 0.8090 - val_loss: 1.2962 - val_sparse_categorical_accuracy: 0.8289\n",
      "Epoch 52/80\n",
      "279/279 [==============================] - 50s 176ms/step - loss: 1.3456 - sparse_categorical_accuracy: 0.8169 - val_loss: 1.2875 - val_sparse_categorical_accuracy: 0.8340\n",
      "Epoch 53/80\n",
      "279/279 [==============================] - 51s 179ms/step - loss: 1.3467 - sparse_categorical_accuracy: 0.8171 - val_loss: 1.2840 - val_sparse_categorical_accuracy: 0.8306\n",
      "Epoch 54/80\n",
      "279/279 [==============================] - 50s 177ms/step - loss: 1.3341 - sparse_categorical_accuracy: 0.8191 - val_loss: 1.2762 - val_sparse_categorical_accuracy: 0.8318\n",
      "Epoch 55/80\n",
      "279/279 [==============================] - 50s 176ms/step - loss: 1.3237 - sparse_categorical_accuracy: 0.8192 - val_loss: 1.2686 - val_sparse_categorical_accuracy: 0.8297\n",
      "Epoch 56/80\n",
      "279/279 [==============================] - 50s 176ms/step - loss: 1.3220 - sparse_categorical_accuracy: 0.8192 - val_loss: 1.2627 - val_sparse_categorical_accuracy: 0.8395\n",
      "Epoch 57/80\n",
      "279/279 [==============================] - 50s 176ms/step - loss: 1.3168 - sparse_categorical_accuracy: 0.8181 - val_loss: 1.2570 - val_sparse_categorical_accuracy: 0.8318\n",
      "Epoch 58/80\n",
      "279/279 [==============================] - 50s 177ms/step - loss: 1.3127 - sparse_categorical_accuracy: 0.8201 - val_loss: 1.2521 - val_sparse_categorical_accuracy: 0.8327\n",
      "Epoch 59/80\n",
      "279/279 [==============================] - 50s 176ms/step - loss: 1.3027 - sparse_categorical_accuracy: 0.8250 - val_loss: 1.2455 - val_sparse_categorical_accuracy: 0.8382\n",
      "Epoch 60/80\n",
      "279/279 [==============================] - 49s 175ms/step - loss: 1.2891 - sparse_categorical_accuracy: 0.8246 - val_loss: 1.2349 - val_sparse_categorical_accuracy: 0.8425\n",
      "Epoch 61/80\n",
      "279/279 [==============================] - 50s 176ms/step - loss: 1.2833 - sparse_categorical_accuracy: 0.8255 - val_loss: 1.2273 - val_sparse_categorical_accuracy: 0.8395\n",
      "Epoch 62/80\n",
      "279/279 [==============================] - 50s 176ms/step - loss: 1.2823 - sparse_categorical_accuracy: 0.8276 - val_loss: 1.2238 - val_sparse_categorical_accuracy: 0.8471\n",
      "Epoch 63/80\n",
      "279/279 [==============================] - 50s 175ms/step - loss: 1.2799 - sparse_categorical_accuracy: 0.8270 - val_loss: 1.2218 - val_sparse_categorical_accuracy: 0.8442\n",
      "Epoch 64/80\n",
      "279/279 [==============================] - 50s 176ms/step - loss: 1.2779 - sparse_categorical_accuracy: 0.8282 - val_loss: 1.2156 - val_sparse_categorical_accuracy: 0.8408\n",
      "Epoch 65/80\n",
      "279/279 [==============================] - 50s 176ms/step - loss: 1.2638 - sparse_categorical_accuracy: 0.8289 - val_loss: 1.2116 - val_sparse_categorical_accuracy: 0.8412\n",
      "Epoch 66/80\n",
      "279/279 [==============================] - 50s 176ms/step - loss: 1.2450 - sparse_categorical_accuracy: 0.8337 - val_loss: 1.2046 - val_sparse_categorical_accuracy: 0.8416\n",
      "Epoch 67/80\n",
      "279/279 [==============================] - 50s 176ms/step - loss: 1.2469 - sparse_categorical_accuracy: 0.8333 - val_loss: 1.2041 - val_sparse_categorical_accuracy: 0.8471\n",
      "Epoch 68/80\n",
      "279/279 [==============================] - 50s 176ms/step - loss: 1.2421 - sparse_categorical_accuracy: 0.8350 - val_loss: 1.2014 - val_sparse_categorical_accuracy: 0.8437\n",
      "Epoch 69/80\n",
      "279/279 [==============================] - 50s 176ms/step - loss: 1.2421 - sparse_categorical_accuracy: 0.8338 - val_loss: 1.1966 - val_sparse_categorical_accuracy: 0.8446\n",
      "Epoch 70/80\n",
      "279/279 [==============================] - 50s 176ms/step - loss: 1.2409 - sparse_categorical_accuracy: 0.8314 - val_loss: 1.1917 - val_sparse_categorical_accuracy: 0.8471\n",
      "Epoch 71/80\n",
      "279/279 [==============================] - 49s 175ms/step - loss: 1.2234 - sparse_categorical_accuracy: 0.8406 - val_loss: 1.1996 - val_sparse_categorical_accuracy: 0.8386\n",
      "Epoch 72/80\n",
      "279/279 [==============================] - 50s 175ms/step - loss: 1.2153 - sparse_categorical_accuracy: 0.8386 - val_loss: 1.1879 - val_sparse_categorical_accuracy: 0.8429\n",
      "Epoch 73/80\n",
      "279/279 [==============================] - 50s 176ms/step - loss: 1.2181 - sparse_categorical_accuracy: 0.8392 - val_loss: 1.1798 - val_sparse_categorical_accuracy: 0.8488\n",
      "Epoch 74/80\n",
      "279/279 [==============================] - 50s 176ms/step - loss: 1.2098 - sparse_categorical_accuracy: 0.8361 - val_loss: 1.1700 - val_sparse_categorical_accuracy: 0.8522\n",
      "Epoch 75/80\n",
      "279/279 [==============================] - 49s 175ms/step - loss: 1.2080 - sparse_categorical_accuracy: 0.8389 - val_loss: 1.1727 - val_sparse_categorical_accuracy: 0.8463\n",
      "Epoch 76/80\n",
      "279/279 [==============================] - 50s 175ms/step - loss: 1.2060 - sparse_categorical_accuracy: 0.8410 - val_loss: 1.1617 - val_sparse_categorical_accuracy: 0.8484\n",
      "Epoch 77/80\n",
      "279/279 [==============================] - 50s 176ms/step - loss: 1.1984 - sparse_categorical_accuracy: 0.8416 - val_loss: 1.1678 - val_sparse_categorical_accuracy: 0.8518\n",
      "Epoch 78/80\n",
      "279/279 [==============================] - 49s 175ms/step - loss: 1.1920 - sparse_categorical_accuracy: 0.8395 - val_loss: 1.1594 - val_sparse_categorical_accuracy: 0.8522\n",
      "Epoch 79/80\n",
      "279/279 [==============================] - 50s 179ms/step - loss: 1.1845 - sparse_categorical_accuracy: 0.8427 - val_loss: 1.1612 - val_sparse_categorical_accuracy: 0.8501\n",
      "Epoch 80/80\n",
      "279/279 [==============================] - 58s 203ms/step - loss: 1.1788 - sparse_categorical_accuracy: 0.8459 - val_loss: 1.1583 - val_sparse_categorical_accuracy: 0.8463\n"
     ]
    },
    {
     "name": "stderr",
     "output_type": "stream",
     "text": [
      "WARNING:absl:Found untraced functions such as _jit_compiled_convolution_op, _jit_compiled_convolution_op, _jit_compiled_convolution_op, _jit_compiled_convolution_op, _jit_compiled_convolution_op while saving (showing 5 of 136). These functions will not be directly callable after loading.\n"
     ]
    },
    {
     "name": "stdout",
     "output_type": "stream",
     "text": [
      "INFO:tensorflow:Assets written to: ../classifiers/species_efficient_net_classifier_50e\\assets\n"
     ]
    },
    {
     "name": "stderr",
     "output_type": "stream",
     "text": [
      "INFO:tensorflow:Assets written to: ../classifiers/species_efficient_net_classifier_50e\\assets\n"
     ]
    },
    {
     "name": "stdout",
     "output_type": "stream",
     "text": [
      "Model saved successfully under: ../classifiers/species_efficient_net_classifier_50e\n"
     ]
    }
   ],
   "source": [
    "# making the family classifier\n",
    "train_classifier(\n",
    "  model_name=\"../classifiers/family_effnet\",\n",
    "  input_shape=INPUT_SHAPE,\n",
    "  classes_to_classify=70,\n",
    "  configuration=CONF,\n",
    "  model=efficient_net, \n",
    "  train_dataset=species_input_pipeline.train_dataset,\n",
    "  validation_dataset=species_input_pipeline.validation_dataset,\n",
    ")"
   ]
  },
  {
   "cell_type": "markdown",
   "id": "3b093b2d-7af9-4dca-87f9-a69b5a5554fc",
   "metadata": {},
   "source": [
    "## NN results"
   ]
  },
  {
   "cell_type": "code",
   "execution_count": 20,
   "id": "cf919a1c-9164-44ac-ad77-685e484281a4",
   "metadata": {
    "ExecuteTime": {
     "end_time": "2023-12-11T21:58:20.867987600Z",
     "start_time": "2023-12-11T21:58:18.618668500Z"
    }
   },
   "outputs": [],
   "source": [
    "import pickle \n",
    "import matplotlib.pyplot as plt\n",
    "import pandas as pd\n",
    "\n",
    "with open(\"../classifiers/trainHistoryDict/species_effnet.pkl\", 'rb') as file:\n",
    "    history = pickle.load(file)\n",
    "\n",
    "history_df = pd.DataFrame(history)"
   ]
  },
  {
   "cell_type": "code",
   "execution_count": 21,
   "id": "aeb963ee-c548-4ce9-a46f-920951995e4c",
   "metadata": {
    "ExecuteTime": {
     "end_time": "2023-12-11T21:58:23.494859500Z",
     "start_time": "2023-12-11T21:58:20.877036200Z"
    }
   },
   "outputs": [
    {
     "data": {
      "text/plain": "<Figure size 1600x500 with 2 Axes>",
      "image/png": "[encoded data removed]"
     },
     "metadata": {},
     "output_type": "display_data"
    }
   ],
   "source": [
    "fig, (ax1, ax2) = plt.subplots(1,2, figsize=(16,5))\n",
    "\n",
    "# Plot for ax1\n",
    "ax1.plot(history_df[\"loss\"], label='Training Loss')\n",
    "ax1.plot(history_df[\"val_loss\"], label='Validation Loss')\n",
    "ax1.set_xlabel('Epochs')\n",
    "ax1.set_ylabel('Loss')\n",
    "ax1.legend()\n",
    "\n",
    "# Plot for ax2\n",
    "ax2.plot(history_df[\"sparse_categorical_accuracy\"], label='Training Accuracy')\n",
    "ax2.plot(history_df[\"val_sparse_categorical_accuracy\"], label='Validation Accuracy')\n",
    "ax2.set_xlabel('Epochs')\n",
    "ax2.set_ylabel('Accuracy')\n",
    "ax2.legend()\n",
    "\n",
    "plt.savefig(\"familyplot.png\", dpi=300)"
   ]
  },
  {
   "cell_type": "markdown",
   "id": "38f09d3db498d1bd",
   "metadata": {
    "collapsed": false
   },
   "source": [
    "## Predict Stuff"
   ]
  },
  {
   "cell_type": "code",
   "execution_count": 22,
   "id": "e4b5ad1381a9eb19",
   "metadata": {
    "collapsed": false,
    "ExecuteTime": {
     "end_time": "2023-12-11T22:09:02.645021800Z",
     "start_time": "2023-12-11T21:58:39.325947800Z"
    }
   },
   "outputs": [
    {
     "name": "stderr",
     "output_type": "stream",
     "text": [
      "predicting: 100%|██████████| 4000/4000 [09:48<00:00,  6.80it/s]"
     ]
    },
    {
     "name": "stdout",
     "output_type": "stream",
     "text": [
      "Saving to: ../data/test_images_sample_1702332542.5882404.csv\n"
     ]
    },
    {
     "name": "stderr",
     "output_type": "stream",
     "text": [
      "\n"
     ]
    }
   ],
   "source": [
    "# No label adjustments needed afterwards!!!!!!\n",
    "predict_from_csv(\n",
    "  classifier=\"../classifiers/species_effnet\",\n",
    "  dataset=\"../data/test_images_path.csv\",\n",
    "  path=\"../data/test_images\",\n",
    "  size=INPUT_SHAPE,\n",
    ")"
   ]
  },
  {
   "cell_type": "markdown",
   "id": "d390dcb7-6b6b-4872-88a4-64630a0e689e",
   "metadata": {},
   "source": [
    "## Stacking Prediction"
   ]
  },
  {
   "cell_type": "code",
   "execution_count": 13,
   "id": "5325d1b5-2c3f-404d-bbc5-5cc1b35befc4",
   "metadata": {
    "ExecuteTime": {
     "end_time": "2023-12-11T18:03:52.184359300Z",
     "start_time": "2023-12-11T18:03:46.824055900Z"
    }
   },
   "outputs": [
    {
     "ename": "KeyboardInterrupt",
     "evalue": "",
     "output_type": "error",
     "traceback": [
      "\u001B[1;31m---------------------------------------------------------------------------\u001B[0m",
      "\u001B[1;31mKeyboardInterrupt\u001B[0m                         Traceback (most recent call last)",
      "Cell \u001B[1;32mIn[13], line 1\u001B[0m\n\u001B[1;32m----> 1\u001B[0m \u001B[43mstacking_from_csv\u001B[49m\u001B[43m(\u001B[49m\n\u001B[0;32m      2\u001B[0m \u001B[43m    \u001B[49m\u001B[43mprimary_classifier\u001B[49m\u001B[38;5;241;43m=\u001B[39;49m\u001B[38;5;124;43m\"\u001B[39;49m\u001B[38;5;124;43m../classifiers/species_efficient_net_classifier_50e\u001B[39;49m\u001B[38;5;124;43m\"\u001B[39;49m\u001B[43m,\u001B[49m\n\u001B[0;32m      3\u001B[0m \u001B[43m    \u001B[49m\u001B[43msecondary_classifier\u001B[49m\u001B[38;5;241;43m=\u001B[39;49m\u001B[38;5;124;43m\"\u001B[39;49m\u001B[38;5;124;43m../classifiers/antonio_effnet_finetune\u001B[39;49m\u001B[38;5;124;43m\"\u001B[39;49m\u001B[43m,\u001B[49m\n\u001B[0;32m      4\u001B[0m \u001B[43m    \u001B[49m\u001B[43mdataset\u001B[49m\u001B[38;5;241;43m=\u001B[39;49m\u001B[38;5;124;43m\"\u001B[39;49m\u001B[38;5;124;43m../data/test_images_path.csv\u001B[39;49m\u001B[38;5;124;43m\"\u001B[39;49m\u001B[43m,\u001B[49m\n\u001B[0;32m      5\u001B[0m \u001B[43m    \u001B[49m\u001B[43mpath\u001B[49m\u001B[38;5;241;43m=\u001B[39;49m\u001B[38;5;124;43m\"\u001B[39;49m\u001B[38;5;124;43m../data/test_images\u001B[39;49m\u001B[38;5;124;43m\"\u001B[39;49m\u001B[43m,\u001B[49m\n\u001B[0;32m      6\u001B[0m \u001B[43m    \u001B[49m\u001B[43msize\u001B[49m\u001B[38;5;241;43m=\u001B[39;49m\u001B[43mINPUT_SHAPE\u001B[49m\u001B[43m,\u001B[49m\n\u001B[0;32m      7\u001B[0m \u001B[43m    \u001B[49m\u001B[43mweights\u001B[49m\u001B[38;5;241;43m=\u001B[39;49m\u001B[43m(\u001B[49m\u001B[38;5;241;43m1.0\u001B[39;49m\u001B[43m,\u001B[49m\u001B[43m \u001B[49m\u001B[38;5;241;43m0.3\u001B[39;49m\u001B[43m)\u001B[49m\u001B[43m,\u001B[49m\n\u001B[0;32m      8\u001B[0m \u001B[43m    \u001B[49m\u001B[43mmapping\u001B[49m\u001B[38;5;241;43m=\u001B[39;49m\u001B[38;5;124;43m\"\u001B[39;49m\u001B[38;5;124;43m../mapping.pickle\u001B[39;49m\u001B[38;5;124;43m\"\u001B[39;49m\u001B[43m,\u001B[49m\n\u001B[0;32m      9\u001B[0m \u001B[43m)\u001B[49m\n",
      "File \u001B[1;32m~\\PycharmProjects\\AML_Project\\modeling\\_predict.py:104\u001B[0m, in \u001B[0;36mstacking_from_csv\u001B[1;34m(primary_classifier, secondary_classifier, dataset, path, size, weights, mapping)\u001B[0m\n\u001B[0;32m     92\u001B[0m \u001B[38;5;250m\u001B[39m\u001B[38;5;124;03m\"\"\"\u001B[39;00m\n\u001B[0;32m     93\u001B[0m \u001B[38;5;124;03mClassify using stacking from csv as pred input.\u001B[39;00m\n\u001B[0;32m     94\u001B[0m \n\u001B[1;32m   (...)\u001B[0m\n\u001B[0;32m    101\u001B[0m \u001B[38;5;124;03m:param mapping: the mapping pickle for correct stacking.\u001B[39;00m\n\u001B[0;32m    102\u001B[0m \u001B[38;5;124;03m\"\"\"\u001B[39;00m\n\u001B[0;32m    103\u001B[0m tqdm\u001B[38;5;241m.\u001B[39mpandas(desc\u001B[38;5;241m=\u001B[39m\u001B[38;5;124m\"\u001B[39m\u001B[38;5;124mpredicting\u001B[39m\u001B[38;5;124m\"\u001B[39m)\n\u001B[1;32m--> 104\u001B[0m df1 \u001B[38;5;241m=\u001B[39m \u001B[43m_prob_predict\u001B[49m\u001B[43m(\u001B[49m\u001B[43mprimary_classifier\u001B[49m\u001B[43m,\u001B[49m\u001B[43m \u001B[49m\u001B[43mdataset\u001B[49m\u001B[43m,\u001B[49m\u001B[43m \u001B[49m\u001B[43mpath\u001B[49m\u001B[43m,\u001B[49m\u001B[43m \u001B[49m\u001B[43msize\u001B[49m\u001B[43m)\u001B[49m\n\u001B[0;32m    105\u001B[0m df2 \u001B[38;5;241m=\u001B[39m _prob_predict(secondary_classifier, dataset, path, size)\n\u001B[0;32m    106\u001B[0m result \u001B[38;5;241m=\u001B[39m _stack_predictions(df1, df2, mapping, \u001B[38;5;241m*\u001B[39mweights)\n",
      "File \u001B[1;32m~\\PycharmProjects\\AML_Project\\modeling\\_predict.py:149\u001B[0m, in \u001B[0;36m_prob_predict\u001B[1;34m(classifier, dataset, path, size)\u001B[0m\n\u001B[0;32m    135\u001B[0m \u001B[38;5;28;01mdef\u001B[39;00m \u001B[38;5;21m_prob_predict\u001B[39m(\n\u001B[0;32m    136\u001B[0m         classifier: \u001B[38;5;28mstr\u001B[39m,\n\u001B[0;32m    137\u001B[0m         dataset: \u001B[38;5;28mstr\u001B[39m,\n\u001B[0;32m    138\u001B[0m         path: \u001B[38;5;28mstr\u001B[39m,\n\u001B[0;32m    139\u001B[0m         size: \u001B[38;5;28mtuple\u001B[39m[\u001B[38;5;28mint\u001B[39m, \u001B[38;5;28mint\u001B[39m, \u001B[38;5;28mint\u001B[39m],\n\u001B[0;32m    140\u001B[0m ) \u001B[38;5;241m-\u001B[39m\u001B[38;5;241m>\u001B[39m pd\u001B[38;5;241m.\u001B[39mDataFrame:\n\u001B[0;32m    141\u001B[0m \u001B[38;5;250m    \u001B[39m\u001B[38;5;124;03m\"\"\"\u001B[39;00m\n\u001B[0;32m    142\u001B[0m \u001B[38;5;124;03m    Predict probabilities for the data given.\u001B[39;00m\n\u001B[0;32m    143\u001B[0m \n\u001B[1;32m   (...)\u001B[0m\n\u001B[0;32m    147\u001B[0m \u001B[38;5;124;03m    :param size: The desired size of the images.\u001B[39;00m\n\u001B[0;32m    148\u001B[0m \u001B[38;5;124;03m    \"\"\"\u001B[39;00m\n\u001B[1;32m--> 149\u001B[0m     cl \u001B[38;5;241m=\u001B[39m \u001B[43mkeras\u001B[49m\u001B[38;5;241;43m.\u001B[39;49m\u001B[43mmodels\u001B[49m\u001B[38;5;241;43m.\u001B[39;49m\u001B[43mload_model\u001B[49m\u001B[43m(\u001B[49m\u001B[43mclassifier\u001B[49m\u001B[43m)\u001B[49m\n\u001B[0;32m    151\u001B[0m     df \u001B[38;5;241m=\u001B[39m pd\u001B[38;5;241m.\u001B[39mread_csv(dataset, index_col\u001B[38;5;241m=\u001B[39m\u001B[38;5;241m0\u001B[39m)\n\u001B[0;32m    152\u001B[0m     df \u001B[38;5;241m=\u001B[39m df\u001B[38;5;241m.\u001B[39mprogress_apply(\u001B[38;5;28;01mlambda\u001B[39;00m row: __predict_row(row, size, cl, path), axis\u001B[38;5;241m=\u001B[39m\u001B[38;5;241m1\u001B[39m)\n",
      "File \u001B[1;32m~\\PycharmProjects\\AML_Project\\venv\\lib\\site-packages\\keras\\utils\\traceback_utils.py:65\u001B[0m, in \u001B[0;36mfilter_traceback.<locals>.error_handler\u001B[1;34m(*args, **kwargs)\u001B[0m\n\u001B[0;32m     63\u001B[0m filtered_tb \u001B[38;5;241m=\u001B[39m \u001B[38;5;28;01mNone\u001B[39;00m\n\u001B[0;32m     64\u001B[0m \u001B[38;5;28;01mtry\u001B[39;00m:\n\u001B[1;32m---> 65\u001B[0m     \u001B[38;5;28;01mreturn\u001B[39;00m fn(\u001B[38;5;241m*\u001B[39margs, \u001B[38;5;241m*\u001B[39m\u001B[38;5;241m*\u001B[39mkwargs)\n\u001B[0;32m     66\u001B[0m \u001B[38;5;28;01mexcept\u001B[39;00m \u001B[38;5;167;01mException\u001B[39;00m \u001B[38;5;28;01mas\u001B[39;00m e:\n\u001B[0;32m     67\u001B[0m     filtered_tb \u001B[38;5;241m=\u001B[39m _process_traceback_frames(e\u001B[38;5;241m.\u001B[39m__traceback__)\n",
      "File \u001B[1;32m~\\PycharmProjects\\AML_Project\\venv\\lib\\site-packages\\keras\\saving\\save.py:231\u001B[0m, in \u001B[0;36mload_model\u001B[1;34m(filepath, custom_objects, compile, options)\u001B[0m\n\u001B[0;32m    226\u001B[0m     \u001B[38;5;28;01mraise\u001B[39;00m \u001B[38;5;167;01mIOError\u001B[39;00m(\n\u001B[0;32m    227\u001B[0m         \u001B[38;5;124mf\u001B[39m\u001B[38;5;124m\"\u001B[39m\u001B[38;5;124mNo file or directory found at \u001B[39m\u001B[38;5;132;01m{\u001B[39;00mfilepath_str\u001B[38;5;132;01m}\u001B[39;00m\u001B[38;5;124m\"\u001B[39m\n\u001B[0;32m    228\u001B[0m     )\n\u001B[0;32m    230\u001B[0m \u001B[38;5;28;01mif\u001B[39;00m tf\u001B[38;5;241m.\u001B[39mio\u001B[38;5;241m.\u001B[39mgfile\u001B[38;5;241m.\u001B[39misdir(filepath_str):\n\u001B[1;32m--> 231\u001B[0m     \u001B[38;5;28;01mreturn\u001B[39;00m \u001B[43msaved_model_load\u001B[49m\u001B[38;5;241;43m.\u001B[39;49m\u001B[43mload\u001B[49m\u001B[43m(\u001B[49m\n\u001B[0;32m    232\u001B[0m \u001B[43m        \u001B[49m\u001B[43mfilepath_str\u001B[49m\u001B[43m,\u001B[49m\u001B[43m \u001B[49m\u001B[38;5;28;43mcompile\u001B[39;49m\u001B[43m,\u001B[49m\u001B[43m \u001B[49m\u001B[43moptions\u001B[49m\n\u001B[0;32m    233\u001B[0m \u001B[43m    \u001B[49m\u001B[43m)\u001B[49m\n\u001B[0;32m    234\u001B[0m \u001B[38;5;28;01melse\u001B[39;00m:\n\u001B[0;32m    235\u001B[0m     \u001B[38;5;28;01mif\u001B[39;00m h5py \u001B[38;5;129;01mis\u001B[39;00m \u001B[38;5;28;01mNone\u001B[39;00m:\n",
      "File \u001B[1;32m~\\PycharmProjects\\AML_Project\\venv\\lib\\site-packages\\keras\\saving\\saved_model\\load.py:141\u001B[0m, in \u001B[0;36mload\u001B[1;34m(path, compile, options)\u001B[0m\n\u001B[0;32m    137\u001B[0m \u001B[38;5;28;01mwith\u001B[39;00m warnings\u001B[38;5;241m.\u001B[39mcatch_warnings():\n\u001B[0;32m    138\u001B[0m     warnings\u001B[38;5;241m.\u001B[39mfilterwarnings(\n\u001B[0;32m    139\u001B[0m         \u001B[38;5;124m\"\u001B[39m\u001B[38;5;124mignore\u001B[39m\u001B[38;5;124m\"\u001B[39m, message\u001B[38;5;241m=\u001B[39m\u001B[38;5;124m\"\u001B[39m\u001B[38;5;124mTrying to load ShardedVariables\u001B[39m\u001B[38;5;124m\"\u001B[39m\n\u001B[0;32m    140\u001B[0m     )\n\u001B[1;32m--> 141\u001B[0m     loaded \u001B[38;5;241m=\u001B[39m \u001B[43mtf\u001B[49m\u001B[38;5;241;43m.\u001B[39;49m\u001B[43m__internal__\u001B[49m\u001B[38;5;241;43m.\u001B[39;49m\u001B[43msaved_model\u001B[49m\u001B[38;5;241;43m.\u001B[39;49m\u001B[43mload_partial\u001B[49m\u001B[43m(\u001B[49m\n\u001B[0;32m    142\u001B[0m \u001B[43m        \u001B[49m\u001B[43mpath\u001B[49m\u001B[43m,\u001B[49m\u001B[43m \u001B[49m\u001B[43mnodes_to_load\u001B[49m\u001B[43m,\u001B[49m\u001B[43m \u001B[49m\u001B[43moptions\u001B[49m\u001B[38;5;241;43m=\u001B[39;49m\u001B[43moptions\u001B[49m\n\u001B[0;32m    143\u001B[0m \u001B[43m    \u001B[49m\u001B[43m)\u001B[49m\n\u001B[0;32m    145\u001B[0m \u001B[38;5;66;03m# Finalize the loaded layers and remove the extra tracked dependencies.\u001B[39;00m\n\u001B[0;32m    146\u001B[0m keras_loader\u001B[38;5;241m.\u001B[39mfinalize_objects()\n",
      "File \u001B[1;32m~\\PycharmProjects\\AML_Project\\venv\\lib\\site-packages\\tensorflow\\python\\saved_model\\load.py:905\u001B[0m, in \u001B[0;36mload_partial\u001B[1;34m(export_dir, filters, tags, options)\u001B[0m\n\u001B[0;32m    900\u001B[0m \u001B[38;5;28;01mif\u001B[39;00m tags \u001B[38;5;129;01mis\u001B[39;00m \u001B[38;5;129;01mnot\u001B[39;00m \u001B[38;5;28;01mNone\u001B[39;00m \u001B[38;5;129;01mand\u001B[39;00m \u001B[38;5;129;01mnot\u001B[39;00m \u001B[38;5;28misinstance\u001B[39m(tags, \u001B[38;5;28mset\u001B[39m):\n\u001B[0;32m    901\u001B[0m   \u001B[38;5;66;03m# Supports e.g. tags=SERVING and tags=[SERVING]. Sets aren't considered\u001B[39;00m\n\u001B[0;32m    902\u001B[0m   \u001B[38;5;66;03m# sequences for nest.flatten, so we put those through as-is.\u001B[39;00m\n\u001B[0;32m    903\u001B[0m   tags \u001B[38;5;241m=\u001B[39m nest\u001B[38;5;241m.\u001B[39mflatten(tags)\n\u001B[0;32m    904\u001B[0m saved_model_proto, debug_info \u001B[38;5;241m=\u001B[39m (\n\u001B[1;32m--> 905\u001B[0m     \u001B[43mloader_impl\u001B[49m\u001B[38;5;241;43m.\u001B[39;49m\u001B[43mparse_saved_model_with_debug_info\u001B[49m\u001B[43m(\u001B[49m\u001B[43mexport_dir\u001B[49m\u001B[43m)\u001B[49m)\n\u001B[0;32m    907\u001B[0m \u001B[38;5;28;01mif\u001B[39;00m (\u001B[38;5;28mlen\u001B[39m(saved_model_proto\u001B[38;5;241m.\u001B[39mmeta_graphs) \u001B[38;5;241m==\u001B[39m \u001B[38;5;241m1\u001B[39m \u001B[38;5;129;01mand\u001B[39;00m\n\u001B[0;32m    908\u001B[0m     saved_model_proto\u001B[38;5;241m.\u001B[39mmeta_graphs[\u001B[38;5;241m0\u001B[39m]\u001B[38;5;241m.\u001B[39mHasField(\u001B[38;5;124m\"\u001B[39m\u001B[38;5;124mobject_graph_def\u001B[39m\u001B[38;5;124m\"\u001B[39m)):\n\u001B[0;32m    909\u001B[0m   metrics\u001B[38;5;241m.\u001B[39mIncrementReadApi(_LOAD_V2_LABEL)\n",
      "File \u001B[1;32m~\\PycharmProjects\\AML_Project\\venv\\lib\\site-packages\\tensorflow\\python\\saved_model\\loader_impl.py:57\u001B[0m, in \u001B[0;36mparse_saved_model_with_debug_info\u001B[1;34m(export_dir)\u001B[0m\n\u001B[0;32m     44\u001B[0m \u001B[38;5;28;01mdef\u001B[39;00m \u001B[38;5;21mparse_saved_model_with_debug_info\u001B[39m(export_dir):\n\u001B[0;32m     45\u001B[0m \u001B[38;5;250m  \u001B[39m\u001B[38;5;124;03m\"\"\"Reads the savedmodel as well as the graph debug info.\u001B[39;00m\n\u001B[0;32m     46\u001B[0m \n\u001B[0;32m     47\u001B[0m \u001B[38;5;124;03m  Args:\u001B[39;00m\n\u001B[1;32m   (...)\u001B[0m\n\u001B[0;32m     55\u001B[0m \u001B[38;5;124;03m    parsed. Missing graph debug info file is fine.\u001B[39;00m\n\u001B[0;32m     56\u001B[0m \u001B[38;5;124;03m  \"\"\"\u001B[39;00m\n\u001B[1;32m---> 57\u001B[0m   saved_model \u001B[38;5;241m=\u001B[39m \u001B[43mparse_saved_model\u001B[49m\u001B[43m(\u001B[49m\u001B[43mexport_dir\u001B[49m\u001B[43m)\u001B[49m\n\u001B[0;32m     59\u001B[0m   debug_info_path \u001B[38;5;241m=\u001B[39m file_io\u001B[38;5;241m.\u001B[39mjoin(\n\u001B[0;32m     60\u001B[0m       saved_model_utils\u001B[38;5;241m.\u001B[39mget_debug_dir(export_dir),\n\u001B[0;32m     61\u001B[0m       constants\u001B[38;5;241m.\u001B[39mDEBUG_INFO_FILENAME_PB)\n\u001B[0;32m     62\u001B[0m   debug_info \u001B[38;5;241m=\u001B[39m graph_debug_info_pb2\u001B[38;5;241m.\u001B[39mGraphDebugInfo()\n",
      "\u001B[1;31mKeyboardInterrupt\u001B[0m: "
     ]
    }
   ],
   "source": [
    "stacking_from_csv(\n",
    "    primary_classifier=\"../classifiers/species_efficient_net_classifier_50e\",\n",
    "    secondary_classifier=\"../classifiers/antonio_effnet_finetune\",\n",
    "    dataset=\"../data/test_images_path.csv\",\n",
    "    path=\"../data/test_images\",\n",
    "    size=INPUT_SHAPE,\n",
    "    weights=(1.0, 0.3),\n",
    "    mapping=\"../mapping.pickle\",\n",
    ")"
   ]
  },
  {
   "cell_type": "code",
   "execution_count": null,
   "outputs": [],
   "source": [],
   "metadata": {
    "collapsed": false
   },
   "id": "32e8c34cc756e054"
  }
 ],
 "metadata": {
  "kernelspec": {
   "display_name": "Python 3 (ipykernel)",
   "language": "python",
   "name": "python3"
  },
  "language_info": {
   "codemirror_mode": {
    "name": "ipython",
    "version": 3
   },
   "file_extension": ".py",
   "mimetype": "text/x-python",
   "name": "python",
   "nbconvert_exporter": "python",
   "pygments_lexer": "ipython3",
   "version": "3.10.13"
  }
 },
 "nbformat": 4,
 "nbformat_minor": 5
}
