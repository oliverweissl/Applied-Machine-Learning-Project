{
 "cells": [
  {
   "cell_type": "code",
   "execution_count": null,
   "outputs": [],
   "source": [
    "from src import random_augmentation\n",
    "from glob import glob\n",
    "\n",
    "%load_ext autoreload\n",
    "%autoreload 2"
   ],
   "metadata": {
    "collapsed": false
   },
   "id": "c65656c7ae475201"
  },
  {
   "cell_type": "markdown",
   "source": [
    "## Randomly Augment Images"
   ],
   "metadata": {
    "collapsed": false
   },
   "id": "abd297fc64a92963"
  },
  {
   "cell_type": "code",
   "execution_count": null,
   "outputs": [],
   "source": [
    "subsp_images = glob(\"data/train_images/train_images/**/*.jpg\")\n",
    "sp_images = glob(\"data/train_images/species_classify/**/*.jpg\")"
   ],
   "metadata": {
    "collapsed": false
   },
   "id": "f049eca232698731"
  },
  {
   "cell_type": "code",
   "execution_count": null,
   "outputs": [],
   "source": [
    "random_augmentation(subsp_images, p=0.4)"
   ],
   "metadata": {
    "collapsed": false
   },
   "id": "62b0cf12ad55e5cf"
  },
  {
   "cell_type": "code",
   "execution_count": null,
   "outputs": [],
   "source": [
    "random_augmentation(sp_images, p=0.3)"
   ],
   "metadata": {
    "collapsed": false
   },
   "id": "81592af744c42b1f"
  }
 ],
 "metadata": {
  "kernelspec": {
   "display_name": "Python 3 (ipykernel)",
   "language": "python",
   "name": "python3"
  },
  "language_info": {
   "codemirror_mode": {
    "name": "ipython",
    "version": 3
   },
   "file_extension": ".py",
   "mimetype": "text/x-python",
   "name": "python",
   "nbconvert_exporter": "python",
   "pygments_lexer": "ipython3",
   "version": "3.10.13"
  }
 },
 "nbformat": 4,
 "nbformat_minor": 5
}
