{
 "cells": [
  {
   "cell_type": "code",
   "execution_count": null,
   "id": "initial_id",
   "metadata": {
    "collapsed": true
   },
   "outputs": [],
   "source": [
    "from glob import glob\n",
    "import pandas as pd\n",
    "from sklearn.model_selection import train_test_split"
   ]
  },
  {
   "cell_type": "markdown",
   "source": [
    "## Make stratified datasets\n",
    "-> Each class has an exact test, val split.\n",
    "-> Classes with more instances are undersampled to level imbalance."
   ],
   "metadata": {
    "collapsed": false
   },
   "id": "e6e945975095dd7e"
  },
  {
   "cell_type": "code",
   "execution_count": null,
   "outputs": [],
   "source": [
    "SRC_DIR = \"../data/train_images/train_images\"\n",
    "TARGET_DIR = \"../data/train_images/stratified\""
   ],
   "metadata": {
    "collapsed": false
   },
   "id": "9c7d0e2a08a6cef2"
  },
  {
   "cell_type": "code",
   "execution_count": null,
   "outputs": [],
   "source": [
    "df_dict = {\n",
    "    \"label\": [],\n",
    "    \"image\": [],\n",
    "}\n",
    "\n",
    "for path in glob(f\"{SRC_DIR}/**/*.jpg\"):\n",
    "    _, label, _ = path.split(\"\\\\\")\n",
    "    df_dict[\"label\"].append(label)\n",
    "    df_dict[\"image\"].append(path)"
   ],
   "metadata": {
    "collapsed": false
   },
   "id": "1c527acd1f967bd4"
  },
  {
   "cell_type": "code",
   "execution_count": null,
   "outputs": [],
   "source": [
    "df = pd.DataFrame(df_dict)"
   ],
   "metadata": {
    "collapsed": false
   },
   "id": "70b8c99c8d8e4c85"
  },
  {
   "cell_type": "code",
   "execution_count": null,
   "outputs": [],
   "source": [
    "df[\"label\"].hist(bins = len(df[\"label\"].unique()))\n",
    "print(f\"Nuber of labels: {len(df['label'].unique())}\")\n",
    "print(f\"Min amount of instances: {min(df['label'].value_counts())}\")\n",
    "print(f\"Max amount of instances: {max(df['label'].value_counts())}\")"
   ],
   "metadata": {
    "collapsed": false
   },
   "id": "6f1496c8888fd82"
  },
  {
   "cell_type": "code",
   "execution_count": null,
   "outputs": [],
   "source": [
    "TO_TAKE = 40  # number of instances to take for the stratified fold\n",
    "stratified_df = pd.DataFrame({\n",
    "    \"label\": [],\n",
    "    \"image\": [],\n",
    "})"
   ],
   "metadata": {
    "collapsed": false
   },
   "id": "90e1283bd94b6c71"
  },
  {
   "cell_type": "code",
   "execution_count": null,
   "outputs": [],
   "source": [
    "for label in df[\"label\"].unique():\n",
    "    target_df = df[df[\"label\"] == label]\n",
    "    if len(target_df) > TO_TAKE:\n",
    "         target_df = target_df.sample(n=TO_TAKE)\n",
    "    stratified_df = pd.concat([stratified_df, target_df])"
   ],
   "metadata": {
    "collapsed": false
   },
   "id": "2dbf0ae78ce41666"
  },
  {
   "cell_type": "code",
   "execution_count": null,
   "outputs": [],
   "source": [
    "stratified_df[\"label\"].hist(bins = len(df[\"label\"].unique()))"
   ],
   "metadata": {
    "collapsed": false
   },
   "id": "3aec09e66bf64a79"
  },
  {
   "cell_type": "code",
   "execution_count": null,
   "outputs": [],
   "source": [
    "stratified_df.to_csv(\"../data/train_images_stratified.csv\")"
   ],
   "metadata": {
    "collapsed": false
   },
   "id": "b37b3c3ec5cd0fa7"
  },
  {
   "cell_type": "code",
   "execution_count": null,
   "outputs": [],
   "source": [
    "stratified_train_df, stratified_val_df = train_test_split(stratified_df, test_size=0.3, random_state=42, stratify=stratified_df[\"label\"])"
   ],
   "metadata": {
    "collapsed": false
   },
   "id": "2ec1b5497162fc39"
  },
  {
   "cell_type": "code",
   "execution_count": null,
   "outputs": [],
   "source": [
    "stratified_train_df.to_csv(\"../data/train_ds_images_stratified.csv\")\n",
    "stratified_val_df.to_csv(\"../data/val_ds_images_stratified.csv\")"
   ],
   "metadata": {
    "collapsed": false
   },
   "id": "7211559736585b9b"
  }
 ],
 "metadata": {
  "kernelspec": {
   "display_name": "Python 3",
   "language": "python",
   "name": "python3"
  },
  "language_info": {
   "codemirror_mode": {
    "name": "ipython",
    "version": 2
   },
   "file_extension": ".py",
   "mimetype": "text/x-python",
   "name": "python",
   "nbconvert_exporter": "python",
   "pygments_lexer": "ipython2",
   "version": "2.7.6"
  }
 },
 "nbformat": 4,
 "nbformat_minor": 5
}
