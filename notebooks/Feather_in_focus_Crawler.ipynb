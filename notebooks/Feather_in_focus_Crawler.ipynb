{
 "nbformat": 4,
 "nbformat_minor": 0,
 "metadata": {
  "colab": {
   "provenance": []
  },
  "kernelspec": {
   "name": "python3",
   "display_name": "Python 3"
  },
  "language_info": {
   "name": "python"
  }
 },
 "cells": [
  {
   "cell_type": "markdown",
   "source": [
    "Installing required libraries"
   ],
   "metadata": {
    "id": "ZeEixX2a9J_i"
   }
  },
  {
   "cell_type": "code",
   "source": [
    "!pip install icrawler"
   ],
   "metadata": {
    "colab": {
     "base_uri": "https://localhost:8080/"
    },
    "id": "2JdeMxeg9DcN",
    "outputId": "21af8490-818e-4242-b939-54994df5b0e8"
   },
   "execution_count": null,
   "outputs": []
  },
  {
   "cell_type": "code",
   "source": [
    "from google.colab import drive\n",
    "\n",
    "import re\n",
    "import os\n",
    "import cv2\n",
    "import pandas as pd\n",
    "import numpy as np\n",
    "import matplotlib.pyplot as plt\n",
    "from PIL import Image\n",
    "from icrawler.builtin import GoogleImageCrawler\n",
    "\n",
    "\n",
    "%matplotlib inline"
   ],
   "metadata": {
    "id": "3022RbqVe6rk"
   },
   "execution_count": null,
   "outputs": []
  },
  {
   "cell_type": "code",
   "source": [
    "drive.mount('/content/drive', force_remount=True)"
   ],
   "metadata": {
    "colab": {
     "base_uri": "https://localhost:8080/"
    },
    "id": "scWKdnCZaBqx",
    "outputId": "00085c59-d2ad-4d47-ab20-c71d76fd2574"
   },
   "execution_count": null,
   "outputs": []
  },
  {
   "cell_type": "code",
   "source": [
    "%cd /content/drive/MyDrive/"
   ],
   "metadata": {
    "colab": {
     "base_uri": "https://localhost:8080/"
    },
    "id": "z7fhcCcxd-uM",
    "outputId": "526f886e-9a7c-4134-e72a-8f22da3412e7"
   },
   "execution_count": null,
   "outputs": []
  },
  {
   "cell_type": "markdown",
   "source": [
    "Crawler Configuration"
   ],
   "metadata": {
    "id": "vC6liDnRgRso"
   }
  },
  {
   "cell_type": "code",
   "source": [
    "google_crawler = GoogleImageCrawler(\n",
    "    feeder_threads=1,\n",
    "    parser_threads=2,\n",
    "    downloader_threads=4,\n",
    "    storage={'root_dir': './feather-in-focus/data_augmentation/test_full_data'})\n",
    "filters = dict(\n",
    "    size='medium',\n",
    "    #color='orange',\n",
    "    #license='commercial,modify',\n",
    "    #date=((2017, 1, 1), (2017, 11, 30))\n",
    "    )\n"
   ],
   "metadata": {
    "id": "MjN2MGVegP4n"
   },
   "execution_count": null,
   "outputs": []
  },
  {
   "cell_type": "code",
   "source": [
    "ROOT = \"./feather-in-focus\"\n",
    "TRAINING_PATH = \"./feather-in-focus/train_images\"\n",
    "TEST_PATH = \"./feather-in-focus/test_images\""
   ],
   "metadata": {
    "id": "whxbduRLaRch"
   },
   "execution_count": null,
   "outputs": []
  },
  {
   "cell_type": "code",
   "source": [
    "attributes = np.load(ROOT + '/attributes.npy')\n",
    "df_attributes = pd.DataFrame(attributes)\n",
    "class_names = np.load(ROOT + '/class_names.npy', allow_pickle=True).item()\n",
    "class_names_df = pd.DataFrame(list(class_names.items()), columns=['Class', 'Description'])\n",
    "class_names_df.set_index('Description', inplace=True)\n",
    "train_images = pd.read_csv(ROOT + \"/train_images.csv\")\n",
    "test_images = pd.read_csv(ROOT + \"/train_images.csv\")"
   ],
   "metadata": {
    "id": "8u3QKmW_e4PM"
   },
   "execution_count": null,
   "outputs": []
  },
  {
   "cell_type": "code",
   "source": [
    "# Merge with class labels\n",
    "final_df = train_images.merge(class_names_df, left_on='label', right_on='Description')"
   ],
   "metadata": {
    "id": "bHH0pHA9fmi_"
   },
   "execution_count": null,
   "outputs": []
  },
  {
   "cell_type": "code",
   "source": [
    "final_df[\"Class\"].value_counts()"
   ],
   "metadata": {
    "colab": {
     "base_uri": "https://localhost:8080/"
    },
    "id": "aU7nKNTVfoEA",
    "outputId": "105dd2f8-cba1-48a8-a428-855a54f629da"
   },
   "execution_count": null,
   "outputs": []
  },
  {
   "cell_type": "markdown",
   "source": [
    "# Crawler"
   ],
   "metadata": {
    "id": "vt_Um4DEdUJK"
   }
  },
  {
   "cell_type": "code",
   "source": [
    "def get_last_image(df):\n",
    "  last_index = df.index[-1]\n",
    "  last_path = df.iloc[last_index, 0]\n",
    "  file_number = re.findall(r'\\d+', last_path)\n",
    "\n",
    "  if len(file_number) != 1:\n",
    "     raise ValueError(\"Expected EXACTLY one number in the last path.\")\n",
    "\n",
    "  return int(file_number[0])+1\n",
    "\n",
    "def get_available_images(y_label):\n",
    "\n",
    "  return final_df[\"label\"].value_counts().loc[y_label]\n",
    "\n",
    "def get_search_term(label, extra_text=''):\n",
    "\n",
    "  input_string = class_names_df.loc[label][\"Class\"]\n",
    "  pattern = r'\\d+\\.(.+)$'\n",
    "\n",
    "  match = re.search(pattern, input_string)\n",
    "  if match:\n",
    "      result = match.group(1).replace('_', ' ')\n",
    "      return result + ' ' + extra_text\n",
    "  else:\n",
    "      return \"Twitter logo\"\n",
    "\n",
    "def crawl_for_birds(label, aditional_info, number_img, file_idx_offset,filters=filters, google_crawler=google_crawler):\n",
    "  keyword = get_search_term(label, aditional_info)\n",
    "  print(f\"Downloading label {label} ({keyword}), a numer of {number_img} with a starting index of {file_idx_offset}\")\n",
    "  google_crawler.crawl(keyword=keyword, filters=filters, max_num=number_img, file_idx_offset=file_idx_offset)\n"
   ],
   "metadata": {
    "id": "H6uKEDirjDwR"
   },
   "execution_count": null,
   "outputs": []
  },
  {
   "cell_type": "markdown",
   "source": [
    "# Calling the crawler over the whole data"
   ],
   "metadata": {
    "id": "E6BQ_I1kmBZq"
   }
  },
  {
   "cell_type": "code",
   "source": [
    "img_per_class = 50\n",
    "next_image = get_last_image(train_images)\n",
    "folder = \"/train_images/\"\n",
    "extension = \".jpg\"\n",
    "flag = 0\n",
    "augmented_df = pd.DataFrame(columns=['image_path', 'label'])\n",
    "\n",
    "\n",
    "for label in final_df[\"label\"].value_counts().index:\n",
    "  images_needed = img_per_class - get_available_images(label)\n",
    "  if flag != 0:\n",
    "    next_image = get_last_image(augmented_df)\n",
    "  else:\n",
    "    flag = 1\n",
    "\n",
    "  ## Call the crawler\n",
    "  crawl_for_birds(label, \"alone\", images_needed, next_image)\n",
    "\n",
    "  new_images = {\n",
    "    'image_path': [folder + str(value) + extension\n",
    "                   for value in range(next_image,\n",
    "                                      next_image + images_needed)],\n",
    "    'label': [label] * int(images_needed)\n",
    "  }\n",
    "\n",
    "  loop_df = pd.DataFrame(new_images)\n",
    "\n",
    "  augmented_df = pd.concat([augmented_df, loop_df])"
   ],
   "metadata": {
    "id": "5zgiEFDFovxV"
   },
   "execution_count": null,
   "outputs": []
  },
  {
   "cell_type": "markdown",
   "source": [
    "Sending DF to CSV"
   ],
   "metadata": {
    "id": "Fu21UwLvmKrz"
   }
  },
  {
   "cell_type": "code",
   "source": [
    "augmented_df.to_csv('augmented_dataframe')"
   ],
   "metadata": {
    "id": "5WiwzYwPVGce"
   },
   "execution_count": null,
   "outputs": []
  },
  {
   "cell_type": "code",
   "source": [
    "augmented_df[\"label\"].value_counts().sum()"
   ],
   "metadata": {
    "colab": {
     "base_uri": "https://localhost:8080/"
    },
    "id": "ADrPTDHRfr6R",
    "outputId": "bf594b8d-d252-4931-ec8a-e2c75ae40834"
   },
   "execution_count": null,
   "outputs": []
  },
  {
   "cell_type": "code",
   "source": [
    "os.listdir(\"./feather-in-focus/data_augmentation/test_full_data\")"
   ],
   "metadata": {
    "colab": {
     "base_uri": "https://localhost:8080/",
     "height": 175
    },
    "id": "qWrjyC6slqhs",
    "outputId": "1aa1f32c-7340-4d0e-b91e-bdcd326b17cb"
   },
   "execution_count": null,
   "outputs": []
  },
  {
   "cell_type": "code",
   "source": [],
   "metadata": {
    "id": "GRYG_XLtmqrY"
   },
   "execution_count": null,
   "outputs": []
  }
 ]
}
