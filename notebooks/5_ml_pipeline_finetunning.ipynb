{
 "cells": [
  {
   "cell_type": "code",
   "execution_count": null,
   "id": "initial_id",
   "metadata": {},
   "outputs": [],
   "source": [
    "import pandas as pd\n",
    "import tensorflow as tf\n",
    "import tensorflow.compat.v1 as tfc\n",
    "from sklearn.utils.class_weight import compute_class_weight\n",
    "from tensorflow import keras\n",
    "from modeling import finetune_classifier\n",
    "\n",
    "from modeling import stacking_from_csv, predict_from_csv\n",
    "import pickle\n",
    "from src import InputPipeline, make_finetune_curves\n",
    "\n",
    "%load_ext autoreload\n",
    "%autoreload 2"
   ]
  },
  {
   "cell_type": "markdown",
   "id": "627a750892efbdf9",
   "metadata": {
    "collapsed": false
   },
   "source": [
    "## Check GPU for tf"
   ]
  },
  {
   "cell_type": "code",
   "execution_count": null,
   "id": "20f7764292bb4e8f",
   "metadata": {
    "collapsed": false
   },
   "outputs": [],
   "source": [
    "# Some GPU setup\n",
    "# for documentation about using gpus refer to: https://www.tensorflow.org/install/pip#windows-wsl2\n",
    "\n",
    "tf.keras.backend.clear_session()\n",
    "\n",
    "device_name = tf.test.gpu_device_name()\n",
    "if not device_name:\n",
    "  raise SystemError('GPU device not found')\n",
    "try:  # prevent a previous session from being alive\n",
    "  sess.close() \n",
    "except:\n",
    "  pass\n",
    "\n",
    "tfc.enable_eager_execution()\n",
    "gpu_options= tfc.GPUOptions(per_process_gpu_memory_fraction = 0.90)\n",
    "sess = tfc.InteractiveSession(config=tfc.ConfigProto(gpu_options=gpu_options))"
   ]
  },
  {
   "cell_type": "markdown",
   "id": "2bd6fa03166027bf",
   "metadata": {
    "collapsed": false
   },
   "source": [
    "### Optional Stuff\n",
    "- Here we compute classweights since the data is very imbalanced"
   ]
  },
  {
   "cell_type": "code",
   "execution_count": null,
   "id": "dbbeb2f7c31d69b5",
   "metadata": {
    "collapsed": false
   },
   "outputs": [],
   "source": [
    "train_df = pd.read_csv(\"../data/train_images_stratified.csv\")"
   ]
  },
  {
   "cell_type": "code",
   "execution_count": null,
   "id": "77c9b74db259162b",
   "metadata": {
    "collapsed": false
   },
   "outputs": [],
   "source": [
    "class_weights = compute_class_weight(class_weight = 'balanced', classes = train_df[\"label\"].unique(), y=train_df[\"label\"])\n",
    "class_weights = dict(enumerate(class_weights))"
   ]
  },
  {
   "cell_type": "markdown",
   "id": "cabc5747ca16eb86",
   "metadata": {
    "collapsed": false
   },
   "source": [
    "## Configure Parameters"
   ]
  },
  {
   "cell_type": "code",
   "execution_count": null,
   "id": "b925aeaf5dd5bc8a",
   "metadata": {
    "collapsed": false
   },
   "outputs": [],
   "source": [
    "INPUT_SHAPE = (220, 220,3)\n",
    "\n",
    "CONF = {\n",
    "  \"learning_rate\": 0.0001,\n",
    "  \"batch_size\": 18,\n",
    "  \"epochs\": 5,\n",
    "  \"loss_function\": \"sparse_categorical_crossentropy\",\n",
    "  \"metric\": \"sparse_categorical_accuracy\",\n",
    "}"
   ]
  },
  {
   "cell_type": "markdown",
   "id": "a9d757ac727bb83d",
   "metadata": {
    "collapsed": false
   },
   "source": [
    "## Make Input Pipelines"
   ]
  },
  {
   "cell_type": "code",
   "execution_count": null,
   "id": "7b661b3ee9ebcaac",
   "metadata": {
    "collapsed": false
   },
   "outputs": [],
   "source": [
    "# Input pipeline for subspecies\n",
    "sub_species_input_pipeline = InputPipeline(splits=(0.8,0.0,0.2), channels=3, batch_size=CONF[\"batch_size\"], size=INPUT_SHAPE[:2])\n",
    "# This has a stratified split\n",
    "sub_species_input_pipeline.make_stratified_train_dataset(\n",
    "  train_ds_path= \"../data/train_ds_images_stratified.csv\",\n",
    "  val_ds_path=\"../data/val_ds_images_stratified.csv\",\n",
    ")\n",
    "\n",
    "\n",
    "# Input pipeline for species\n",
    "species_input_pipeline = InputPipeline(splits=(0.85,0.0,0.15), channels=3, batch_size=CONF[\"batch_size\"], size=INPUT_SHAPE[:2])\n",
    "species_input_pipeline.make_train_datasets(directory=\"../data/train_images/species_classify\")  # This doesnt have a stratified split\n"
   ]
  },
  {
   "cell_type": "markdown",
   "source": [
    "# Finetuning our models\n",
    "## Species"
   ],
   "metadata": {
    "collapsed": false
   },
   "id": "1c774c996ea30f8f"
  },
  {
   "cell_type": "code",
   "execution_count": null,
   "outputs": [],
   "source": [
    "finetune_classifier(\n",
    "    model_path=\"../classifiers/species_effnet\",\n",
    "    configuration=CONF,\n",
    "    train_dataset=sub_species_input_pipeline.train_dataset,\n",
    "    validation_dataset=sub_species_input_pipeline.validation_dataset,\n",
    "    class_weights=class_weights\n",
    "                    )"
   ],
   "metadata": {
    "collapsed": false
   },
   "id": "653d52acd73938ab"
  },
  {
   "cell_type": "code",
   "execution_count": null,
   "outputs": [],
   "source": [
    "with open(\"../classifiers/trainHistoryDict/species_effnet.pkl\", \"rb\") as file:\n",
    "    last_hist = pickle.load(file)\n",
    "with open(\"../classifiers/trainHistoryDict/species_effnet_tuned.pkl\", \"rb\") as file:\n",
    "    first_hist = pickle.load(file)\n",
    "\n",
    "make_finetune_curves(first_hist,last_hist)"
   ],
   "metadata": {
    "collapsed": false
   },
   "id": "8dfc020c5581c9d7"
  },
  {
   "cell_type": "code",
   "execution_count": null,
   "outputs": [],
   "source": [
    "predict_from_csv(\n",
    "  classifier=\"../classifiers/species_effnet_tuned\",\n",
    "  dataset=\"../data/test_images_path.csv\",\n",
    "  path=\"../data/test_images\",\n",
    "  size=INPUT_SHAPE,\n",
    ")"
   ],
   "metadata": {
    "collapsed": false
   },
   "id": "b196cec4f7049017"
  },
  {
   "cell_type": "markdown",
   "id": "54843c98-7259-438b-9935-1a181cf35dc0",
   "metadata": {},
   "source": [
    "## Family Classifier"
   ]
  },
  {
   "cell_type": "code",
   "execution_count": null,
   "id": "f7a3b888-8db7-4285-992d-cc4c0173e495",
   "metadata": {},
   "outputs": [],
   "source": [
    "finetune_classifier(\n",
    "    model_path=\"../classifiers/family_effnet\",\n",
    "    configuration=CONF,\n",
    "    train_dataset=species_input_pipeline.train_dataset,\n",
    "    validation_dataset=species_input_pipeline.validation_dataset,\n",
    "                    )"
   ]
  },
  {
   "cell_type": "code",
   "execution_count": null,
   "outputs": [],
   "source": [
    "with open(\"../classifiers/trainHistoryDict/family_effnet.pkl\", \"rb\") as file:\n",
    "    last_hist = pickle.load(file)\n",
    "with open(\"../classifiers/trainHistoryDict/family_effnet_tuned.pkl\", \"rb\") as file:\n",
    "    first_hist = pickle.load(file)\n",
    "\n",
    "make_finetune_curves(first_hist,last_hist)"
   ],
   "metadata": {
    "collapsed": false
   },
   "id": "c6b51c70c4590019"
  },
  {
   "cell_type": "code",
   "execution_count": null,
   "outputs": [],
   "source": [
    "stacking_from_csv(\n",
    "    primary_classifier=\"../classifiers/family_effnet_tuned\",\n",
    "    secondary_classifier=\"../classifiers/species_effnet_tuned\",\n",
    "    dataset=\"../data/test_images_path.csv\",\n",
    "    path=\"../data/test_images\",\n",
    "    size=INPUT_SHAPE,\n",
    "    weights=(0.6, 1.0),\n",
    "    mapping=\"../mapping.pickle\",\n",
    ")"
   ],
   "metadata": {
    "collapsed": false
   },
   "id": "cba6c750c1c95f7f"
  }
 ],
 "metadata": {
  "kernelspec": {
   "display_name": "Python 3 (ipykernel)",
   "language": "python",
   "name": "python3"
  },
  "language_info": {
   "codemirror_mode": {
    "name": "ipython",
    "version": 3
   },
   "file_extension": ".py",
   "mimetype": "text/x-python",
   "name": "python",
   "nbconvert_exporter": "python",
   "pygments_lexer": "ipython3",
   "version": "3.10.13"
  }
 },
 "nbformat": 4,
 "nbformat_minor": 5
}
