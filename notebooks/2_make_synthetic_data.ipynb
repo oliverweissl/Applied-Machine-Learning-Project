{
 "cells": [
  {
   "cell_type": "code",
   "execution_count": 1,
   "id": "c65656c7ae475201",
   "metadata": {
    "collapsed": false,
    "ExecuteTime": {
     "end_time": "2023-12-11T19:26:17.034484300Z",
     "start_time": "2023-12-11T19:26:05.507472900Z"
    }
   },
   "outputs": [],
   "source": [
    "from src import random_augmentation\n",
    "from glob import glob\n",
    "\n",
    "%load_ext autoreload\n",
    "%autoreload 2"
   ]
  },
  {
   "cell_type": "markdown",
   "id": "abd297fc64a92963",
   "metadata": {
    "collapsed": false
   },
   "source": [
    "## Randomly Augment Images"
   ]
  },
  {
   "cell_type": "code",
   "execution_count": 4,
   "id": "f049eca232698731",
   "metadata": {
    "collapsed": false,
    "ExecuteTime": {
     "end_time": "2023-12-11T19:28:46.568299Z",
     "start_time": "2023-12-11T19:28:45.433299800Z"
    }
   },
   "outputs": [],
   "source": [
    "subsp_images = glob(\"../data/train_images/train_images/**/*.jpg\")\n",
    "sp_images = glob(\"../data/train_images/species_classify/**/*.jpg\")"
   ]
  },
  {
   "cell_type": "code",
   "execution_count": 6,
   "id": "62b0cf12ad55e5cf",
   "metadata": {
    "collapsed": false,
    "ExecuteTime": {
     "end_time": "2023-12-11T19:53:14.844843400Z",
     "start_time": "2023-12-11T19:28:52.022075500Z"
    }
   },
   "outputs": [
    {
     "name": "stderr",
     "output_type": "stream",
     "text": [
      "100%|██████████| 3926/3926 [02:21<00:00, 27.72it/s]\n",
      "100%|██████████| 3926/3926 [02:26<00:00, 26.86it/s]\n",
      "100%|██████████| 3926/3926 [02:27<00:00, 26.69it/s]\n",
      "100%|██████████| 3926/3926 [02:21<00:00, 27.71it/s]\n",
      "100%|██████████| 3926/3926 [02:28<00:00, 26.46it/s]\n",
      "100%|██████████| 3926/3926 [02:26<00:00, 26.84it/s]\n",
      "100%|██████████| 3926/3926 [02:32<00:00, 25.80it/s]\n",
      "100%|██████████| 3926/3926 [02:26<00:00, 26.80it/s]\n",
      "100%|██████████| 3926/3926 [02:24<00:00, 27.23it/s]\n",
      "100%|██████████| 3926/3926 [02:28<00:00, 26.47it/s]\n"
     ]
    }
   ],
   "source": [
    "for _ in range(10):\n",
    "    random_augmentation(subsp_images, p=0.4)"
   ]
  },
  {
   "cell_type": "code",
   "execution_count": 7,
   "id": "81592af744c42b1f",
   "metadata": {
    "collapsed": false,
    "ExecuteTime": {
     "end_time": "2023-12-11T20:17:12.278386700Z",
     "start_time": "2023-12-11T19:53:33.645274Z"
    }
   },
   "outputs": [
    {
     "name": "stderr",
     "output_type": "stream",
     "text": [
      "100%|██████████| 3926/3926 [02:29<00:00, 26.18it/s]\n",
      "100%|██████████| 3926/3926 [02:20<00:00, 27.84it/s]\n",
      "100%|██████████| 3926/3926 [02:26<00:00, 26.88it/s]\n",
      "100%|██████████| 3926/3926 [02:18<00:00, 28.26it/s]\n",
      "100%|██████████| 3926/3926 [02:16<00:00, 28.66it/s]\n",
      "100%|██████████| 3926/3926 [02:19<00:00, 28.08it/s]\n",
      "100%|██████████| 3926/3926 [02:21<00:00, 27.84it/s]\n",
      "100%|██████████| 3926/3926 [02:19<00:00, 28.21it/s]\n",
      "100%|██████████| 3926/3926 [02:23<00:00, 27.40it/s]\n",
      "100%|██████████| 3926/3926 [02:22<00:00, 27.65it/s]\n"
     ]
    }
   ],
   "source": [
    "for _ in range(10):\n",
    "    random_augmentation(sp_images, p=0.4)"
   ]
  }
 ],
 "metadata": {
  "kernelspec": {
   "display_name": "Python 3 (ipykernel)",
   "language": "python",
   "name": "python3"
  },
  "language_info": {
   "codemirror_mode": {
    "name": "ipython",
    "version": 3
   },
   "file_extension": ".py",
   "mimetype": "text/x-python",
   "name": "python",
   "nbconvert_exporter": "python",
   "pygments_lexer": "ipython3",
   "version": "3.10.13"
  }
 },
 "nbformat": 4,
 "nbformat_minor": 5
}
