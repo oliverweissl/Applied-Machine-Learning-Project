{
 "cells": [
  {
   "cell_type": "code",
   "execution_count": null,
   "id": "c65656c7ae475201",
   "metadata": {
    "collapsed": false
   },
   "outputs": [],
   "source": [
    "from src import random_augmentation\n",
    "from glob import glob\n",
    "\n",
    "%load_ext autoreload\n",
    "%autoreload 2"
   ]
  },
  {
   "cell_type": "markdown",
   "id": "abd297fc64a92963",
   "metadata": {
    "collapsed": false
   },
   "source": [
    "## Randomly Augment Images"
   ]
  },
  {
   "cell_type": "code",
   "execution_count": null,
   "id": "f049eca232698731",
   "metadata": {
    "collapsed": false
   },
   "outputs": [],
   "source": [
    "subsp_images = glob(\"./data/train_images/train_images/**/*.jpg\")\n",
    "sp_images = glob(\"./data/train_images/species_classify/**/*.jpg\")"
   ]
  },
  {
   "cell_type": "code",
   "execution_count": null,
   "id": "62b0cf12ad55e5cf",
   "metadata": {
    "collapsed": false
   },
   "outputs": [],
   "source": [
    "for _ in range(10):\n",
    "    random_augmentation(subsp_images, p=0.4)"
   ]
  },
  {
   "cell_type": "code",
   "execution_count": null,
   "id": "81592af744c42b1f",
   "metadata": {
    "collapsed": false
   },
   "outputs": [],
   "source": [
    "for _ in range(10):\n",
    "    random_augmentation(sp_images, p=0.4)"
   ]
  }
 ],
 "metadata": {
  "kernelspec": {
   "display_name": "Python 3 (ipykernel)",
   "language": "python",
   "name": "python3"
  },
  "language_info": {
   "codemirror_mode": {
    "name": "ipython",
    "version": 3
   },
   "file_extension": ".py",
   "mimetype": "text/x-python",
   "name": "python",
   "nbconvert_exporter": "python",
   "pygments_lexer": "ipython3",
   "version": "3.10.13"
  }
 },
 "nbformat": 4,
 "nbformat_minor": 5
}
