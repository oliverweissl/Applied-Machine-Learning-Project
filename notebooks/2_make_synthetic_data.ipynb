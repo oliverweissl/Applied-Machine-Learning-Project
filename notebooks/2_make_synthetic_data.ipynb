{
 "cells": [
  {
   "cell_type": "code",
   "execution_count": 1,
   "outputs": [],
   "source": [
    "from src import random_augmentation\n",
    "from glob import glob\n",
    "\n",
    "%load_ext autoreload\n",
    "%autoreload 2"
   ],
   "metadata": {
    "collapsed": false,
    "ExecuteTime": {
     "end_time": "2023-11-28T20:53:28.517518400Z",
     "start_time": "2023-11-28T20:53:04.783409300Z"
    }
   },
   "id": "c65656c7ae475201"
  },
  {
   "cell_type": "markdown",
   "source": [
    "## Randomly Augment Images"
   ],
   "metadata": {
    "collapsed": false
   },
   "id": "abd297fc64a92963"
  },
  {
   "cell_type": "code",
   "execution_count": 2,
   "outputs": [],
   "source": [
    "subsp_images = glob(\"../data/train_images/train_images/**/*.jpg\")\n",
    "sp_images = glob(\"../data/train_images/species_classify/**/*.jpg\")"
   ],
   "metadata": {
    "collapsed": false,
    "ExecuteTime": {
     "end_time": "2023-11-28T20:53:28.990514700Z",
     "start_time": "2023-11-28T20:53:28.517518400Z"
    }
   },
   "id": "f049eca232698731"
  },
  {
   "cell_type": "code",
   "execution_count": 3,
   "outputs": [
    {
     "name": "stderr",
     "output_type": "stream",
     "text": [
      "100%|██████████| 7852/7852 [03:46<00:00, 34.71it/s]\n"
     ]
    }
   ],
   "source": [
    "for _ in range(1):\n",
    "    random_augmentation(subsp_images, p=0.2)"
   ],
   "metadata": {
    "collapsed": false,
    "ExecuteTime": {
     "end_time": "2023-11-28T20:57:15.606456800Z",
     "start_time": "2023-11-28T20:53:28.991518200Z"
    }
   },
   "id": "62b0cf12ad55e5cf"
  },
  {
   "cell_type": "code",
   "execution_count": 4,
   "outputs": [
    {
     "name": "stderr",
     "output_type": "stream",
     "text": [
      "100%|██████████| 7852/7852 [03:50<00:00, 34.08it/s]\n"
     ]
    }
   ],
   "source": [
    "for _ in range(1):\n",
    "    random_augmentation(sp_images, p=0.2)"
   ],
   "metadata": {
    "collapsed": false,
    "ExecuteTime": {
     "end_time": "2023-11-28T21:01:06.450158300Z",
     "start_time": "2023-11-28T20:57:15.610457800Z"
    }
   },
   "id": "81592af744c42b1f"
  },
  {
   "cell_type": "code",
   "execution_count": null,
   "outputs": [],
   "source": [],
   "metadata": {
    "collapsed": false
   },
   "id": "d96577c6cb2a31fc"
  }
 ],
 "metadata": {
  "kernelspec": {
   "display_name": "Python 3 (ipykernel)",
   "language": "python",
   "name": "python3"
  },
  "language_info": {
   "codemirror_mode": {
    "name": "ipython",
    "version": 3
   },
   "file_extension": ".py",
   "mimetype": "text/x-python",
   "name": "python",
   "nbconvert_exporter": "python",
   "pygments_lexer": "ipython3",
   "version": "3.10.13"
  }
 },
 "nbformat": 4,
 "nbformat_minor": 5
}
