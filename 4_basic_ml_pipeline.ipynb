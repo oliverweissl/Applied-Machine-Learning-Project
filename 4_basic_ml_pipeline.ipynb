{
 "cells": [
  {
   "cell_type": "code",
   "execution_count": 7,
   "id": "initial_id",
   "metadata": {
    "ExecuteTime": {
     "end_time": "2023-11-29T12:36:43.287386200Z",
     "start_time": "2023-11-29T12:36:42.812395800Z"
    }
   },
   "outputs": [
    {
     "name": "stdout",
     "output_type": "stream",
     "text": [
      "The autoreload extension is already loaded. To reload it, use:\n",
      "  %reload_ext autoreload\n"
     ]
    }
   ],
   "source": [
    "import pandas as pd\n",
    "from models import base_res_net, small_res_net, efficient_net, pretrained_mobilenet, big_model, xception_net\n",
    "import tensorflow as tf\n",
    "import tensorflow.compat.v1 as tfc\n",
    "from sklearn.utils.class_weight import compute_class_weight\n",
    "\n",
    "import random\n",
    "from modeling import predict, predict_from_csv, prob_predict, stack_predictions\n",
    "from src import InputPipeline\n",
    "\n",
    "%load_ext autoreload\n",
    "%autoreload 2"
   ]
  },
  {
   "cell_type": "markdown",
   "id": "627a750892efbdf9",
   "metadata": {
    "collapsed": false,
    "jupyter": {
     "outputs_hidden": false
    }
   },
   "source": [
    "## Check GPU for tf"
   ]
  },
  {
   "cell_type": "code",
   "execution_count": 2,
   "id": "20f7764292bb4e8f",
   "metadata": {
    "ExecuteTime": {
     "end_time": "2023-11-29T12:36:45.676059200Z",
     "start_time": "2023-11-29T12:36:43.381060200Z"
    },
    "collapsed": false,
    "jupyter": {
     "outputs_hidden": false
    }
   },
   "outputs": [],
   "source": [
    "# Some GPU setup\n",
    "# for documentation about using gpus refer to: https://www.tensorflow.org/install/pip#windows-wsl2\n",
    "\n",
    "tf.keras.backend.clear_session()\n",
    "\n",
    "device_name = tf.test.gpu_device_name()\n",
    "if not device_name:\n",
    "  raise SystemError('GPU device not found')\n",
    "try:  # prevent a previous session from being alive\n",
    "  sess.close() \n",
    "except:\n",
    "  pass\n",
    "\n",
    "tfc.enable_eager_execution()\n",
    "gpu_options= tfc.GPUOptions(per_process_gpu_memory_fraction = 0.80)\n",
    "sess = tfc.InteractiveSession(config=tfc.ConfigProto(gpu_options=gpu_options))"
   ]
  },
  {
   "cell_type": "markdown",
   "id": "2bd6fa03166027bf",
   "metadata": {
    "collapsed": false,
    "jupyter": {
     "outputs_hidden": false
    }
   },
   "source": [
    "### Optional Stuff\n",
    "- Here we compute classweights since the data is very imbalanced"
   ]
  },
  {
   "cell_type": "code",
   "execution_count": 3,
   "id": "dbbeb2f7c31d69b5",
   "metadata": {
    "ExecuteTime": {
     "end_time": "2023-11-29T11:00:10.526091500Z",
     "start_time": "2023-11-29T11:00:10.133093200Z"
    },
    "collapsed": false,
    "jupyter": {
     "outputs_hidden": false
    }
   },
   "outputs": [],
   "source": [
    "train_df = pd.read_csv(\"./data/train_images_stratified.csv\")"
   ]
  },
  {
   "cell_type": "code",
   "execution_count": 4,
   "id": "77c9b74db259162b",
   "metadata": {
    "ExecuteTime": {
     "end_time": "2023-11-29T11:00:10.939616900Z",
     "start_time": "2023-11-29T11:00:10.530101700Z"
    },
    "collapsed": false,
    "jupyter": {
     "outputs_hidden": false
    }
   },
   "outputs": [],
   "source": [
    "class_weights = compute_class_weight(class_weight = 'balanced', classes = train_df[\"label\"].unique(), y=train_df[\"label\"])\n",
    "class_weights = dict(enumerate(class_weights))"
   ]
  },
  {
   "cell_type": "markdown",
   "id": "cabc5747ca16eb86",
   "metadata": {
    "collapsed": false,
    "jupyter": {
     "outputs_hidden": false
    }
   },
   "source": [
    "## Configure Parameters"
   ]
  },
  {
   "cell_type": "code",
   "execution_count": 14,
   "id": "b925aeaf5dd5bc8a",
   "metadata": {
    "ExecuteTime": {
     "end_time": "2023-11-29T11:00:11.288608100Z",
     "start_time": "2023-11-29T11:00:10.943615500Z"
    },
    "collapsed": false,
    "jupyter": {
     "outputs_hidden": false
    }
   },
   "outputs": [],
   "source": [
    "#INPUT_SHAPE = (220,220,3)\n",
    "INPUT_SHAPE = (220,220,3)\n",
    "\n",
    "CONF = {\n",
    "  \"learning_rate\": 0.0001,\n",
    "  \"batch_size\": 48,\n",
    "  \"epochs\": 20,\n",
    "  \"loss_function\": \"sparse_categorical_crossentropy\",\n",
    "  \"metric\": \"sparse_categorical_accuracy\",\n",
    "}"
   ]
  },
  {
   "cell_type": "markdown",
   "id": "a9d757ac727bb83d",
   "metadata": {
    "collapsed": false,
    "jupyter": {
     "outputs_hidden": false
    }
   },
   "source": [
    "## Make Input Pipelines"
   ]
  },
  {
   "cell_type": "code",
   "execution_count": 6,
   "id": "7b661b3ee9ebcaac",
   "metadata": {
    "ExecuteTime": {
     "end_time": "2023-11-29T11:00:13.551720300Z",
     "start_time": "2023-11-29T11:00:11.293613500Z"
    },
    "collapsed": false,
    "jupyter": {
     "outputs_hidden": false
    }
   },
   "outputs": [
    {
     "name": "stdout",
     "output_type": "stream",
     "text": [
      "Datasets populated!\n",
      "Found 43186 files belonging to 70 classes.\n",
      "Using 36709 files for training.\n",
      "Using 6477 files for validation.\n",
      "Datasets populated!\n"
     ]
    }
   ],
   "source": [
    "# Input pipeline for subspecies\n",
    "sub_species_input_pipeline = InputPipeline(splits=(0.85,0.0,0.15), channels=3, batch_size=CONF[\"batch_size\"], size=INPUT_SHAPE[:2])\n",
    "# This has a stratified split\n",
    "sub_species_input_pipeline.make_stratified_train_dataset(\n",
    "  train_ds_path= \"./data/train_ds_images_stratified.csv\",\n",
    "  val_ds_path=\"./data/val_ds_images_stratified.csv\",\n",
    ")\n",
    "\n",
    "\n",
    "# Input pipeline for species\n",
    "species_input_pipeline = InputPipeline(splits=(0.85,0.0,0.15), channels=3, batch_size=CONF[\"batch_size\"], size=INPUT_SHAPE[:2])\n",
    "species_input_pipeline.make_train_datasets(directory=\"./data/train_images/species_classify\")  # This doesnt have a stratified split\n"
   ]
  },
  {
   "cell_type": "markdown",
   "id": "ac46ea2dd7c43927",
   "metadata": {
    "collapsed": false,
    "jupyter": {
     "outputs_hidden": false
    }
   },
   "source": [
    "## Training a Model"
   ]
  },
  {
   "cell_type": "code",
   "execution_count": 9,
   "id": "cb7d66f05ef541bf",
   "metadata": {
    "ExecuteTime": {
     "end_time": "2023-11-29T11:00:14.093812900Z",
     "start_time": "2023-11-29T11:00:13.555713900Z"
    },
    "collapsed": false,
    "jupyter": {
     "outputs_hidden": false
    }
   },
   "outputs": [],
   "source": [
    "from modeling import train_classifier"
   ]
  },
  {
   "cell_type": "code",
   "execution_count": 16,
   "id": "f0e22ecd1236e0be",
   "metadata": {
    "ExecuteTime": {
     "end_time": "2023-11-29T12:26:33.113758600Z",
     "start_time": "2023-11-29T11:00:14.096829100Z"
    },
    "collapsed": false,
    "jupyter": {
     "outputs_hidden": false
    }
   },
   "outputs": [
    {
     "name": "stdout",
     "output_type": "stream",
     "text": [
      "Folder './classifiers/' already exists.\n",
      "Folder './classifiers/trainHistoryDict' already exists.\n",
      "Epoch 1/20\n",
      "343/343 [==============================] - 65s 169ms/step - loss: 7.1251 - sparse_categorical_accuracy: 0.2238 - val_loss: 4.0465 - val_sparse_categorical_accuracy: 0.5157\n",
      "Epoch 2/20\n",
      "343/343 [==============================] - 55s 161ms/step - loss: 3.9686 - sparse_categorical_accuracy: 0.4171 - val_loss: 3.3431 - val_sparse_categorical_accuracy: 0.5721\n",
      "Epoch 3/20\n",
      "343/343 [==============================] - 58s 166ms/step - loss: 3.6176 - sparse_categorical_accuracy: 0.4573 - val_loss: 3.1837 - val_sparse_categorical_accuracy: 0.5890\n",
      "Epoch 4/20\n",
      "343/343 [==============================] - 58s 166ms/step - loss: 3.4666 - sparse_categorical_accuracy: 0.4789 - val_loss: 3.0832 - val_sparse_categorical_accuracy: 0.5997\n",
      "Epoch 5/20\n",
      "343/343 [==============================] - 55s 161ms/step - loss: 3.3849 - sparse_categorical_accuracy: 0.4903 - val_loss: 3.0743 - val_sparse_categorical_accuracy: 0.6024\n",
      "Epoch 6/20\n",
      "343/343 [==============================] - 58s 168ms/step - loss: 3.3163 - sparse_categorical_accuracy: 0.5001 - val_loss: 2.9261 - val_sparse_categorical_accuracy: 0.6272\n",
      "Epoch 7/20\n",
      "343/343 [==============================] - 55s 161ms/step - loss: 3.2611 - sparse_categorical_accuracy: 0.5112 - val_loss: 2.9267 - val_sparse_categorical_accuracy: 0.6217\n",
      "Epoch 8/20\n",
      "343/343 [==============================] - 59s 167ms/step - loss: 3.1955 - sparse_categorical_accuracy: 0.5224 - val_loss: 2.8729 - val_sparse_categorical_accuracy: 0.6227\n",
      "Epoch 9/20\n",
      "343/343 [==============================] - 55s 161ms/step - loss: 3.1645 - sparse_categorical_accuracy: 0.5278 - val_loss: 2.8286 - val_sparse_categorical_accuracy: 0.6310\n",
      "Epoch 10/20\n",
      "343/343 [==============================] - 59s 167ms/step - loss: 3.1257 - sparse_categorical_accuracy: 0.5382 - val_loss: 2.8417 - val_sparse_categorical_accuracy: 0.6151\n",
      "Epoch 11/20\n",
      "343/343 [==============================] - 59s 169ms/step - loss: 3.1155 - sparse_categorical_accuracy: 0.5324 - val_loss: 2.7610 - val_sparse_categorical_accuracy: 0.6427\n",
      "Epoch 12/20\n",
      "343/343 [==============================] - 59s 167ms/step - loss: 3.0624 - sparse_categorical_accuracy: 0.5466 - val_loss: 2.7663 - val_sparse_categorical_accuracy: 0.6365\n",
      "Epoch 13/20\n",
      "343/343 [==============================] - 55s 157ms/step - loss: 3.0416 - sparse_categorical_accuracy: 0.5426 - val_loss: 2.7272 - val_sparse_categorical_accuracy: 0.6485\n",
      "Epoch 14/20\n",
      "343/343 [==============================] - 58s 169ms/step - loss: 2.9978 - sparse_categorical_accuracy: 0.5487 - val_loss: 2.6863 - val_sparse_categorical_accuracy: 0.6527\n",
      "Epoch 15/20\n",
      "343/343 [==============================] - 59s 167ms/step - loss: 2.9754 - sparse_categorical_accuracy: 0.5563 - val_loss: 2.6687 - val_sparse_categorical_accuracy: 0.6554\n",
      "Epoch 16/20\n",
      "343/343 [==============================] - 58s 166ms/step - loss: 2.9225 - sparse_categorical_accuracy: 0.5672 - val_loss: 2.6442 - val_sparse_categorical_accuracy: 0.6551\n",
      "Epoch 17/20\n",
      "343/343 [==============================] - 58s 169ms/step - loss: 2.9088 - sparse_categorical_accuracy: 0.5651 - val_loss: 2.6210 - val_sparse_categorical_accuracy: 0.6657\n",
      "Epoch 18/20\n",
      "343/343 [==============================] - 59s 167ms/step - loss: 2.8756 - sparse_categorical_accuracy: 0.5694 - val_loss: 2.5800 - val_sparse_categorical_accuracy: 0.6633\n",
      "Epoch 19/20\n",
      "343/343 [==============================] - 59s 167ms/step - loss: 2.8675 - sparse_categorical_accuracy: 0.5683 - val_loss: 2.5920 - val_sparse_categorical_accuracy: 0.6685\n",
      "Epoch 20/20\n",
      "343/343 [==============================] - 55s 161ms/step - loss: 2.8285 - sparse_categorical_accuracy: 0.5749 - val_loss: 2.5314 - val_sparse_categorical_accuracy: 0.6695\n"
     ]
    },
    {
     "name": "stderr",
     "output_type": "stream",
     "text": [
      "WARNING:absl:Found untraced functions such as _jit_compiled_convolution_op, _jit_compiled_convolution_op, _jit_compiled_convolution_op, _jit_compiled_convolution_op, _jit_compiled_convolution_op while saving (showing 5 of 91). These functions will not be directly callable after loading.\n"
     ]
    },
    {
     "name": "stdout",
     "output_type": "stream",
     "text": [
      "INFO:tensorflow:Assets written to: ./classifiers/eff_net_hyptunning_25e\\assets\n"
     ]
    },
    {
     "name": "stderr",
     "output_type": "stream",
     "text": [
      "INFO:tensorflow:Assets written to: ./classifiers/eff_net_hyptunning_25e\\assets\n"
     ]
    },
    {
     "name": "stdout",
     "output_type": "stream",
     "text": [
      "Model saved successfully under: ./classifiers/eff_net_hyptunning_25e\n"
     ]
    }
   ],
   "source": [
    "# making the species classifier\n",
    "train_classifier(\n",
    "  model_name=\"./classifiers/eff_net_hyptunning_25e\",\n",
    "  input_shape=INPUT_SHAPE,  \n",
    "  classes_to_classify=200,\n",
    "  configuration=CONF,\n",
    "  model=efficient_net, \n",
    "  train_dataset=sub_species_input_pipeline.train_dataset,\n",
    "  validation_dataset=sub_species_input_pipeline.validation_dataset,\n",
    ")"
   ]
  },
  {
   "cell_type": "code",
   "execution_count": 8,
   "id": "5941ba5f98ad9cfc",
   "metadata": {
    "collapsed": false,
    "jupyter": {
     "outputs_hidden": false
    }
   },
   "outputs": [
    {
     "name": "stdout",
     "output_type": "stream",
     "text": [
      "Folder './classifiers/' already exists.\n",
      "Folder './classifiers/trainHistoryDict' already exists.\n",
      "Epoch 1/25\n",
      "765/765 [==============================] - 282s 357ms/step - loss: 9.0706 - sparse_categorical_accuracy: 0.2969 - val_loss: 6.7043 - val_sparse_categorical_accuracy: 0.5158\n",
      "Epoch 2/25\n",
      "765/765 [==============================] - 247s 323ms/step - loss: 5.8266 - sparse_categorical_accuracy: 0.4800 - val_loss: 4.5862 - val_sparse_categorical_accuracy: 0.6009\n",
      "Epoch 3/25\n",
      "765/765 [==============================] - 251s 328ms/step - loss: 4.1511 - sparse_categorical_accuracy: 0.5549 - val_loss: 3.3820 - val_sparse_categorical_accuracy: 0.6461\n",
      "Epoch 4/25\n",
      "765/765 [==============================] - 241s 314ms/step - loss: 3.2008 - sparse_categorical_accuracy: 0.5976 - val_loss: 2.6985 - val_sparse_categorical_accuracy: 0.6789\n",
      "Epoch 5/25\n",
      "765/765 [==============================] - 229s 299ms/step - loss: 2.6536 - sparse_categorical_accuracy: 0.6262 - val_loss: 2.3100 - val_sparse_categorical_accuracy: 0.6901\n",
      "Epoch 6/25\n",
      "765/765 [==============================] - 254s 332ms/step - loss: 2.3422 - sparse_categorical_accuracy: 0.6476 - val_loss: 2.0770 - val_sparse_categorical_accuracy: 0.7062\n",
      "Epoch 7/25\n",
      "765/765 [==============================] - 257s 336ms/step - loss: 2.1514 - sparse_categorical_accuracy: 0.6616 - val_loss: 1.9335 - val_sparse_categorical_accuracy: 0.7190\n",
      "Epoch 8/25\n",
      "765/765 [==============================] - 254s 331ms/step - loss: 2.0282 - sparse_categorical_accuracy: 0.6710 - val_loss: 1.8366 - val_sparse_categorical_accuracy: 0.7253\n",
      "Epoch 9/25\n",
      "765/765 [==============================] - 241s 314ms/step - loss: 1.9409 - sparse_categorical_accuracy: 0.6809 - val_loss: 1.7643 - val_sparse_categorical_accuracy: 0.7338\n",
      "Epoch 10/25\n",
      "765/765 [==============================] - 269s 351ms/step - loss: 1.8721 - sparse_categorical_accuracy: 0.6900 - val_loss: 1.7089 - val_sparse_categorical_accuracy: 0.7366\n",
      "Epoch 11/25\n",
      "765/765 [==============================] - 251s 328ms/step - loss: 1.8119 - sparse_categorical_accuracy: 0.7010 - val_loss: 1.6657 - val_sparse_categorical_accuracy: 0.7417\n",
      "Epoch 12/25\n",
      "765/765 [==============================] - 251s 328ms/step - loss: 1.7687 - sparse_categorical_accuracy: 0.7088 - val_loss: 1.6248 - val_sparse_categorical_accuracy: 0.7497\n",
      "Epoch 13/25\n",
      "765/765 [==============================] - 261s 341ms/step - loss: 1.7312 - sparse_categorical_accuracy: 0.7111 - val_loss: 1.5931 - val_sparse_categorical_accuracy: 0.7537\n",
      "Epoch 14/25\n",
      "765/765 [==============================] - 258s 337ms/step - loss: 1.6959 - sparse_categorical_accuracy: 0.7192 - val_loss: 1.5644 - val_sparse_categorical_accuracy: 0.7574\n",
      "Epoch 15/25\n",
      "765/765 [==============================] - 237s 309ms/step - loss: 1.6707 - sparse_categorical_accuracy: 0.7249 - val_loss: 1.5412 - val_sparse_categorical_accuracy: 0.7615\n",
      "Epoch 16/25\n",
      "765/765 [==============================] - 245s 320ms/step - loss: 1.6447 - sparse_categorical_accuracy: 0.7246 - val_loss: 1.5148 - val_sparse_categorical_accuracy: 0.7638\n",
      "Epoch 17/25\n",
      "765/765 [==============================] - 251s 328ms/step - loss: 1.6146 - sparse_categorical_accuracy: 0.7305 - val_loss: 1.4937 - val_sparse_categorical_accuracy: 0.7676\n",
      "Epoch 18/25\n",
      "765/765 [==============================] - 249s 324ms/step - loss: 1.5913 - sparse_categorical_accuracy: 0.7350 - val_loss: 1.4707 - val_sparse_categorical_accuracy: 0.7679\n",
      "Epoch 19/25\n",
      "765/765 [==============================] - 265s 346ms/step - loss: 1.5717 - sparse_categorical_accuracy: 0.7394 - val_loss: 1.4509 - val_sparse_categorical_accuracy: 0.7713\n",
      "Epoch 20/25\n",
      "765/765 [==============================] - 243s 318ms/step - loss: 1.5539 - sparse_categorical_accuracy: 0.7398 - val_loss: 1.4358 - val_sparse_categorical_accuracy: 0.7746\n",
      "Epoch 21/25\n",
      "765/765 [==============================] - 244s 319ms/step - loss: 1.5378 - sparse_categorical_accuracy: 0.7427 - val_loss: 1.4242 - val_sparse_categorical_accuracy: 0.7764\n",
      "Epoch 22/25\n",
      "765/765 [==============================] - 243s 318ms/step - loss: 1.5189 - sparse_categorical_accuracy: 0.7442 - val_loss: 1.4053 - val_sparse_categorical_accuracy: 0.7798\n",
      "Epoch 23/25\n",
      "765/765 [==============================] - 274s 358ms/step - loss: 1.4967 - sparse_categorical_accuracy: 0.7503 - val_loss: 1.3924 - val_sparse_categorical_accuracy: 0.7767\n",
      "Epoch 24/25\n",
      "765/765 [==============================] - 264s 344ms/step - loss: 1.4812 - sparse_categorical_accuracy: 0.7550 - val_loss: 1.3799 - val_sparse_categorical_accuracy: 0.7822\n",
      "Epoch 25/25\n",
      "765/765 [==============================] - 262s 343ms/step - loss: 1.4704 - sparse_categorical_accuracy: 0.7543 - val_loss: 1.3666 - val_sparse_categorical_accuracy: 0.7828\n"
     ]
    },
    {
     "name": "stderr",
     "output_type": "stream",
     "text": [
      "WARNING:absl:Found untraced functions such as _jit_compiled_convolution_op, _jit_compiled_convolution_op, _jit_compiled_convolution_op, _jit_compiled_convolution_op, _jit_compiled_convolution_op while saving (showing 5 of 91). These functions will not be directly callable after loading.\n"
     ]
    },
    {
     "name": "stdout",
     "output_type": "stream",
     "text": [
      "INFO:tensorflow:Assets written to: ./classifiers/species_efficient_net_classifier_50e\\assets\n"
     ]
    },
    {
     "name": "stderr",
     "output_type": "stream",
     "text": [
      "INFO:tensorflow:Assets written to: ./classifiers/species_efficient_net_classifier_50e\\assets\n"
     ]
    },
    {
     "name": "stdout",
     "output_type": "stream",
     "text": [
      "Model saved successfully under: ./classifiers/species_efficient_net_classifier_50e\n"
     ]
    }
   ],
   "source": [
    "# making the species classifier\n",
    "train_classifier(\n",
    "  model_name=\"./classifiers/species_efficient_net_classifier_50e\",\n",
    "  input_shape=INPUT_SHAPE,\n",
    "  classes_to_classify=70,\n",
    "  configuration=CONF,\n",
    "  model=efficient_net, \n",
    "  train_dataset=species_input_pipeline.train_dataset,\n",
    "  validation_dataset=species_input_pipeline.validation_dataset,\n",
    ")"
   ]
  },
  {
   "cell_type": "markdown",
   "id": "3b093b2d-7af9-4dca-87f9-a69b5a5554fc",
   "metadata": {},
   "source": [
    "## NN results"
   ]
  },
  {
   "cell_type": "code",
   "execution_count": 93,
   "id": "cf919a1c-9164-44ac-ad77-685e484281a4",
   "metadata": {},
   "outputs": [],
   "source": [
    "import pickle \n",
    "import matplotlib.pyplot as plt\n",
    "import pandas as pd\n",
    "\n",
    "with open(\"./classifiers/trainHistoryDict/subspecies_effnet_250_classifier_100e.pkl\", 'rb') as file:\n",
    "    history = pickle.load(file)\n",
    "\n",
    "history_df = pd.DataFrame(history)"
   ]
  },
  {
   "cell_type": "code",
   "execution_count": 9,
   "id": "60bbf8ac-ff11-4c6a-89ee-97f0f6135de5",
   "metadata": {},
   "outputs": [
    {
     "data": {
      "text/html": [
       "<div>\n",
       "<style scoped>\n",
       "    .dataframe tbody tr th:only-of-type {\n",
       "        vertical-align: middle;\n",
       "    }\n",
       "\n",
       "    .dataframe tbody tr th {\n",
       "        vertical-align: top;\n",
       "    }\n",
       "\n",
       "    .dataframe thead th {\n",
       "        text-align: right;\n",
       "    }\n",
       "</style>\n",
       "<table border=\"1\" class=\"dataframe\">\n",
       "  <thead>\n",
       "    <tr style=\"text-align: right;\">\n",
       "      <th></th>\n",
       "      <th>loss</th>\n",
       "      <th>sparse_categorical_accuracy</th>\n",
       "      <th>val_loss</th>\n",
       "      <th>val_sparse_categorical_accuracy</th>\n",
       "    </tr>\n",
       "  </thead>\n",
       "  <tbody>\n",
       "    <tr>\n",
       "      <th>0</th>\n",
       "      <td>9.070608</td>\n",
       "      <td>0.296875</td>\n",
       "      <td>6.704267</td>\n",
       "      <td>0.515825</td>\n",
       "    </tr>\n",
       "    <tr>\n",
       "      <th>1</th>\n",
       "      <td>5.826646</td>\n",
       "      <td>0.479964</td>\n",
       "      <td>4.586219</td>\n",
       "      <td>0.600895</td>\n",
       "    </tr>\n",
       "    <tr>\n",
       "      <th>2</th>\n",
       "      <td>4.151052</td>\n",
       "      <td>0.554932</td>\n",
       "      <td>3.381986</td>\n",
       "      <td>0.646132</td>\n",
       "    </tr>\n",
       "    <tr>\n",
       "      <th>3</th>\n",
       "      <td>3.200785</td>\n",
       "      <td>0.597592</td>\n",
       "      <td>2.698540</td>\n",
       "      <td>0.678864</td>\n",
       "    </tr>\n",
       "    <tr>\n",
       "      <th>4</th>\n",
       "      <td>2.653592</td>\n",
       "      <td>0.626195</td>\n",
       "      <td>2.310050</td>\n",
       "      <td>0.690134</td>\n",
       "    </tr>\n",
       "  </tbody>\n",
       "</table>\n",
       "</div>"
      ],
      "text/plain": [
       "       loss  sparse_categorical_accuracy  val_loss  \\\n",
       "0  9.070608                     0.296875  6.704267   \n",
       "1  5.826646                     0.479964  4.586219   \n",
       "2  4.151052                     0.554932  3.381986   \n",
       "3  3.200785                     0.597592  2.698540   \n",
       "4  2.653592                     0.626195  2.310050   \n",
       "\n",
       "   val_sparse_categorical_accuracy  \n",
       "0                         0.515825  \n",
       "1                         0.600895  \n",
       "2                         0.646132  \n",
       "3                         0.678864  \n",
       "4                         0.690134  "
      ]
     },
     "execution_count": 9,
     "metadata": {},
     "output_type": "execute_result"
    }
   ],
   "source": [
    "history_df.head()"
   ]
  },
  {
   "cell_type": "code",
   "execution_count": 94,
   "id": "aeb963ee-c548-4ce9-a46f-920951995e4c",
   "metadata": {},
   "outputs": [
    {
     "data": {
      "image/png": "[encoded data removed]",
      "text/plain": [
       "<Figure size 1600x500 with 2 Axes>"
      ]
     },
     "metadata": {},
     "output_type": "display_data"
    }
   ],
   "source": [
    "fig, [ax1, ax2] = plt.subplots(1,2, figsize=(16,5))\n",
    "\n",
    "# Plot for ax1\n",
    "ax1.plot(history_df[\"loss\"], label='Training Loss')\n",
    "ax1.plot(history_df[\"val_loss\"], label='Validation Loss')\n",
    "ax1.set_xlabel('Epochs')\n",
    "ax1.set_ylabel('Loss')\n",
    "ax1.legend()\n",
    "\n",
    "# Plot for ax2\n",
    "ax2.plot(history_df[\"sparse_categorical_accuracy\"], label='Training Accuracy')\n",
    "ax2.plot(history_df[\"val_sparse_categorical_accuracy\"], label='Validation Accuracy')\n",
    "ax2.set_xlabel('Epochs')\n",
    "ax2.set_ylabel('Accuracy')\n",
    "ax2.legend()\n",
    "\n",
    "plt.show()"
   ]
  },
  {
   "cell_type": "markdown",
   "id": "38f09d3db498d1bd",
   "metadata": {
    "collapsed": false,
    "jupyter": {
     "outputs_hidden": false
    }
   },
   "source": [
    "## Predict Stuff"
   ]
  },
  {
   "cell_type": "code",
   "execution_count": 40,
   "id": "e4b5ad1381a9eb19",
   "metadata": {
    "ExecuteTime": {
     "end_time": "2023-11-29T12:34:45.158551800Z",
     "start_time": "2023-11-29T12:26:48.660754Z"
    },
    "collapsed": false,
    "jupyter": {
     "outputs_hidden": false
    }
   },
   "outputs": [
    {
     "name": "stderr",
     "output_type": "stream",
     "text": [
      "predicting: 100%|██████████| 4000/4000 [05:08<00:00, 12.95it/s]"
     ]
    },
    {
     "name": "stdout",
     "output_type": "stream",
     "text": [
      "Saving to: ./data/test_images_sample_1701862387.688046.csv\n"
     ]
    },
    {
     "name": "stderr",
     "output_type": "stream",
     "text": [
      "\n"
     ]
    }
   ],
   "source": [
    "# No label adjustments needed afterwards!!!!!!\n",
    "predict_from_csv(\n",
    "  subspecies_classifier=\"./classifiers/subspecies_effnet_250_classifier_100e\",\n",
    "  dataset=\"./data/test_images_path.csv\",\n",
    "  path=\"./data/test_images\",\n",
    "  size=INPUT_SHAPE,\n",
    ")"
   ]
  },
  {
   "cell_type": "code",
   "execution_count": 18,
   "id": "e01a04c12a24a655",
   "metadata": {
    "collapsed": false,
    "jupyter": {
     "outputs_hidden": false
    }
   },
   "outputs": [
    {
     "data": {
      "text/plain": [
       "'subspecies_effnet_250_classifier_100e'"
      ]
     },
     "execution_count": 18,
     "metadata": {},
     "output_type": "execute_result"
    }
   ],
   "source": [
    "check = \"./classifiers/subspecies_effnet_250_classifier_100e\"\n",
    "\n",
    "check.split(\"/\")[-1]"
   ]
  },
  {
   "cell_type": "markdown",
   "id": "d390dcb7-6b6b-4872-88a4-64630a0e689e",
   "metadata": {},
   "source": [
    "## Stacking"
   ]
  },
  {
   "cell_type": "code",
   "execution_count": 8,
   "id": "5325d1b5-2c3f-404d-bbc5-5cc1b35befc4",
   "metadata": {},
   "outputs": [
    {
     "name": "stderr",
     "output_type": "stream",
     "text": [
      "predicting: 100%|██████████| 4000/4000 [07:29<00:00,  8.90it/s]\n"
     ]
    }
   ],
   "source": [
    "species_preds = prob_predict(classifier=\"./classifiers/species_efficient_net_classifier_50e\",\n",
    "            dataset=\"./data/test_images_path.csv\",\n",
    "            path=\"./data/test_images\",\n",
    "            size=INPUT_SHAPE,\n",
    "            )"
   ]
  },
  {
   "cell_type": "code",
   "execution_count": 10,
   "id": "de50649b-a972-4ab8-ae35-2b67a870d3af",
   "metadata": {},
   "outputs": [
    {
     "name": "stderr",
     "output_type": "stream",
     "text": [
      "predicting: 100%|██████████| 4000/4000 [07:56<00:00,  8.39it/s]\n"
     ]
    }
   ],
   "source": [
    "subspecies_preds = prob_predict(classifier=\"./classifiers/subspecies_effnet_250_classifier_100e\",\n",
    "            dataset=\"./data/test_images_path.csv\",\n",
    "            path=\"./data/test_images\",\n",
    "            size=INPUT_SHAPE,\n",
    "            )"
   ]
  },
  {
   "cell_type": "code",
   "execution_count": 82,
   "id": "8cc58f34-8999-470f-b5ac-a9fe1268a8c8",
   "metadata": {},
   "outputs": [
    {
     "data": {
      "text/html": [
       "<div>\n",
       "<style scoped>\n",
       "    .dataframe tbody tr th:only-of-type {\n",
       "        vertical-align: middle;\n",
       "    }\n",
       "\n",
       "    .dataframe tbody tr th {\n",
       "        vertical-align: top;\n",
       "    }\n",
       "\n",
       "    .dataframe thead th {\n",
       "        text-align: right;\n",
       "    }\n",
       "</style>\n",
       "<table border=\"1\" class=\"dataframe\">\n",
       "  <thead>\n",
       "    <tr style=\"text-align: right;\">\n",
       "      <th></th>\n",
       "      <th>image_path</th>\n",
       "      <th>label</th>\n",
       "      <th>proba</th>\n",
       "      <th>max_prob</th>\n",
       "      <th>class_pred</th>\n",
       "      <th>expanded_prob</th>\n",
       "    </tr>\n",
       "    <tr>\n",
       "      <th>id</th>\n",
       "      <th></th>\n",
       "      <th></th>\n",
       "      <th></th>\n",
       "      <th></th>\n",
       "      <th></th>\n",
       "      <th></th>\n",
       "    </tr>\n",
       "  </thead>\n",
       "  <tbody>\n",
       "    <tr>\n",
       "      <th>1</th>\n",
       "      <td>/test_images/999.jpg</td>\n",
       "      <td>1</td>\n",
       "      <td>[[1.0757253e-05, 3.8058768e-06, 2.08436e-05, 0...</td>\n",
       "      <td>0.947471</td>\n",
       "      <td>28</td>\n",
       "      <td>[2.434482485114131e-05, 2.434482485114131e-05,...</td>\n",
       "    </tr>\n",
       "    <tr>\n",
       "      <th>2</th>\n",
       "      <td>/test_images/998.jpg</td>\n",
       "      <td>1</td>\n",
       "      <td>[[0.00041660087, 0.00032023917, 0.00018287338,...</td>\n",
       "      <td>0.784894</td>\n",
       "      <td>17</td>\n",
       "      <td>[0.00015740108210593462, 0.0001574010821059346...</td>\n",
       "    </tr>\n",
       "    <tr>\n",
       "      <th>3</th>\n",
       "      <td>/test_images/997.jpg</td>\n",
       "      <td>1</td>\n",
       "      <td>[[0.00040051193, 0.0012222049, 6.451746e-05, 0...</td>\n",
       "      <td>0.838085</td>\n",
       "      <td>30</td>\n",
       "      <td>[0.00016391674580518156, 0.0001639167458051815...</td>\n",
       "    </tr>\n",
       "    <tr>\n",
       "      <th>4</th>\n",
       "      <td>/test_images/996.jpg</td>\n",
       "      <td>1</td>\n",
       "      <td>[[5.278277e-06, 7.1089194e-06, 7.226245e-05, 0...</td>\n",
       "      <td>0.993572</td>\n",
       "      <td>4</td>\n",
       "      <td>[1.1981306670350023e-05, 1.1981306670350023e-0...</td>\n",
       "    </tr>\n",
       "    <tr>\n",
       "      <th>5</th>\n",
       "      <td>/test_images/995.jpg</td>\n",
       "      <td>1</td>\n",
       "      <td>[[7.909764e-05, 7.405577e-05, 2.307529e-06, 0....</td>\n",
       "      <td>0.985312</td>\n",
       "      <td>30</td>\n",
       "      <td>[8.784902456682175e-05, 8.784902456682175e-05,...</td>\n",
       "    </tr>\n",
       "  </tbody>\n",
       "</table>\n",
       "</div>"
      ],
      "text/plain": [
       "              image_path  label  \\\n",
       "id                                \n",
       "1   /test_images/999.jpg      1   \n",
       "2   /test_images/998.jpg      1   \n",
       "3   /test_images/997.jpg      1   \n",
       "4   /test_images/996.jpg      1   \n",
       "5   /test_images/995.jpg      1   \n",
       "\n",
       "                                                proba  max_prob  class_pred  \\\n",
       "id                                                                            \n",
       "1   [[1.0757253e-05, 3.8058768e-06, 2.08436e-05, 0...  0.947471          28   \n",
       "2   [[0.00041660087, 0.00032023917, 0.00018287338,...  0.784894          17   \n",
       "3   [[0.00040051193, 0.0012222049, 6.451746e-05, 0...  0.838085          30   \n",
       "4   [[5.278277e-06, 7.1089194e-06, 7.226245e-05, 0...  0.993572           4   \n",
       "5   [[7.909764e-05, 7.405577e-05, 2.307529e-06, 0....  0.985312          30   \n",
       "\n",
       "                                        expanded_prob  \n",
       "id                                                     \n",
       "1   [2.434482485114131e-05, 2.434482485114131e-05,...  \n",
       "2   [0.00015740108210593462, 0.0001574010821059346...  \n",
       "3   [0.00016391674580518156, 0.0001639167458051815...  \n",
       "4   [1.1981306670350023e-05, 1.1981306670350023e-0...  \n",
       "5   [8.784902456682175e-05, 8.784902456682175e-05,...  "
      ]
     },
     "execution_count": 82,
     "metadata": {},
     "output_type": "execute_result"
    }
   ],
   "source": [
    "species_preds.head()"
   ]
  },
  {
   "cell_type": "code",
   "execution_count": 56,
   "id": "b80a2859-0736-4c33-9cd8-62a25da17058",
   "metadata": {},
   "outputs": [
    {
     "data": {
      "text/html": [
       "<div>\n",
       "<style scoped>\n",
       "    .dataframe tbody tr th:only-of-type {\n",
       "        vertical-align: middle;\n",
       "    }\n",
       "\n",
       "    .dataframe tbody tr th {\n",
       "        vertical-align: top;\n",
       "    }\n",
       "\n",
       "    .dataframe thead th {\n",
       "        text-align: right;\n",
       "    }\n",
       "</style>\n",
       "<table border=\"1\" class=\"dataframe\">\n",
       "  <thead>\n",
       "    <tr style=\"text-align: right;\">\n",
       "      <th></th>\n",
       "      <th>image_path</th>\n",
       "      <th>label</th>\n",
       "      <th>proba</th>\n",
       "      <th>max_prob</th>\n",
       "      <th>class_pred</th>\n",
       "      <th>combined_class_pred</th>\n",
       "    </tr>\n",
       "    <tr>\n",
       "      <th>id</th>\n",
       "      <th></th>\n",
       "      <th></th>\n",
       "      <th></th>\n",
       "      <th></th>\n",
       "      <th></th>\n",
       "      <th></th>\n",
       "    </tr>\n",
       "  </thead>\n",
       "  <tbody>\n",
       "    <tr>\n",
       "      <th>1</th>\n",
       "      <td>/test_images/999.jpg</td>\n",
       "      <td>1</td>\n",
       "      <td>[[8.116693e-07, 2.9847076e-06, 2.7479325e-06, ...</td>\n",
       "      <td>0.660688</td>\n",
       "      <td>67</td>\n",
       "      <td>67</td>\n",
       "    </tr>\n",
       "    <tr>\n",
       "      <th>2</th>\n",
       "      <td>/test_images/998.jpg</td>\n",
       "      <td>1</td>\n",
       "      <td>[[1.0035847e-05, 4.539881e-06, 1.8316654e-05, ...</td>\n",
       "      <td>0.155374</td>\n",
       "      <td>40</td>\n",
       "      <td>40</td>\n",
       "    </tr>\n",
       "    <tr>\n",
       "      <th>3</th>\n",
       "      <td>/test_images/997.jpg</td>\n",
       "      <td>1</td>\n",
       "      <td>[[1.0666555e-05, 5.947721e-07, 0.00010206009, ...</td>\n",
       "      <td>0.870824</td>\n",
       "      <td>74</td>\n",
       "      <td>74</td>\n",
       "    </tr>\n",
       "    <tr>\n",
       "      <th>4</th>\n",
       "      <td>/test_images/996.jpg</td>\n",
       "      <td>1</td>\n",
       "      <td>[[9.02112e-08, 6.683589e-08, 9.654332e-09, 5.7...</td>\n",
       "      <td>0.999869</td>\n",
       "      <td>12</td>\n",
       "      <td>12</td>\n",
       "    </tr>\n",
       "    <tr>\n",
       "      <th>5</th>\n",
       "      <td>/test_images/995.jpg</td>\n",
       "      <td>1</td>\n",
       "      <td>[[4.291657e-06, 7.37072e-07, 3.156306e-05, 4.2...</td>\n",
       "      <td>0.950021</td>\n",
       "      <td>74</td>\n",
       "      <td>74</td>\n",
       "    </tr>\n",
       "  </tbody>\n",
       "</table>\n",
       "</div>"
      ],
      "text/plain": [
       "              image_path  label  \\\n",
       "id                                \n",
       "1   /test_images/999.jpg      1   \n",
       "2   /test_images/998.jpg      1   \n",
       "3   /test_images/997.jpg      1   \n",
       "4   /test_images/996.jpg      1   \n",
       "5   /test_images/995.jpg      1   \n",
       "\n",
       "                                                proba  max_prob  class_pred  \\\n",
       "id                                                                            \n",
       "1   [[8.116693e-07, 2.9847076e-06, 2.7479325e-06, ...  0.660688          67   \n",
       "2   [[1.0035847e-05, 4.539881e-06, 1.8316654e-05, ...  0.155374          40   \n",
       "3   [[1.0666555e-05, 5.947721e-07, 0.00010206009, ...  0.870824          74   \n",
       "4   [[9.02112e-08, 6.683589e-08, 9.654332e-09, 5.7...  0.999869          12   \n",
       "5   [[4.291657e-06, 7.37072e-07, 3.156306e-05, 4.2...  0.950021          74   \n",
       "\n",
       "    combined_class_pred  \n",
       "id                       \n",
       "1                    67  \n",
       "2                    40  \n",
       "3                    74  \n",
       "4                    12  \n",
       "5                    74  "
      ]
     },
     "execution_count": 56,
     "metadata": {},
     "output_type": "execute_result"
    }
   ],
   "source": [
    "subspecies_preds.head()"
   ]
  },
  {
   "cell_type": "code",
   "execution_count": 125,
   "id": "f3ba44a5-dc05-4c25-bf17-9f526dd7b6ec",
   "metadata": {},
   "outputs": [],
   "source": [
    "result = stack_predictions(species_df = species_preds, subspecies_df = subspecies_preds, species_weight=(1), subspecies_weight=(0.3))"
   ]
  },
  {
   "cell_type": "code",
   "execution_count": 126,
   "id": "62cee5c3-761d-40b9-b634-217695657b27",
   "metadata": {},
   "outputs": [
    {
     "data": {
      "text/html": [
       "<div>\n",
       "<style scoped>\n",
       "    .dataframe tbody tr th:only-of-type {\n",
       "        vertical-align: middle;\n",
       "    }\n",
       "\n",
       "    .dataframe tbody tr th {\n",
       "        vertical-align: top;\n",
       "    }\n",
       "\n",
       "    .dataframe thead th {\n",
       "        text-align: right;\n",
       "    }\n",
       "</style>\n",
       "<table border=\"1\" class=\"dataframe\">\n",
       "  <thead>\n",
       "    <tr style=\"text-align: right;\">\n",
       "      <th></th>\n",
       "      <th>image_path</th>\n",
       "      <th>label</th>\n",
       "      <th>proba</th>\n",
       "      <th>max_prob</th>\n",
       "      <th>class_pred</th>\n",
       "      <th>combined_class_pred</th>\n",
       "    </tr>\n",
       "    <tr>\n",
       "      <th>id</th>\n",
       "      <th></th>\n",
       "      <th></th>\n",
       "      <th></th>\n",
       "      <th></th>\n",
       "      <th></th>\n",
       "      <th></th>\n",
       "    </tr>\n",
       "  </thead>\n",
       "  <tbody>\n",
       "    <tr>\n",
       "      <th>1</th>\n",
       "      <td>/test_images/999.jpg</td>\n",
       "      <td>1</td>\n",
       "      <td>[[8.116693e-07, 2.9847076e-06, 2.7479325e-06, ...</td>\n",
       "      <td>0.660688</td>\n",
       "      <td>67</td>\n",
       "      <td>67</td>\n",
       "    </tr>\n",
       "    <tr>\n",
       "      <th>2</th>\n",
       "      <td>/test_images/998.jpg</td>\n",
       "      <td>1</td>\n",
       "      <td>[[1.0035847e-05, 4.539881e-06, 1.8316654e-05, ...</td>\n",
       "      <td>0.155374</td>\n",
       "      <td>40</td>\n",
       "      <td>40</td>\n",
       "    </tr>\n",
       "    <tr>\n",
       "      <th>3</th>\n",
       "      <td>/test_images/997.jpg</td>\n",
       "      <td>1</td>\n",
       "      <td>[[1.0666555e-05, 5.947721e-07, 0.00010206009, ...</td>\n",
       "      <td>0.870824</td>\n",
       "      <td>74</td>\n",
       "      <td>74</td>\n",
       "    </tr>\n",
       "    <tr>\n",
       "      <th>4</th>\n",
       "      <td>/test_images/996.jpg</td>\n",
       "      <td>1</td>\n",
       "      <td>[[9.02112e-08, 6.683589e-08, 9.654332e-09, 5.7...</td>\n",
       "      <td>0.999869</td>\n",
       "      <td>12</td>\n",
       "      <td>12</td>\n",
       "    </tr>\n",
       "    <tr>\n",
       "      <th>5</th>\n",
       "      <td>/test_images/995.jpg</td>\n",
       "      <td>1</td>\n",
       "      <td>[[4.291657e-06, 7.37072e-07, 3.156306e-05, 4.2...</td>\n",
       "      <td>0.950021</td>\n",
       "      <td>74</td>\n",
       "      <td>74</td>\n",
       "    </tr>\n",
       "    <tr>\n",
       "      <th>...</th>\n",
       "      <td>...</td>\n",
       "      <td>...</td>\n",
       "      <td>...</td>\n",
       "      <td>...</td>\n",
       "      <td>...</td>\n",
       "      <td>...</td>\n",
       "    </tr>\n",
       "    <tr>\n",
       "      <th>3996</th>\n",
       "      <td>/test_images/1001.jpg</td>\n",
       "      <td>1</td>\n",
       "      <td>[[1.4920279e-05, 0.00015527118, 0.00025089414,...</td>\n",
       "      <td>0.468822</td>\n",
       "      <td>160</td>\n",
       "      <td>160</td>\n",
       "    </tr>\n",
       "    <tr>\n",
       "      <th>3997</th>\n",
       "      <td>/test_images/1000.jpg</td>\n",
       "      <td>1</td>\n",
       "      <td>[[2.3026662e-06, 1.2521453e-05, 1.9680674e-06,...</td>\n",
       "      <td>0.474858</td>\n",
       "      <td>98</td>\n",
       "      <td>98</td>\n",
       "    </tr>\n",
       "    <tr>\n",
       "      <th>3998</th>\n",
       "      <td>/test_images/100.jpg</td>\n",
       "      <td>1</td>\n",
       "      <td>[[2.4344438e-06, 6.066472e-05, 8.840729e-06, 1...</td>\n",
       "      <td>0.630290</td>\n",
       "      <td>135</td>\n",
       "      <td>135</td>\n",
       "    </tr>\n",
       "    <tr>\n",
       "      <th>3999</th>\n",
       "      <td>/test_images/10.jpg</td>\n",
       "      <td>1</td>\n",
       "      <td>[[3.4149296e-05, 0.00012497304, 0.0001374703, ...</td>\n",
       "      <td>0.327817</td>\n",
       "      <td>62</td>\n",
       "      <td>62</td>\n",
       "    </tr>\n",
       "    <tr>\n",
       "      <th>4000</th>\n",
       "      <td>/test_images/1.jpg</td>\n",
       "      <td>1</td>\n",
       "      <td>[[4.6172187e-07, 4.821764e-05, 6.275565e-06, 0...</td>\n",
       "      <td>0.715270</td>\n",
       "      <td>111</td>\n",
       "      <td>111</td>\n",
       "    </tr>\n",
       "  </tbody>\n",
       "</table>\n",
       "<p>3361 rows × 6 columns</p>\n",
       "</div>"
      ],
      "text/plain": [
       "                 image_path  label  \\\n",
       "id                                   \n",
       "1      /test_images/999.jpg      1   \n",
       "2      /test_images/998.jpg      1   \n",
       "3      /test_images/997.jpg      1   \n",
       "4      /test_images/996.jpg      1   \n",
       "5      /test_images/995.jpg      1   \n",
       "...                     ...    ...   \n",
       "3996  /test_images/1001.jpg      1   \n",
       "3997  /test_images/1000.jpg      1   \n",
       "3998   /test_images/100.jpg      1   \n",
       "3999    /test_images/10.jpg      1   \n",
       "4000     /test_images/1.jpg      1   \n",
       "\n",
       "                                                  proba  max_prob  class_pred  \\\n",
       "id                                                                              \n",
       "1     [[8.116693e-07, 2.9847076e-06, 2.7479325e-06, ...  0.660688          67   \n",
       "2     [[1.0035847e-05, 4.539881e-06, 1.8316654e-05, ...  0.155374          40   \n",
       "3     [[1.0666555e-05, 5.947721e-07, 0.00010206009, ...  0.870824          74   \n",
       "4     [[9.02112e-08, 6.683589e-08, 9.654332e-09, 5.7...  0.999869          12   \n",
       "5     [[4.291657e-06, 7.37072e-07, 3.156306e-05, 4.2...  0.950021          74   \n",
       "...                                                 ...       ...         ...   \n",
       "3996  [[1.4920279e-05, 0.00015527118, 0.00025089414,...  0.468822         160   \n",
       "3997  [[2.3026662e-06, 1.2521453e-05, 1.9680674e-06,...  0.474858          98   \n",
       "3998  [[2.4344438e-06, 6.066472e-05, 8.840729e-06, 1...  0.630290         135   \n",
       "3999  [[3.4149296e-05, 0.00012497304, 0.0001374703, ...  0.327817          62   \n",
       "4000  [[4.6172187e-07, 4.821764e-05, 6.275565e-06, 0...  0.715270         111   \n",
       "\n",
       "      combined_class_pred  \n",
       "id                         \n",
       "1                      67  \n",
       "2                      40  \n",
       "3                      74  \n",
       "4                      12  \n",
       "5                      74  \n",
       "...                   ...  \n",
       "3996                  160  \n",
       "3997                   98  \n",
       "3998                  135  \n",
       "3999                   62  \n",
       "4000                  111  \n",
       "\n",
       "[3361 rows x 6 columns]"
      ]
     },
     "execution_count": 126,
     "metadata": {},
     "output_type": "execute_result"
    }
   ],
   "source": [
    "result[result[\"class_pred\"]==result[\"combined_class_pred\"]]"
   ]
  },
  {
   "cell_type": "code",
   "execution_count": 128,
   "id": "9938bd9b-d993-4057-bc5f-649a5a82867d",
   "metadata": {},
   "outputs": [],
   "source": [
    "result[\"combined_class_pred\"].to_csv(\"species_stacking.csv\")"
   ]
  }
 ],
 "metadata": {
  "kernelspec": {
   "display_name": "Python 3 (ipykernel)",
   "language": "python",
   "name": "python3"
  },
  "language_info": {
   "codemirror_mode": {
    "name": "ipython",
    "version": 3
   },
   "file_extension": ".py",
   "mimetype": "text/x-python",
   "name": "python",
   "nbconvert_exporter": "python",
   "pygments_lexer": "ipython3",
   "version": "3.10.13"
  }
 },
 "nbformat": 4,
 "nbformat_minor": 5
}
