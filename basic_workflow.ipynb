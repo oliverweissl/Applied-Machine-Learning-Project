{
 "cells": [
  {
   "cell_type": "code",
   "execution_count": null,
   "id": "initial_id",
   "metadata": {
    "collapsed": true
   },
   "outputs": [],
   "source": [
    "import pandas as pd\n",
    "from models import base_res_net, small_res_net, efficient_net\n",
    "import tensorflow as tf\n",
    "import tensorflow.compat.v1 as tfc\n",
    "\n",
    "from src import InputPipeline\n",
    "\n",
    "%load_ext autoreload\n",
    "%autoreload 2"
   ]
  },
  {
   "cell_type": "markdown",
   "source": [
    "## Check GPU for tf"
   ],
   "metadata": {
    "collapsed": false
   },
   "id": "627a750892efbdf9"
  },
  {
   "cell_type": "code",
   "execution_count": null,
   "outputs": [],
   "source": [
    "# Some GPU setup\n",
    "# for documentation about using gpus refer to: https://www.tensorflow.org/install/pip#windows-wsl2\n",
    "\n",
    "tf.keras.backend.clear_session()\n",
    "\n",
    "device_name = tf.test.gpu_device_name()\n",
    "if not device_name:\n",
    "  raise SystemError('GPU device not found')\n",
    "try:  # prevent a previous session from being alive\n",
    "  sess.close() \n",
    "except:\n",
    "  pass\n",
    "\n",
    "tfc.enable_eager_execution()\n",
    "gpu_options= tfc.GPUOptions(per_process_gpu_memory_fraction = 0.8)\n",
    "sess = tfc.InteractiveSession(config=tfc.ConfigProto(gpu_options=gpu_options))"
   ],
   "metadata": {
    "collapsed": false
   },
   "id": "20f7764292bb4e8f"
  },
  {
   "cell_type": "markdown",
   "source": [
    "### Optional Stuff"
   ],
   "metadata": {
    "collapsed": false
   },
   "id": "2bd6fa03166027bf"
  },
  {
   "cell_type": "code",
   "execution_count": null,
   "outputs": [],
   "source": [
    "train_df = pd.read_csv(\"data/train_images.csv\")\n",
    "class_weights = train_df[\"label\"].value_counts()"
   ],
   "metadata": {
    "collapsed": false
   },
   "id": "dbbeb2f7c31d69b5"
  },
  {
   "cell_type": "code",
   "execution_count": null,
   "outputs": [],
   "source": [
    "class_weights = class_weights / sum(class_weights)\n",
    "class_weights = {k-1: v for k,v in class_weights.to_dict().items()}"
   ],
   "metadata": {
    "collapsed": false
   },
   "id": "77c9b74db259162b"
  },
  {
   "cell_type": "markdown",
   "source": [
    "## Configure Parameters"
   ],
   "metadata": {
    "collapsed": false
   },
   "id": "cabc5747ca16eb86"
  },
  {
   "cell_type": "code",
   "execution_count": null,
   "outputs": [],
   "source": [
    "INPUT_SHAPE = (100,100,3)\n",
    "\n",
    "CONF = {\n",
    "  \"learning_rate\": 0.00001,\n",
    "  \"batch_size\": 16,\n",
    "  \"epochs\": 50,\n",
    "  \"loss_function\": \"sparse_categorical_crossentropy\",\n",
    "  \"metric\": \"accuracy\",\n",
    "  \"decay\": 0.00004\n",
    "}"
   ],
   "metadata": {
    "collapsed": false
   },
   "id": "b925aeaf5dd5bc8a"
  },
  {
   "cell_type": "markdown",
   "source": [
    "## Make Input Pipelines"
   ],
   "metadata": {
    "collapsed": false
   },
   "id": "a9d757ac727bb83d"
  },
  {
   "cell_type": "code",
   "execution_count": null,
   "outputs": [],
   "source": [
    "# Input pipeline for subspecies\n",
    "sub_species_input_pipeline = InputPipeline(splits=(0.8,0.0,0.2), channels=3, batch_size=CONF[\"batch_size\"], size=INPUT_SHAPE[:2])\n",
    "sub_species_input_pipeline.make_train_datasets(directory=\"data/train_images/train_images\")\n",
    "\n",
    "# Input pipeline for species\n",
    "species_input_pipeline = InputPipeline(splits=(0.8,0.0,0.2), channels=3, batch_size=CONF[\"batch_size\"], size=INPUT_SHAPE[:2])\n",
    "species_input_pipeline.make_train_datasets(directory=\"data/train_images/species_classify\")"
   ],
   "metadata": {
    "collapsed": false
   },
   "id": "7b661b3ee9ebcaac"
  },
  {
   "cell_type": "code",
   "execution_count": null,
   "outputs": [],
   "source": [
    "sub_species_cached_train, sub_species_cached_val = sub_species_input_pipeline.get_cached_train_datasets()\n",
    "species_cached_train, species_cached_val = species_input_pipeline.get_cached_train_datasets()"
   ],
   "metadata": {
    "collapsed": false
   },
   "id": "ca900ffde88390ca"
  },
  {
   "cell_type": "markdown",
   "source": [
    "## Training a Model"
   ],
   "metadata": {
    "collapsed": false
   },
   "id": "ac46ea2dd7c43927"
  },
  {
   "cell_type": "code",
   "execution_count": null,
   "outputs": [],
   "source": [
    "from modeling import train_classifier"
   ],
   "metadata": {
    "collapsed": false
   },
   "id": "cb7d66f05ef541bf"
  },
  {
   "cell_type": "code",
   "execution_count": null,
   "outputs": [],
   "source": [
    "# making the subspecies classifier\n",
    "train_classifier(\n",
    "  model_name=\"subspecies_classifier\",\n",
    "  input_shape=INPUT_SHAPE,\n",
    "  classes_to_classify=200,\n",
    "  configuration=CONF,\n",
    "  model=base_res_net, \n",
    "  train_dataset=sub_species_cached_train,\n",
    "  validation_dataset=sub_species_cached_val,\n",
    "  class_weights=class_weights,\n",
    ")"
   ],
   "metadata": {
    "collapsed": false
   },
   "id": "cc56b1cb55ea311b"
  },
  {
   "cell_type": "code",
   "execution_count": null,
   "outputs": [],
   "source": [
    "# making the species classifier\n",
    "train_classifier(\n",
    "  model_name=\"species_classifier\",\n",
    "  input_shape=INPUT_SHAPE,\n",
    "  classes_to_classify=70,\n",
    "  configuration=CONF,\n",
    "  model=efficient_net, \n",
    "  train_dataset=species_cached_train,\n",
    "  validation_dataset=species_cached_val,\n",
    ")"
   ],
   "metadata": {
    "collapsed": false
   },
   "id": "5941ba5f98ad9cfc"
  },
  {
   "cell_type": "markdown",
   "source": [
    "## Predict Stuff"
   ],
   "metadata": {
    "collapsed": false
   },
   "id": "38f09d3db498d1bd"
  },
  {
   "cell_type": "code",
   "execution_count": null,
   "outputs": [],
   "source": [
    "from modeling import predict\n",
    "import pickle"
   ],
   "metadata": {
    "collapsed": false
   },
   "id": "31867211f0ef523c"
  },
  {
   "cell_type": "code",
   "execution_count": null,
   "outputs": [],
   "source": [
    "with open(\"mapping.pickle\", \"rb+\") as f:\n",
    "  mapping = pickle.load(f)"
   ],
   "metadata": {
    "collapsed": false
   },
   "id": "75d0e57ae81101f8"
  },
  {
   "cell_type": "code",
   "execution_count": null,
   "outputs": [],
   "source": [
    "sub_species_input_pipeline.make_test_dataset(directory=\"data/test_images/test_images\")\n",
    "test_cached = sub_species_input_pipeline.get_cached_test_datasets()"
   ],
   "metadata": {
    "collapsed": false
   },
   "id": "1b565e9ffe11df3b"
  },
  {
   "cell_type": "code",
   "execution_count": null,
   "outputs": [],
   "source": [
    "predict(\n",
    "  species_classifier=\"species_classifier\",\n",
    "  subspecies_classifier=\"subspecies_classifier\",\n",
    "  dataset=test_cached,\n",
    "  species_subspecies_dict=mapping\n",
    ")"
   ],
   "metadata": {
    "collapsed": false
   },
   "id": "83dc918d28dd21e3"
  }
 ],
 "metadata": {
  "kernelspec": {
   "display_name": "Python 3",
   "language": "python",
   "name": "python3"
  },
  "language_info": {
   "codemirror_mode": {
    "name": "ipython",
    "version": 2
   },
   "file_extension": ".py",
   "mimetype": "text/x-python",
   "name": "python",
   "nbconvert_exporter": "python",
   "pygments_lexer": "ipython2",
   "version": "2.7.6"
  }
 },
 "nbformat": 4,
 "nbformat_minor": 5
}
