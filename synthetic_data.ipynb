{
 "cells": [
  {
   "cell_type": "code",
   "execution_count": null,
   "id": "7f766dcc-5572-4eaa-ba8e-ce5bb9abea43",
   "metadata": {
    "tags": []
   },
   "outputs": [],
   "source": [
    "import pandas as pd\n",
    "from skimage import io, transform\n",
    "import numpy as np\n",
    "import os"
   ]
  },
  {
   "cell_type": "code",
   "execution_count": null,
   "id": "c364d119-6f57-4102-9f21-641942711d29",
   "metadata": {
    "tags": []
   },
   "outputs": [],
   "source": [
    "train_csv = pd.read_csv(\"data/train_images.csv\")"
   ]
  },
  {
   "cell_type": "code",
   "execution_count": null,
   "id": "000e24c1-89d7-40e6-ad6d-570e253b8ecf",
   "metadata": {
    "tags": []
   },
   "outputs": [],
   "source": [
    "def rotate(input_path, angle, output_path):\n",
    "    img = io.imread(f\"data/train_images{input_path}\")\n",
    "    #rotated_img = transform.rotate(img, angle)\n",
    "    rotated_img = transform.rotate(img, angle)\n",
    "    rotated_img = (rotated_img * 255).astype(np.uint8)\n",
    "\n",
    "    io.imsave(f\"data/train_images{output_path}\", rotated_img)"
   ]
  },
  {
   "cell_type": "code",
   "execution_count": null,
   "id": "6a809096-12e4-4142-9406-649234fc8b12",
   "metadata": {
    "tags": []
   },
   "outputs": [],
   "source": [
    "# IMPORTANT assumption made that data is in /data subdirectory nexto the file structure from the initial zip.\n",
    "\n",
    "\n",
    "# rotation_angles = [45, 90, 135, 180, 225, 270, 315]  # rotation angles used\n",
    "rotation_angles = [90]\n",
    "rotation_info = []\n",
    "\n",
    "\n",
    "for index, row in train_csv.iterrows():\n",
    "    img_path = row['image_path']\n",
    "    label = row['label']\n",
    "    \n",
    "    for angle in rotation_angles:\n",
    "        file_name = os.path.basename(img_path)\n",
    "        name, extension = os.path.splitext(file_name)\n",
    "        output_path = f\"/train_images/{name}_{angle}.jpg\"\n",
    "        rotate(img_path, angle, output_path)\n",
    "        \n",
    "        rotation_info.append({\n",
    "            'image_path': output_path,\n",
    "            \"label\": label\n",
    "        })\n",
    "        \n",
    "rotated_info_df = pd.DataFrame(rotation_info)\n",
    "\n",
    "combined_df = pd.concat([train_csv, rotated_info_df], ignore_index=True)\n",
    "combined_df.to_csv(\"updated_train_images.csv\", index=False)"
   ]
  },
  {
   "cell_type": "code",
   "execution_count": null,
   "id": "abc1df9c-454f-470f-85ed-d99b99aaa024",
   "metadata": {},
   "outputs": [],
   "source": [
    "data/train_images/train_images/1.jpg"
   ]
  }
 ],
 "metadata": {
  "kernelspec": {
   "display_name": "Python 3 (ipykernel)",
   "language": "python",
   "name": "python3"
  },
  "language_info": {
   "codemirror_mode": {
    "name": "ipython",
    "version": 3
   },
   "file_extension": ".py",
   "mimetype": "text/x-python",
   "name": "python",
   "nbconvert_exporter": "python",
   "pygments_lexer": "ipython3",
   "version": "3.10.13"
  }
 },
 "nbformat": 4,
 "nbformat_minor": 5
}
