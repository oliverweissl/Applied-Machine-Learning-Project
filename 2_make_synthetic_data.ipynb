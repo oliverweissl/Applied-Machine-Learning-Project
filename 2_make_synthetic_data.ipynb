{
 "cells": [
  {
   "cell_type": "code",
   "execution_count": 2,
   "id": "c65656c7ae475201",
   "metadata": {
    "ExecuteTime": {
     "end_time": "2023-11-28T20:53:28.517518400Z",
     "start_time": "2023-11-28T20:53:04.783409300Z"
    },
    "collapsed": false,
    "jupyter": {
     "outputs_hidden": false
    }
   },
   "outputs": [],
   "source": [
    "from src import random_augmentation\n",
    "from glob import glob\n",
    "\n",
    "%load_ext autoreload\n",
    "%autoreload 2"
   ]
  },
  {
   "cell_type": "markdown",
   "id": "abd297fc64a92963",
   "metadata": {
    "collapsed": false,
    "jupyter": {
     "outputs_hidden": false
    }
   },
   "source": [
    "## Randomly Augment Images"
   ]
  },
  {
   "cell_type": "code",
   "execution_count": 3,
   "id": "f049eca232698731",
   "metadata": {
    "ExecuteTime": {
     "end_time": "2023-11-28T20:53:28.990514700Z",
     "start_time": "2023-11-28T20:53:28.517518400Z"
    },
    "collapsed": false,
    "jupyter": {
     "outputs_hidden": false
    }
   },
   "outputs": [],
   "source": [
    "subsp_images = glob(\"./data/train_images/train_images/**/*.jpg\")\n",
    "sp_images = glob(\"./data/train_images/species_classify/**/*.jpg\")"
   ]
  },
  {
   "cell_type": "code",
   "execution_count": 4,
   "id": "62b0cf12ad55e5cf",
   "metadata": {
    "ExecuteTime": {
     "end_time": "2023-11-28T20:57:15.606456800Z",
     "start_time": "2023-11-28T20:53:28.991518200Z"
    },
    "collapsed": false,
    "jupyter": {
     "outputs_hidden": false
    }
   },
   "outputs": [
    {
     "name": "stderr",
     "output_type": "stream",
     "text": [
      "100%|██████████| 3926/3926 [01:33<00:00, 42.04it/s]\n",
      "100%|██████████| 3926/3926 [01:32<00:00, 42.49it/s]\n",
      "100%|██████████| 3926/3926 [01:28<00:00, 44.33it/s]\n",
      "100%|██████████| 3926/3926 [01:27<00:00, 45.07it/s]\n",
      "100%|██████████| 3926/3926 [01:28<00:00, 44.42it/s]\n",
      "100%|██████████| 3926/3926 [01:28<00:00, 44.12it/s]\n",
      "100%|██████████| 3926/3926 [01:32<00:00, 42.61it/s]\n",
      "100%|██████████| 3926/3926 [01:36<00:00, 40.78it/s]\n",
      "100%|██████████| 3926/3926 [01:34<00:00, 41.73it/s]\n",
      "100%|██████████| 3926/3926 [01:34<00:00, 41.40it/s]\n"
     ]
    }
   ],
   "source": [
    "for _ in range(10):\n",
    "    random_augmentation(subsp_images, p=0.4)"
   ]
  },
  {
   "cell_type": "code",
   "execution_count": 5,
   "id": "81592af744c42b1f",
   "metadata": {
    "ExecuteTime": {
     "end_time": "2023-11-28T21:01:06.450158300Z",
     "start_time": "2023-11-28T20:57:15.610457800Z"
    },
    "collapsed": false,
    "jupyter": {
     "outputs_hidden": false
    }
   },
   "outputs": [
    {
     "name": "stderr",
     "output_type": "stream",
     "text": [
      "100%|██████████| 3926/3926 [01:52<00:00, 35.03it/s]\n",
      "100%|██████████| 3926/3926 [01:34<00:00, 41.35it/s]\n",
      "100%|██████████| 3926/3926 [01:33<00:00, 42.19it/s]\n",
      "100%|██████████| 3926/3926 [01:33<00:00, 42.06it/s]\n",
      "100%|██████████| 3926/3926 [01:35<00:00, 41.12it/s]\n",
      "100%|██████████| 3926/3926 [01:32<00:00, 42.22it/s]\n",
      "100%|██████████| 3926/3926 [01:33<00:00, 41.83it/s]\n",
      "100%|██████████| 3926/3926 [01:36<00:00, 40.84it/s]\n",
      "100%|██████████| 3926/3926 [01:37<00:00, 40.47it/s]\n",
      "100%|██████████| 3926/3926 [01:32<00:00, 42.24it/s]\n"
     ]
    }
   ],
   "source": [
    "for _ in range(10):\n",
    "    random_augmentation(sp_images, p=0.4)"
   ]
  },
  {
   "cell_type": "code",
   "execution_count": null,
   "id": "d96577c6cb2a31fc",
   "metadata": {
    "collapsed": false,
    "jupyter": {
     "outputs_hidden": false
    }
   },
   "outputs": [],
   "source": []
  }
 ],
 "metadata": {
  "kernelspec": {
   "display_name": "Python 3 (ipykernel)",
   "language": "python",
   "name": "python3"
  },
  "language_info": {
   "codemirror_mode": {
    "name": "ipython",
    "version": 3
   },
   "file_extension": ".py",
   "mimetype": "text/x-python",
   "name": "python",
   "nbconvert_exporter": "python",
   "pygments_lexer": "ipython3",
   "version": "3.10.13"
  }
 },
 "nbformat": 4,
 "nbformat_minor": 5
}
